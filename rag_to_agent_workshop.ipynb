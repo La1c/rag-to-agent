{
 "cells": [
  {
   "cell_type": "code",
   "execution_count": 1,
   "metadata": {},
   "outputs": [],
   "source": [
    "%load_ext autoreload\n",
    "%autoreload 2"
   ]
  },
  {
   "cell_type": "markdown",
   "metadata": {
    "id": "704p-BTfgiNI"
   },
   "source": [
    "# Beyond RAG: From Retrieval to Agentic Systems"
   ]
  },
  {
   "cell_type": "markdown",
   "metadata": {
    "id": "sSlrVQCegp1Z"
   },
   "source": [
    "Author: [Vladimir Ageev](www.linkedin.com/in/vladimir-ageev-ds)  \n",
    "DS / MLE with experience in recommendation systems and NLP  \n",
    "Currently involved in a project on building a RAG for a search product"
   ]
  },
  {
   "cell_type": "markdown",
   "metadata": {},
   "source": [
    "## Topics and goals\n",
    "\n",
    "1. Terminology & context\n",
    "2. RAG Limitations\n",
    "3. Tools\n",
    "4. Agentic system\n",
    "\n",
    "\n",
    "I hope this session will introduce you to:\n",
    "- RAG, structured outputs\n",
    "- Agents & workflows in Langgraph\n",
    "- MCP\n",
    "- Planning & Multi-agency"
   ]
  },
  {
   "cell_type": "markdown",
   "metadata": {
    "id": "M2EHqjRZfJEh"
   },
   "source": [
    "### Installing dependencies"
   ]
  },
  {
   "cell_type": "code",
   "execution_count": 2,
   "metadata": {},
   "outputs": [
    {
     "name": "stdout",
     "output_type": "stream",
     "text": [
      "Requirement already satisfied: ipykernel~=6.30.1 in /Users/vladimir/miniconda3/envs/agents-workshop/lib/python3.13/site-packages (from -r requirements.in (line 1)) (6.30.1)\n",
      "Requirement already satisfied: python-dotenv~=1.1.1 in /Users/vladimir/miniconda3/envs/agents-workshop/lib/python3.13/site-packages (from -r requirements.in (line 2)) (1.1.1)\n",
      "Requirement already satisfied: datasets~=4.0.0 in /Users/vladimir/miniconda3/envs/agents-workshop/lib/python3.13/site-packages (from -r requirements.in (line 3)) (4.0.0)\n",
      "Requirement already satisfied: gdown~=5.2.0 in /Users/vladimir/miniconda3/envs/agents-workshop/lib/python3.13/site-packages (from -r requirements.in (line 4)) (5.2.0)\n",
      "Requirement already satisfied: chromadb~=1.0.20 in /Users/vladimir/miniconda3/envs/agents-workshop/lib/python3.13/site-packages (from -r requirements.in (line 5)) (1.0.20)\n",
      "Requirement already satisfied: langchain~=0.3.27 in /Users/vladimir/miniconda3/envs/agents-workshop/lib/python3.13/site-packages (from -r requirements.in (line 6)) (0.3.27)\n",
      "Requirement already satisfied: langchain-community~=0.3.29 in /Users/vladimir/miniconda3/envs/agents-workshop/lib/python3.13/site-packages (from -r requirements.in (line 7)) (0.3.29)\n",
      "Requirement already satisfied: langchain-chroma~=0.2.5 in /Users/vladimir/miniconda3/envs/agents-workshop/lib/python3.13/site-packages (from -r requirements.in (line 8)) (0.2.5)\n",
      "Requirement already satisfied: langchain-openai~=0.3.32 in /Users/vladimir/miniconda3/envs/agents-workshop/lib/python3.13/site-packages (from -r requirements.in (line 9)) (0.3.32)\n",
      "Requirement already satisfied: langchain-mcp-adapters~=0.1.9 in /Users/vladimir/miniconda3/envs/agents-workshop/lib/python3.13/site-packages (from -r requirements.in (line 10)) (0.1.9)\n",
      "Requirement already satisfied: langgraph~=0.6.6 in /Users/vladimir/miniconda3/envs/agents-workshop/lib/python3.13/site-packages (from -r requirements.in (line 11)) (0.6.6)\n",
      "Requirement already satisfied: ragas~=0.3.2 in /Users/vladimir/miniconda3/envs/agents-workshop/lib/python3.13/site-packages (from -r requirements.in (line 12)) (0.3.2)\n",
      "Requirement already satisfied: sentence-transformers~=5.1.0 in /Users/vladimir/miniconda3/envs/agents-workshop/lib/python3.13/site-packages (from -r requirements.in (line 13)) (5.1.0)\n",
      "Requirement already satisfied: langfuse~=3.3.2 in /Users/vladimir/miniconda3/envs/agents-workshop/lib/python3.13/site-packages (from -r requirements.in (line 14)) (3.3.2)\n",
      "Requirement already satisfied: mcp~=1.13.1 in /Users/vladimir/miniconda3/envs/agents-workshop/lib/python3.13/site-packages (from mcp[cli]~=1.13.1->-r requirements.in (line 15)) (1.13.1)\n",
      "Requirement already satisfied: httpx~=0.28.1 in /Users/vladimir/miniconda3/envs/agents-workshop/lib/python3.13/site-packages (from -r requirements.in (line 16)) (0.28.1)\n",
      "Requirement already satisfied: tavily-python~=0.7.11 in /Users/vladimir/miniconda3/envs/agents-workshop/lib/python3.13/site-packages (from -r requirements.in (line 17)) (0.7.11)\n",
      "Requirement already satisfied: black~=25.1.0 in /Users/vladimir/miniconda3/envs/agents-workshop/lib/python3.13/site-packages (from black[jupyter]~=25.1.0->-r requirements.in (line 18)) (25.1.0)\n",
      "Requirement already satisfied: rich~=14.1.0 in /Users/vladimir/miniconda3/envs/agents-workshop/lib/python3.13/site-packages (from -r requirements.in (line 19)) (14.1.0)\n",
      "Requirement already satisfied: nest_asyncio in /Users/vladimir/miniconda3/envs/agents-workshop/lib/python3.13/site-packages (from -r requirements.in (line 20)) (1.6.0)\n",
      "Requirement already satisfied: appnope>=0.1.2 in /Users/vladimir/miniconda3/envs/agents-workshop/lib/python3.13/site-packages (from ipykernel~=6.30.1->-r requirements.in (line 1)) (0.1.4)\n",
      "Requirement already satisfied: comm>=0.1.1 in /Users/vladimir/miniconda3/envs/agents-workshop/lib/python3.13/site-packages (from ipykernel~=6.30.1->-r requirements.in (line 1)) (0.2.3)\n",
      "Requirement already satisfied: debugpy>=1.6.5 in /Users/vladimir/miniconda3/envs/agents-workshop/lib/python3.13/site-packages (from ipykernel~=6.30.1->-r requirements.in (line 1)) (1.8.16)\n",
      "Requirement already satisfied: ipython>=7.23.1 in /Users/vladimir/miniconda3/envs/agents-workshop/lib/python3.13/site-packages (from ipykernel~=6.30.1->-r requirements.in (line 1)) (9.4.0)\n",
      "Requirement already satisfied: jupyter-client>=8.0.0 in /Users/vladimir/miniconda3/envs/agents-workshop/lib/python3.13/site-packages (from ipykernel~=6.30.1->-r requirements.in (line 1)) (8.6.3)\n",
      "Requirement already satisfied: jupyter-core!=5.0.*,>=4.12 in /Users/vladimir/miniconda3/envs/agents-workshop/lib/python3.13/site-packages (from ipykernel~=6.30.1->-r requirements.in (line 1)) (5.8.1)\n",
      "Requirement already satisfied: matplotlib-inline>=0.1 in /Users/vladimir/miniconda3/envs/agents-workshop/lib/python3.13/site-packages (from ipykernel~=6.30.1->-r requirements.in (line 1)) (0.1.7)\n",
      "Requirement already satisfied: packaging>=22 in /Users/vladimir/miniconda3/envs/agents-workshop/lib/python3.13/site-packages (from ipykernel~=6.30.1->-r requirements.in (line 1)) (25.0)\n",
      "Requirement already satisfied: psutil>=5.7 in /Users/vladimir/miniconda3/envs/agents-workshop/lib/python3.13/site-packages (from ipykernel~=6.30.1->-r requirements.in (line 1)) (7.0.0)\n",
      "Requirement already satisfied: pyzmq>=25 in /Users/vladimir/miniconda3/envs/agents-workshop/lib/python3.13/site-packages (from ipykernel~=6.30.1->-r requirements.in (line 1)) (27.0.2)\n",
      "Requirement already satisfied: tornado>=6.2 in /Users/vladimir/miniconda3/envs/agents-workshop/lib/python3.13/site-packages (from ipykernel~=6.30.1->-r requirements.in (line 1)) (6.5.2)\n",
      "Requirement already satisfied: traitlets>=5.4.0 in /Users/vladimir/miniconda3/envs/agents-workshop/lib/python3.13/site-packages (from ipykernel~=6.30.1->-r requirements.in (line 1)) (5.14.3)\n",
      "Requirement already satisfied: filelock in /Users/vladimir/miniconda3/envs/agents-workshop/lib/python3.13/site-packages (from datasets~=4.0.0->-r requirements.in (line 3)) (3.19.1)\n",
      "Requirement already satisfied: numpy>=1.17 in /Users/vladimir/miniconda3/envs/agents-workshop/lib/python3.13/site-packages (from datasets~=4.0.0->-r requirements.in (line 3)) (2.3.2)\n",
      "Requirement already satisfied: pyarrow>=15.0.0 in /Users/vladimir/miniconda3/envs/agents-workshop/lib/python3.13/site-packages (from datasets~=4.0.0->-r requirements.in (line 3)) (21.0.0)\n",
      "Requirement already satisfied: dill<0.3.9,>=0.3.0 in /Users/vladimir/miniconda3/envs/agents-workshop/lib/python3.13/site-packages (from datasets~=4.0.0->-r requirements.in (line 3)) (0.3.8)\n",
      "Requirement already satisfied: pandas in /Users/vladimir/miniconda3/envs/agents-workshop/lib/python3.13/site-packages (from datasets~=4.0.0->-r requirements.in (line 3)) (2.3.2)\n",
      "Requirement already satisfied: requests>=2.32.2 in /Users/vladimir/miniconda3/envs/agents-workshop/lib/python3.13/site-packages (from datasets~=4.0.0->-r requirements.in (line 3)) (2.32.5)\n",
      "Requirement already satisfied: tqdm>=4.66.3 in /Users/vladimir/miniconda3/envs/agents-workshop/lib/python3.13/site-packages (from datasets~=4.0.0->-r requirements.in (line 3)) (4.67.1)\n",
      "Requirement already satisfied: xxhash in /Users/vladimir/miniconda3/envs/agents-workshop/lib/python3.13/site-packages (from datasets~=4.0.0->-r requirements.in (line 3)) (3.5.0)\n",
      "Requirement already satisfied: multiprocess<0.70.17 in /Users/vladimir/miniconda3/envs/agents-workshop/lib/python3.13/site-packages (from datasets~=4.0.0->-r requirements.in (line 3)) (0.70.16)\n",
      "Requirement already satisfied: fsspec<=2025.3.0,>=2023.1.0 in /Users/vladimir/miniconda3/envs/agents-workshop/lib/python3.13/site-packages (from fsspec[http]<=2025.3.0,>=2023.1.0->datasets~=4.0.0->-r requirements.in (line 3)) (2025.3.0)\n",
      "Requirement already satisfied: huggingface-hub>=0.24.0 in /Users/vladimir/miniconda3/envs/agents-workshop/lib/python3.13/site-packages (from datasets~=4.0.0->-r requirements.in (line 3)) (0.34.4)\n",
      "Requirement already satisfied: pyyaml>=5.1 in /Users/vladimir/miniconda3/envs/agents-workshop/lib/python3.13/site-packages (from datasets~=4.0.0->-r requirements.in (line 3)) (6.0.2)\n",
      "Requirement already satisfied: beautifulsoup4 in /Users/vladimir/miniconda3/envs/agents-workshop/lib/python3.13/site-packages (from gdown~=5.2.0->-r requirements.in (line 4)) (4.13.5)\n",
      "Requirement already satisfied: build>=1.0.3 in /Users/vladimir/miniconda3/envs/agents-workshop/lib/python3.13/site-packages (from chromadb~=1.0.20->-r requirements.in (line 5)) (1.3.0)\n",
      "Requirement already satisfied: pydantic>=1.9 in /Users/vladimir/miniconda3/envs/agents-workshop/lib/python3.13/site-packages (from chromadb~=1.0.20->-r requirements.in (line 5)) (2.11.7)\n",
      "Requirement already satisfied: pybase64>=1.4.1 in /Users/vladimir/miniconda3/envs/agents-workshop/lib/python3.13/site-packages (from chromadb~=1.0.20->-r requirements.in (line 5)) (1.4.2)\n",
      "Requirement already satisfied: uvicorn>=0.18.3 in /Users/vladimir/miniconda3/envs/agents-workshop/lib/python3.13/site-packages (from uvicorn[standard]>=0.18.3->chromadb~=1.0.20->-r requirements.in (line 5)) (0.35.0)\n",
      "Requirement already satisfied: posthog<6.0.0,>=2.4.0 in /Users/vladimir/miniconda3/envs/agents-workshop/lib/python3.13/site-packages (from chromadb~=1.0.20->-r requirements.in (line 5)) (5.4.0)\n",
      "Requirement already satisfied: typing-extensions>=4.5.0 in /Users/vladimir/miniconda3/envs/agents-workshop/lib/python3.13/site-packages (from chromadb~=1.0.20->-r requirements.in (line 5)) (4.15.0)\n",
      "Requirement already satisfied: onnxruntime>=1.14.1 in /Users/vladimir/miniconda3/envs/agents-workshop/lib/python3.13/site-packages (from chromadb~=1.0.20->-r requirements.in (line 5)) (1.22.1)\n",
      "Requirement already satisfied: opentelemetry-api>=1.2.0 in /Users/vladimir/miniconda3/envs/agents-workshop/lib/python3.13/site-packages (from chromadb~=1.0.20->-r requirements.in (line 5)) (1.36.0)\n",
      "Requirement already satisfied: opentelemetry-exporter-otlp-proto-grpc>=1.2.0 in /Users/vladimir/miniconda3/envs/agents-workshop/lib/python3.13/site-packages (from chromadb~=1.0.20->-r requirements.in (line 5)) (1.36.0)\n",
      "Requirement already satisfied: opentelemetry-sdk>=1.2.0 in /Users/vladimir/miniconda3/envs/agents-workshop/lib/python3.13/site-packages (from chromadb~=1.0.20->-r requirements.in (line 5)) (1.36.0)\n",
      "Requirement already satisfied: tokenizers>=0.13.2 in /Users/vladimir/miniconda3/envs/agents-workshop/lib/python3.13/site-packages (from chromadb~=1.0.20->-r requirements.in (line 5)) (0.21.4)\n",
      "Requirement already satisfied: pypika>=0.48.9 in /Users/vladimir/miniconda3/envs/agents-workshop/lib/python3.13/site-packages (from chromadb~=1.0.20->-r requirements.in (line 5)) (0.48.9)\n",
      "Requirement already satisfied: overrides>=7.3.1 in /Users/vladimir/miniconda3/envs/agents-workshop/lib/python3.13/site-packages (from chromadb~=1.0.20->-r requirements.in (line 5)) (7.7.0)\n",
      "Requirement already satisfied: importlib-resources in /Users/vladimir/miniconda3/envs/agents-workshop/lib/python3.13/site-packages (from chromadb~=1.0.20->-r requirements.in (line 5)) (6.5.2)\n",
      "Requirement already satisfied: grpcio>=1.58.0 in /Users/vladimir/miniconda3/envs/agents-workshop/lib/python3.13/site-packages (from chromadb~=1.0.20->-r requirements.in (line 5)) (1.74.0)\n",
      "Requirement already satisfied: bcrypt>=4.0.1 in /Users/vladimir/miniconda3/envs/agents-workshop/lib/python3.13/site-packages (from chromadb~=1.0.20->-r requirements.in (line 5)) (4.3.0)\n",
      "Requirement already satisfied: typer>=0.9.0 in /Users/vladimir/miniconda3/envs/agents-workshop/lib/python3.13/site-packages (from chromadb~=1.0.20->-r requirements.in (line 5)) (0.16.1)\n",
      "Requirement already satisfied: kubernetes>=28.1.0 in /Users/vladimir/miniconda3/envs/agents-workshop/lib/python3.13/site-packages (from chromadb~=1.0.20->-r requirements.in (line 5)) (33.1.0)\n",
      "Requirement already satisfied: tenacity>=8.2.3 in /Users/vladimir/miniconda3/envs/agents-workshop/lib/python3.13/site-packages (from chromadb~=1.0.20->-r requirements.in (line 5)) (9.1.2)\n",
      "Requirement already satisfied: mmh3>=4.0.1 in /Users/vladimir/miniconda3/envs/agents-workshop/lib/python3.13/site-packages (from chromadb~=1.0.20->-r requirements.in (line 5)) (5.2.0)\n",
      "Requirement already satisfied: orjson>=3.9.12 in /Users/vladimir/miniconda3/envs/agents-workshop/lib/python3.13/site-packages (from chromadb~=1.0.20->-r requirements.in (line 5)) (3.11.3)\n",
      "Requirement already satisfied: jsonschema>=4.19.0 in /Users/vladimir/miniconda3/envs/agents-workshop/lib/python3.13/site-packages (from chromadb~=1.0.20->-r requirements.in (line 5)) (4.25.1)\n",
      "Requirement already satisfied: langchain-core<1.0.0,>=0.3.72 in /Users/vladimir/miniconda3/envs/agents-workshop/lib/python3.13/site-packages (from langchain~=0.3.27->-r requirements.in (line 6)) (0.3.75)\n",
      "Requirement already satisfied: langchain-text-splitters<1.0.0,>=0.3.9 in /Users/vladimir/miniconda3/envs/agents-workshop/lib/python3.13/site-packages (from langchain~=0.3.27->-r requirements.in (line 6)) (0.3.10)\n",
      "Requirement already satisfied: langsmith>=0.1.17 in /Users/vladimir/miniconda3/envs/agents-workshop/lib/python3.13/site-packages (from langchain~=0.3.27->-r requirements.in (line 6)) (0.4.20)\n",
      "Requirement already satisfied: SQLAlchemy<3,>=1.4 in /Users/vladimir/miniconda3/envs/agents-workshop/lib/python3.13/site-packages (from langchain~=0.3.27->-r requirements.in (line 6)) (2.0.43)\n",
      "Requirement already satisfied: aiohttp<4.0.0,>=3.8.3 in /Users/vladimir/miniconda3/envs/agents-workshop/lib/python3.13/site-packages (from langchain-community~=0.3.29->-r requirements.in (line 7)) (3.12.15)\n",
      "Requirement already satisfied: dataclasses-json<0.7,>=0.6.7 in /Users/vladimir/miniconda3/envs/agents-workshop/lib/python3.13/site-packages (from langchain-community~=0.3.29->-r requirements.in (line 7)) (0.6.7)\n",
      "Requirement already satisfied: pydantic-settings<3.0.0,>=2.10.1 in /Users/vladimir/miniconda3/envs/agents-workshop/lib/python3.13/site-packages (from langchain-community~=0.3.29->-r requirements.in (line 7)) (2.10.1)\n",
      "Requirement already satisfied: httpx-sse<1.0.0,>=0.4.0 in /Users/vladimir/miniconda3/envs/agents-workshop/lib/python3.13/site-packages (from langchain-community~=0.3.29->-r requirements.in (line 7)) (0.4.1)\n",
      "Requirement already satisfied: openai<2.0.0,>=1.99.9 in /Users/vladimir/miniconda3/envs/agents-workshop/lib/python3.13/site-packages (from langchain-openai~=0.3.32->-r requirements.in (line 9)) (1.102.0)\n",
      "Requirement already satisfied: tiktoken<1,>=0.7 in /Users/vladimir/miniconda3/envs/agents-workshop/lib/python3.13/site-packages (from langchain-openai~=0.3.32->-r requirements.in (line 9)) (0.11.0)\n",
      "Requirement already satisfied: langgraph-checkpoint<3.0.0,>=2.1.0 in /Users/vladimir/miniconda3/envs/agents-workshop/lib/python3.13/site-packages (from langgraph~=0.6.6->-r requirements.in (line 11)) (2.1.1)\n",
      "Requirement already satisfied: langgraph-prebuilt<0.7.0,>=0.6.0 in /Users/vladimir/miniconda3/envs/agents-workshop/lib/python3.13/site-packages (from langgraph~=0.6.6->-r requirements.in (line 11)) (0.6.4)\n",
      "Requirement already satisfied: langgraph-sdk<0.3.0,>=0.2.2 in /Users/vladimir/miniconda3/envs/agents-workshop/lib/python3.13/site-packages (from langgraph~=0.6.6->-r requirements.in (line 11)) (0.2.3)\n",
      "Requirement already satisfied: appdirs in /Users/vladimir/miniconda3/envs/agents-workshop/lib/python3.13/site-packages (from ragas~=0.3.2->-r requirements.in (line 12)) (1.4.4)\n",
      "Requirement already satisfied: diskcache>=5.6.3 in /Users/vladimir/miniconda3/envs/agents-workshop/lib/python3.13/site-packages (from ragas~=0.3.2->-r requirements.in (line 12)) (5.6.3)\n",
      "Requirement already satisfied: instructor in /Users/vladimir/miniconda3/envs/agents-workshop/lib/python3.13/site-packages (from ragas~=0.3.2->-r requirements.in (line 12)) (1.11.2)\n",
      "Requirement already satisfied: gitpython in /Users/vladimir/miniconda3/envs/agents-workshop/lib/python3.13/site-packages (from ragas~=0.3.2->-r requirements.in (line 12)) (3.1.45)\n",
      "Requirement already satisfied: pillow>=10.4.0 in /Users/vladimir/miniconda3/envs/agents-workshop/lib/python3.13/site-packages (from ragas~=0.3.2->-r requirements.in (line 12)) (11.3.0)\n",
      "Requirement already satisfied: transformers<5.0.0,>=4.41.0 in /Users/vladimir/miniconda3/envs/agents-workshop/lib/python3.13/site-packages (from sentence-transformers~=5.1.0->-r requirements.in (line 13)) (4.55.4)\n",
      "Requirement already satisfied: torch>=1.11.0 in /Users/vladimir/miniconda3/envs/agents-workshop/lib/python3.13/site-packages (from sentence-transformers~=5.1.0->-r requirements.in (line 13)) (2.8.0)\n",
      "Requirement already satisfied: scikit-learn in /Users/vladimir/miniconda3/envs/agents-workshop/lib/python3.13/site-packages (from sentence-transformers~=5.1.0->-r requirements.in (line 13)) (1.7.1)\n",
      "Requirement already satisfied: scipy in /Users/vladimir/miniconda3/envs/agents-workshop/lib/python3.13/site-packages (from sentence-transformers~=5.1.0->-r requirements.in (line 13)) (1.16.1)\n",
      "Requirement already satisfied: backoff>=1.10.0 in /Users/vladimir/miniconda3/envs/agents-workshop/lib/python3.13/site-packages (from langfuse~=3.3.2->-r requirements.in (line 14)) (2.2.1)\n",
      "Requirement already satisfied: opentelemetry-exporter-otlp-proto-http<2.0.0,>=1.33.1 in /Users/vladimir/miniconda3/envs/agents-workshop/lib/python3.13/site-packages (from langfuse~=3.3.2->-r requirements.in (line 14)) (1.36.0)\n",
      "Requirement already satisfied: wrapt<2.0,>=1.14 in /Users/vladimir/miniconda3/envs/agents-workshop/lib/python3.13/site-packages (from langfuse~=3.3.2->-r requirements.in (line 14)) (1.17.3)\n",
      "Requirement already satisfied: anyio>=4.5 in /Users/vladimir/miniconda3/envs/agents-workshop/lib/python3.13/site-packages (from mcp~=1.13.1->mcp[cli]~=1.13.1->-r requirements.in (line 15)) (4.10.0)\n",
      "Requirement already satisfied: python-multipart>=0.0.9 in /Users/vladimir/miniconda3/envs/agents-workshop/lib/python3.13/site-packages (from mcp~=1.13.1->mcp[cli]~=1.13.1->-r requirements.in (line 15)) (0.0.20)\n",
      "Requirement already satisfied: sse-starlette>=1.6.1 in /Users/vladimir/miniconda3/envs/agents-workshop/lib/python3.13/site-packages (from mcp~=1.13.1->mcp[cli]~=1.13.1->-r requirements.in (line 15)) (3.0.2)\n",
      "Requirement already satisfied: starlette>=0.27 in /Users/vladimir/miniconda3/envs/agents-workshop/lib/python3.13/site-packages (from mcp~=1.13.1->mcp[cli]~=1.13.1->-r requirements.in (line 15)) (0.47.3)\n",
      "Requirement already satisfied: certifi in /Users/vladimir/miniconda3/envs/agents-workshop/lib/python3.13/site-packages (from httpx~=0.28.1->-r requirements.in (line 16)) (2025.8.3)\n",
      "Requirement already satisfied: httpcore==1.* in /Users/vladimir/miniconda3/envs/agents-workshop/lib/python3.13/site-packages (from httpx~=0.28.1->-r requirements.in (line 16)) (1.0.9)\n",
      "Requirement already satisfied: idna in /Users/vladimir/miniconda3/envs/agents-workshop/lib/python3.13/site-packages (from httpx~=0.28.1->-r requirements.in (line 16)) (3.10)\n",
      "Requirement already satisfied: click>=8.0.0 in /Users/vladimir/miniconda3/envs/agents-workshop/lib/python3.13/site-packages (from black~=25.1.0->black[jupyter]~=25.1.0->-r requirements.in (line 18)) (8.2.1)\n",
      "Requirement already satisfied: mypy-extensions>=0.4.3 in /Users/vladimir/miniconda3/envs/agents-workshop/lib/python3.13/site-packages (from black~=25.1.0->black[jupyter]~=25.1.0->-r requirements.in (line 18)) (1.1.0)\n",
      "Requirement already satisfied: pathspec>=0.9.0 in /Users/vladimir/miniconda3/envs/agents-workshop/lib/python3.13/site-packages (from black~=25.1.0->black[jupyter]~=25.1.0->-r requirements.in (line 18)) (0.12.1)\n",
      "Requirement already satisfied: platformdirs>=2 in /Users/vladimir/miniconda3/envs/agents-workshop/lib/python3.13/site-packages (from black~=25.1.0->black[jupyter]~=25.1.0->-r requirements.in (line 18)) (4.4.0)\n",
      "Requirement already satisfied: markdown-it-py>=2.2.0 in /Users/vladimir/miniconda3/envs/agents-workshop/lib/python3.13/site-packages (from rich~=14.1.0->-r requirements.in (line 19)) (4.0.0)\n",
      "Requirement already satisfied: pygments<3.0.0,>=2.13.0 in /Users/vladimir/miniconda3/envs/agents-workshop/lib/python3.13/site-packages (from rich~=14.1.0->-r requirements.in (line 19)) (2.19.2)\n",
      "Requirement already satisfied: aiohappyeyeballs>=2.5.0 in /Users/vladimir/miniconda3/envs/agents-workshop/lib/python3.13/site-packages (from aiohttp<4.0.0,>=3.8.3->langchain-community~=0.3.29->-r requirements.in (line 7)) (2.6.1)\n",
      "Requirement already satisfied: aiosignal>=1.4.0 in /Users/vladimir/miniconda3/envs/agents-workshop/lib/python3.13/site-packages (from aiohttp<4.0.0,>=3.8.3->langchain-community~=0.3.29->-r requirements.in (line 7)) (1.4.0)\n",
      "Requirement already satisfied: attrs>=17.3.0 in /Users/vladimir/miniconda3/envs/agents-workshop/lib/python3.13/site-packages (from aiohttp<4.0.0,>=3.8.3->langchain-community~=0.3.29->-r requirements.in (line 7)) (25.3.0)\n",
      "Requirement already satisfied: frozenlist>=1.1.1 in /Users/vladimir/miniconda3/envs/agents-workshop/lib/python3.13/site-packages (from aiohttp<4.0.0,>=3.8.3->langchain-community~=0.3.29->-r requirements.in (line 7)) (1.7.0)\n",
      "Requirement already satisfied: multidict<7.0,>=4.5 in /Users/vladimir/miniconda3/envs/agents-workshop/lib/python3.13/site-packages (from aiohttp<4.0.0,>=3.8.3->langchain-community~=0.3.29->-r requirements.in (line 7)) (6.6.4)\n",
      "Requirement already satisfied: propcache>=0.2.0 in /Users/vladimir/miniconda3/envs/agents-workshop/lib/python3.13/site-packages (from aiohttp<4.0.0,>=3.8.3->langchain-community~=0.3.29->-r requirements.in (line 7)) (0.3.2)\n",
      "Requirement already satisfied: yarl<2.0,>=1.17.0 in /Users/vladimir/miniconda3/envs/agents-workshop/lib/python3.13/site-packages (from aiohttp<4.0.0,>=3.8.3->langchain-community~=0.3.29->-r requirements.in (line 7)) (1.20.1)\n",
      "Requirement already satisfied: tokenize-rt>=3.2.0 in /Users/vladimir/miniconda3/envs/agents-workshop/lib/python3.13/site-packages (from black[jupyter]~=25.1.0->-r requirements.in (line 18)) (6.2.0)\n",
      "Requirement already satisfied: marshmallow<4.0.0,>=3.18.0 in /Users/vladimir/miniconda3/envs/agents-workshop/lib/python3.13/site-packages (from dataclasses-json<0.7,>=0.6.7->langchain-community~=0.3.29->-r requirements.in (line 7)) (3.26.1)\n",
      "Requirement already satisfied: typing-inspect<1,>=0.4.0 in /Users/vladimir/miniconda3/envs/agents-workshop/lib/python3.13/site-packages (from dataclasses-json<0.7,>=0.6.7->langchain-community~=0.3.29->-r requirements.in (line 7)) (0.9.0)\n",
      "Requirement already satisfied: h11>=0.16 in /Users/vladimir/miniconda3/envs/agents-workshop/lib/python3.13/site-packages (from httpcore==1.*->httpx~=0.28.1->-r requirements.in (line 16)) (0.16.0)\n",
      "Requirement already satisfied: jsonpatch<2.0,>=1.33 in /Users/vladimir/miniconda3/envs/agents-workshop/lib/python3.13/site-packages (from langchain-core<1.0.0,>=0.3.72->langchain~=0.3.27->-r requirements.in (line 6)) (1.33)\n",
      "Requirement already satisfied: jsonpointer>=1.9 in /Users/vladimir/miniconda3/envs/agents-workshop/lib/python3.13/site-packages (from jsonpatch<2.0,>=1.33->langchain-core<1.0.0,>=0.3.72->langchain~=0.3.27->-r requirements.in (line 6)) (3.0.0)\n",
      "Requirement already satisfied: pip>=25.2 in /Users/vladimir/miniconda3/envs/agents-workshop/lib/python3.13/site-packages (from langchain-text-splitters<1.0.0,>=0.3.9->langchain~=0.3.27->-r requirements.in (line 6)) (25.2)\n",
      "Requirement already satisfied: ormsgpack>=1.10.0 in /Users/vladimir/miniconda3/envs/agents-workshop/lib/python3.13/site-packages (from langgraph-checkpoint<3.0.0,>=2.1.0->langgraph~=0.6.6->-r requirements.in (line 11)) (1.10.0)\n",
      "Requirement already satisfied: distro<2,>=1.7.0 in /Users/vladimir/miniconda3/envs/agents-workshop/lib/python3.13/site-packages (from openai<2.0.0,>=1.99.9->langchain-openai~=0.3.32->-r requirements.in (line 9)) (1.9.0)\n",
      "Requirement already satisfied: jiter<1,>=0.4.0 in /Users/vladimir/miniconda3/envs/agents-workshop/lib/python3.13/site-packages (from openai<2.0.0,>=1.99.9->langchain-openai~=0.3.32->-r requirements.in (line 9)) (0.10.0)\n",
      "Requirement already satisfied: sniffio in /Users/vladimir/miniconda3/envs/agents-workshop/lib/python3.13/site-packages (from openai<2.0.0,>=1.99.9->langchain-openai~=0.3.32->-r requirements.in (line 9)) (1.3.1)\n",
      "Requirement already satisfied: importlib-metadata<8.8.0,>=6.0 in /Users/vladimir/miniconda3/envs/agents-workshop/lib/python3.13/site-packages (from opentelemetry-api>=1.2.0->chromadb~=1.0.20->-r requirements.in (line 5)) (8.7.0)\n",
      "Requirement already satisfied: zipp>=3.20 in /Users/vladimir/miniconda3/envs/agents-workshop/lib/python3.13/site-packages (from importlib-metadata<8.8.0,>=6.0->opentelemetry-api>=1.2.0->chromadb~=1.0.20->-r requirements.in (line 5)) (3.23.0)\n",
      "Requirement already satisfied: googleapis-common-protos~=1.52 in /Users/vladimir/miniconda3/envs/agents-workshop/lib/python3.13/site-packages (from opentelemetry-exporter-otlp-proto-http<2.0.0,>=1.33.1->langfuse~=3.3.2->-r requirements.in (line 14)) (1.70.0)\n",
      "Requirement already satisfied: opentelemetry-exporter-otlp-proto-common==1.36.0 in /Users/vladimir/miniconda3/envs/agents-workshop/lib/python3.13/site-packages (from opentelemetry-exporter-otlp-proto-http<2.0.0,>=1.33.1->langfuse~=3.3.2->-r requirements.in (line 14)) (1.36.0)\n",
      "Requirement already satisfied: opentelemetry-proto==1.36.0 in /Users/vladimir/miniconda3/envs/agents-workshop/lib/python3.13/site-packages (from opentelemetry-exporter-otlp-proto-http<2.0.0,>=1.33.1->langfuse~=3.3.2->-r requirements.in (line 14)) (1.36.0)\n",
      "Requirement already satisfied: protobuf<7.0,>=5.0 in /Users/vladimir/miniconda3/envs/agents-workshop/lib/python3.13/site-packages (from opentelemetry-proto==1.36.0->opentelemetry-exporter-otlp-proto-http<2.0.0,>=1.33.1->langfuse~=3.3.2->-r requirements.in (line 14)) (6.32.0)\n",
      "Requirement already satisfied: opentelemetry-semantic-conventions==0.57b0 in /Users/vladimir/miniconda3/envs/agents-workshop/lib/python3.13/site-packages (from opentelemetry-sdk>=1.2.0->chromadb~=1.0.20->-r requirements.in (line 5)) (0.57b0)\n",
      "Requirement already satisfied: six>=1.5 in /Users/vladimir/miniconda3/envs/agents-workshop/lib/python3.13/site-packages (from posthog<6.0.0,>=2.4.0->chromadb~=1.0.20->-r requirements.in (line 5)) (1.17.0)\n",
      "Requirement already satisfied: python-dateutil>=2.2 in /Users/vladimir/miniconda3/envs/agents-workshop/lib/python3.13/site-packages (from posthog<6.0.0,>=2.4.0->chromadb~=1.0.20->-r requirements.in (line 5)) (2.9.0.post0)\n",
      "Requirement already satisfied: annotated-types>=0.6.0 in /Users/vladimir/miniconda3/envs/agents-workshop/lib/python3.13/site-packages (from pydantic>=1.9->chromadb~=1.0.20->-r requirements.in (line 5)) (0.7.0)\n",
      "Requirement already satisfied: pydantic-core==2.33.2 in /Users/vladimir/miniconda3/envs/agents-workshop/lib/python3.13/site-packages (from pydantic>=1.9->chromadb~=1.0.20->-r requirements.in (line 5)) (2.33.2)\n",
      "Requirement already satisfied: typing-inspection>=0.4.0 in /Users/vladimir/miniconda3/envs/agents-workshop/lib/python3.13/site-packages (from pydantic>=1.9->chromadb~=1.0.20->-r requirements.in (line 5)) (0.4.1)\n",
      "Requirement already satisfied: charset_normalizer<4,>=2 in /Users/vladimir/miniconda3/envs/agents-workshop/lib/python3.13/site-packages (from requests>=2.32.2->datasets~=4.0.0->-r requirements.in (line 3)) (3.4.3)\n",
      "Requirement already satisfied: urllib3<3,>=1.21.1 in /Users/vladimir/miniconda3/envs/agents-workshop/lib/python3.13/site-packages (from requests>=2.32.2->datasets~=4.0.0->-r requirements.in (line 3)) (2.5.0)\n",
      "Requirement already satisfied: regex>=2022.1.18 in /Users/vladimir/miniconda3/envs/agents-workshop/lib/python3.13/site-packages (from tiktoken<1,>=0.7->langchain-openai~=0.3.32->-r requirements.in (line 9)) (2025.7.34)\n",
      "Requirement already satisfied: safetensors>=0.4.3 in /Users/vladimir/miniconda3/envs/agents-workshop/lib/python3.13/site-packages (from transformers<5.0.0,>=4.41.0->sentence-transformers~=5.1.0->-r requirements.in (line 13)) (0.6.2)\n",
      "Requirement already satisfied: hf-xet<2.0.0,>=1.1.3 in /Users/vladimir/miniconda3/envs/agents-workshop/lib/python3.13/site-packages (from huggingface-hub>=0.24.0->datasets~=4.0.0->-r requirements.in (line 3)) (1.1.9)\n",
      "Requirement already satisfied: pyproject_hooks in /Users/vladimir/miniconda3/envs/agents-workshop/lib/python3.13/site-packages (from build>=1.0.3->chromadb~=1.0.20->-r requirements.in (line 5)) (1.2.0)\n",
      "Requirement already satisfied: decorator in /Users/vladimir/miniconda3/envs/agents-workshop/lib/python3.13/site-packages (from ipython>=7.23.1->ipykernel~=6.30.1->-r requirements.in (line 1)) (5.2.1)\n",
      "Requirement already satisfied: ipython-pygments-lexers in /Users/vladimir/miniconda3/envs/agents-workshop/lib/python3.13/site-packages (from ipython>=7.23.1->ipykernel~=6.30.1->-r requirements.in (line 1)) (1.1.1)\n",
      "Requirement already satisfied: jedi>=0.16 in /Users/vladimir/miniconda3/envs/agents-workshop/lib/python3.13/site-packages (from ipython>=7.23.1->ipykernel~=6.30.1->-r requirements.in (line 1)) (0.19.2)\n",
      "Requirement already satisfied: pexpect>4.3 in /Users/vladimir/miniconda3/envs/agents-workshop/lib/python3.13/site-packages (from ipython>=7.23.1->ipykernel~=6.30.1->-r requirements.in (line 1)) (4.9.0)\n",
      "Requirement already satisfied: prompt_toolkit<3.1.0,>=3.0.41 in /Users/vladimir/miniconda3/envs/agents-workshop/lib/python3.13/site-packages (from ipython>=7.23.1->ipykernel~=6.30.1->-r requirements.in (line 1)) (3.0.52)\n",
      "Requirement already satisfied: stack_data in /Users/vladimir/miniconda3/envs/agents-workshop/lib/python3.13/site-packages (from ipython>=7.23.1->ipykernel~=6.30.1->-r requirements.in (line 1)) (0.6.3)\n",
      "Requirement already satisfied: wcwidth in /Users/vladimir/miniconda3/envs/agents-workshop/lib/python3.13/site-packages (from prompt_toolkit<3.1.0,>=3.0.41->ipython>=7.23.1->ipykernel~=6.30.1->-r requirements.in (line 1)) (0.2.13)\n",
      "Requirement already satisfied: parso<0.9.0,>=0.8.4 in /Users/vladimir/miniconda3/envs/agents-workshop/lib/python3.13/site-packages (from jedi>=0.16->ipython>=7.23.1->ipykernel~=6.30.1->-r requirements.in (line 1)) (0.8.5)\n",
      "Requirement already satisfied: jsonschema-specifications>=2023.03.6 in /Users/vladimir/miniconda3/envs/agents-workshop/lib/python3.13/site-packages (from jsonschema>=4.19.0->chromadb~=1.0.20->-r requirements.in (line 5)) (2025.4.1)\n",
      "Requirement already satisfied: referencing>=0.28.4 in /Users/vladimir/miniconda3/envs/agents-workshop/lib/python3.13/site-packages (from jsonschema>=4.19.0->chromadb~=1.0.20->-r requirements.in (line 5)) (0.36.2)\n",
      "Requirement already satisfied: rpds-py>=0.7.1 in /Users/vladimir/miniconda3/envs/agents-workshop/lib/python3.13/site-packages (from jsonschema>=4.19.0->chromadb~=1.0.20->-r requirements.in (line 5)) (0.27.1)\n",
      "Requirement already satisfied: google-auth>=1.0.1 in /Users/vladimir/miniconda3/envs/agents-workshop/lib/python3.13/site-packages (from kubernetes>=28.1.0->chromadb~=1.0.20->-r requirements.in (line 5)) (2.40.3)\n",
      "Requirement already satisfied: websocket-client!=0.40.0,!=0.41.*,!=0.42.*,>=0.32.0 in /Users/vladimir/miniconda3/envs/agents-workshop/lib/python3.13/site-packages (from kubernetes>=28.1.0->chromadb~=1.0.20->-r requirements.in (line 5)) (1.8.0)\n",
      "Requirement already satisfied: requests-oauthlib in /Users/vladimir/miniconda3/envs/agents-workshop/lib/python3.13/site-packages (from kubernetes>=28.1.0->chromadb~=1.0.20->-r requirements.in (line 5)) (2.0.0)\n",
      "Requirement already satisfied: oauthlib>=3.2.2 in /Users/vladimir/miniconda3/envs/agents-workshop/lib/python3.13/site-packages (from kubernetes>=28.1.0->chromadb~=1.0.20->-r requirements.in (line 5)) (3.3.1)\n",
      "Requirement already satisfied: durationpy>=0.7 in /Users/vladimir/miniconda3/envs/agents-workshop/lib/python3.13/site-packages (from kubernetes>=28.1.0->chromadb~=1.0.20->-r requirements.in (line 5)) (0.10)\n",
      "Requirement already satisfied: cachetools<6.0,>=2.0.0 in /Users/vladimir/miniconda3/envs/agents-workshop/lib/python3.13/site-packages (from google-auth>=1.0.1->kubernetes>=28.1.0->chromadb~=1.0.20->-r requirements.in (line 5)) (5.5.2)\n",
      "Requirement already satisfied: pyasn1-modules>=0.2.1 in /Users/vladimir/miniconda3/envs/agents-workshop/lib/python3.13/site-packages (from google-auth>=1.0.1->kubernetes>=28.1.0->chromadb~=1.0.20->-r requirements.in (line 5)) (0.4.2)\n",
      "Requirement already satisfied: rsa<5,>=3.1.4 in /Users/vladimir/miniconda3/envs/agents-workshop/lib/python3.13/site-packages (from google-auth>=1.0.1->kubernetes>=28.1.0->chromadb~=1.0.20->-r requirements.in (line 5)) (4.9.1)\n",
      "Requirement already satisfied: pyasn1>=0.1.3 in /Users/vladimir/miniconda3/envs/agents-workshop/lib/python3.13/site-packages (from rsa<5,>=3.1.4->google-auth>=1.0.1->kubernetes>=28.1.0->chromadb~=1.0.20->-r requirements.in (line 5)) (0.6.1)\n",
      "Requirement already satisfied: requests-toolbelt>=1.0.0 in /Users/vladimir/miniconda3/envs/agents-workshop/lib/python3.13/site-packages (from langsmith>=0.1.17->langchain~=0.3.27->-r requirements.in (line 6)) (1.0.0)\n",
      "Requirement already satisfied: zstandard>=0.23.0 in /Users/vladimir/miniconda3/envs/agents-workshop/lib/python3.13/site-packages (from langsmith>=0.1.17->langchain~=0.3.27->-r requirements.in (line 6)) (0.24.0)\n",
      "Requirement already satisfied: mdurl~=0.1 in /Users/vladimir/miniconda3/envs/agents-workshop/lib/python3.13/site-packages (from markdown-it-py>=2.2.0->rich~=14.1.0->-r requirements.in (line 19)) (0.1.2)\n",
      "Requirement already satisfied: coloredlogs in /Users/vladimir/miniconda3/envs/agents-workshop/lib/python3.13/site-packages (from onnxruntime>=1.14.1->chromadb~=1.0.20->-r requirements.in (line 5)) (15.0.1)\n",
      "Requirement already satisfied: flatbuffers in /Users/vladimir/miniconda3/envs/agents-workshop/lib/python3.13/site-packages (from onnxruntime>=1.14.1->chromadb~=1.0.20->-r requirements.in (line 5)) (25.2.10)\n",
      "Requirement already satisfied: sympy in /Users/vladimir/miniconda3/envs/agents-workshop/lib/python3.13/site-packages (from onnxruntime>=1.14.1->chromadb~=1.0.20->-r requirements.in (line 5)) (1.14.0)\n",
      "Requirement already satisfied: ptyprocess>=0.5 in /Users/vladimir/miniconda3/envs/agents-workshop/lib/python3.13/site-packages (from pexpect>4.3->ipython>=7.23.1->ipykernel~=6.30.1->-r requirements.in (line 1)) (0.7.0)\n",
      "Requirement already satisfied: setuptools in /Users/vladimir/miniconda3/envs/agents-workshop/lib/python3.13/site-packages (from torch>=1.11.0->sentence-transformers~=5.1.0->-r requirements.in (line 13)) (78.1.1)\n",
      "Requirement already satisfied: networkx in /Users/vladimir/miniconda3/envs/agents-workshop/lib/python3.13/site-packages (from torch>=1.11.0->sentence-transformers~=5.1.0->-r requirements.in (line 13)) (3.5)\n",
      "Requirement already satisfied: jinja2 in /Users/vladimir/miniconda3/envs/agents-workshop/lib/python3.13/site-packages (from torch>=1.11.0->sentence-transformers~=5.1.0->-r requirements.in (line 13)) (3.1.6)\n",
      "Requirement already satisfied: mpmath<1.4,>=1.1.0 in /Users/vladimir/miniconda3/envs/agents-workshop/lib/python3.13/site-packages (from sympy->onnxruntime>=1.14.1->chromadb~=1.0.20->-r requirements.in (line 5)) (1.3.0)\n",
      "Requirement already satisfied: shellingham>=1.3.0 in /Users/vladimir/miniconda3/envs/agents-workshop/lib/python3.13/site-packages (from typer>=0.9.0->chromadb~=1.0.20->-r requirements.in (line 5)) (1.5.4)\n",
      "Requirement already satisfied: httptools>=0.6.3 in /Users/vladimir/miniconda3/envs/agents-workshop/lib/python3.13/site-packages (from uvicorn[standard]>=0.18.3->chromadb~=1.0.20->-r requirements.in (line 5)) (0.6.4)\n",
      "Requirement already satisfied: uvloop>=0.15.1 in /Users/vladimir/miniconda3/envs/agents-workshop/lib/python3.13/site-packages (from uvicorn[standard]>=0.18.3->chromadb~=1.0.20->-r requirements.in (line 5)) (0.21.0)\n",
      "Requirement already satisfied: watchfiles>=0.13 in /Users/vladimir/miniconda3/envs/agents-workshop/lib/python3.13/site-packages (from uvicorn[standard]>=0.18.3->chromadb~=1.0.20->-r requirements.in (line 5)) (1.1.0)\n",
      "Requirement already satisfied: websockets>=10.4 in /Users/vladimir/miniconda3/envs/agents-workshop/lib/python3.13/site-packages (from uvicorn[standard]>=0.18.3->chromadb~=1.0.20->-r requirements.in (line 5)) (15.0.1)\n",
      "Requirement already satisfied: soupsieve>1.2 in /Users/vladimir/miniconda3/envs/agents-workshop/lib/python3.13/site-packages (from beautifulsoup4->gdown~=5.2.0->-r requirements.in (line 4)) (2.8)\n",
      "Requirement already satisfied: humanfriendly>=9.1 in /Users/vladimir/miniconda3/envs/agents-workshop/lib/python3.13/site-packages (from coloredlogs->onnxruntime>=1.14.1->chromadb~=1.0.20->-r requirements.in (line 5)) (10.0)\n",
      "Requirement already satisfied: gitdb<5,>=4.0.1 in /Users/vladimir/miniconda3/envs/agents-workshop/lib/python3.13/site-packages (from gitpython->ragas~=0.3.2->-r requirements.in (line 12)) (4.0.12)\n",
      "Requirement already satisfied: smmap<6,>=3.0.1 in /Users/vladimir/miniconda3/envs/agents-workshop/lib/python3.13/site-packages (from gitdb<5,>=4.0.1->gitpython->ragas~=0.3.2->-r requirements.in (line 12)) (5.0.2)\n",
      "Requirement already satisfied: docstring-parser<1.0,>=0.16 in /Users/vladimir/miniconda3/envs/agents-workshop/lib/python3.13/site-packages (from instructor->ragas~=0.3.2->-r requirements.in (line 12)) (0.17.0)\n",
      "Requirement already satisfied: MarkupSafe>=2.0 in /Users/vladimir/miniconda3/envs/agents-workshop/lib/python3.13/site-packages (from jinja2->torch>=1.11.0->sentence-transformers~=5.1.0->-r requirements.in (line 13)) (3.0.2)\n",
      "Requirement already satisfied: pytz>=2020.1 in /Users/vladimir/miniconda3/envs/agents-workshop/lib/python3.13/site-packages (from pandas->datasets~=4.0.0->-r requirements.in (line 3)) (2025.2)\n",
      "Requirement already satisfied: tzdata>=2022.7 in /Users/vladimir/miniconda3/envs/agents-workshop/lib/python3.13/site-packages (from pandas->datasets~=4.0.0->-r requirements.in (line 3)) (2025.2)\n",
      "Requirement already satisfied: PySocks!=1.5.7,>=1.5.6 in /Users/vladimir/miniconda3/envs/agents-workshop/lib/python3.13/site-packages (from requests[socks]->gdown~=5.2.0->-r requirements.in (line 4)) (1.7.1)\n",
      "Requirement already satisfied: joblib>=1.2.0 in /Users/vladimir/miniconda3/envs/agents-workshop/lib/python3.13/site-packages (from scikit-learn->sentence-transformers~=5.1.0->-r requirements.in (line 13)) (1.5.2)\n",
      "Requirement already satisfied: threadpoolctl>=3.1.0 in /Users/vladimir/miniconda3/envs/agents-workshop/lib/python3.13/site-packages (from scikit-learn->sentence-transformers~=5.1.0->-r requirements.in (line 13)) (3.6.0)\n",
      "Requirement already satisfied: executing>=1.2.0 in /Users/vladimir/miniconda3/envs/agents-workshop/lib/python3.13/site-packages (from stack_data->ipython>=7.23.1->ipykernel~=6.30.1->-r requirements.in (line 1)) (2.2.0)\n",
      "Requirement already satisfied: asttokens>=2.1.0 in /Users/vladimir/miniconda3/envs/agents-workshop/lib/python3.13/site-packages (from stack_data->ipython>=7.23.1->ipykernel~=6.30.1->-r requirements.in (line 1)) (3.0.0)\n",
      "Requirement already satisfied: pure-eval in /Users/vladimir/miniconda3/envs/agents-workshop/lib/python3.13/site-packages (from stack_data->ipython>=7.23.1->ipykernel~=6.30.1->-r requirements.in (line 1)) (0.2.3)\n"
     ]
    }
   ],
   "source": [
    "! pip install -r requirements.in"
   ]
  },
  {
   "cell_type": "code",
   "execution_count": 3,
   "metadata": {
    "id": "inQW0n3DfJEl"
   },
   "outputs": [],
   "source": [
    "from IPython.display import display, Markdown\n",
    "from pprint import pprint\n",
    "import os\n",
    "\n",
    "os.environ[\"TOKENIZERS_PARALLELISM\"] = \"false\""
   ]
  },
  {
   "cell_type": "markdown",
   "metadata": {
    "id": "yAXD0sZjfJEl"
   },
   "source": [
    "# RAG\n",
    "## Ingestion\n",
    "\n",
    "![pasted-from-clipboard.png](data:image/png;base64,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)"
   ]
  },
  {
   "cell_type": "code",
   "execution_count": 4,
   "metadata": {
    "colab": {
     "base_uri": "https://localhost:8080/"
    },
    "id": "oWoPonCqUMyb",
    "outputId": "3b251e4d-065c-4e20-b393-a2770f2e3cac"
   },
   "outputs": [
    {
     "name": "stderr",
     "output_type": "stream",
     "text": [
      "/Users/vladimir/miniconda3/envs/agents-workshop/lib/python3.13/site-packages/tqdm/auto.py:21: TqdmWarning: IProgress not found. Please update jupyter and ipywidgets. See https://ipywidgets.readthedocs.io/en/stable/user_install.html\n",
      "  from .autonotebook import tqdm as notebook_tqdm\n",
      "Failed to load context: threadlocal_context, fallback to contextvars_context\n",
      "Traceback (most recent call last):\n",
      "  File \"/Users/vladimir/miniconda3/envs/agents-workshop/lib/python3.13/site-packages/opentelemetry/context/__init__.py\", line 46, in _load_runtime_context\n",
      "    return next(  # type: ignore\n",
      "           ~~~~^^^^^^^^^^^^^^^^^\n",
      "        iter(  # type: ignore\n",
      "        ^^^^^^^^^^^^^^^^^^^^^\n",
      "    ...<4 lines>...\n",
      "        )\n",
      "        ^\n",
      "    ).load()()\n",
      "    ^\n",
      "StopIteration\n"
     ]
    },
    {
     "name": "stdout",
     "output_type": "stream",
     "text": [
      "Number of snippets in DB: 103180\n"
     ]
    }
   ],
   "source": [
    "### Initialize vector storage\n",
    "from sentence_transformers import SentenceTransformer\n",
    "from langchain_chroma import Chroma\n",
    "from langchain_core.embeddings.embeddings import Embeddings\n",
    "from pprint import pprint\n",
    "\n",
    "\n",
    "class AcrticEmbeddings(Embeddings):\n",
    "    def __init__(self, model_name, batch_size=32, device=\"mps\"):\n",
    "        self.model = SentenceTransformer(\n",
    "            model_name,\n",
    "            trust_remote_code=True,\n",
    "            device=device,\n",
    "            model_kwargs={\"torch_dtype\": \"float16\"},\n",
    "        )\n",
    "        self.batch_size = batch_size\n",
    "\n",
    "    def embed_documents(self, texts: list[str]) -> list[list[float]]:\n",
    "        \"\"\"Embed search docs.\n",
    "\n",
    "        Args:\n",
    "            texts: List of text to embed.\n",
    "\n",
    "        Returns:\n",
    "            List of embeddings.\n",
    "        \"\"\"\n",
    "        return self.model.encode(texts, batch_size=self.batch_size)\n",
    "\n",
    "    def embed_query(self, text: str) -> list[float]:\n",
    "        \"\"\"Embed query text.\n",
    "\n",
    "        Args:\n",
    "            text: Text to embed.\n",
    "\n",
    "        Returns:\n",
    "            Embedding.\n",
    "        \"\"\"\n",
    "        return self.model.encode(text, batch_size=self.batch_size, prompt=\"query\")\n",
    "\n",
    "\n",
    "model_name = \"Snowflake/snowflake-arctic-embed-m-v1.5\"\n",
    "\n",
    "chroma_client = Chroma(\n",
    "    collection_name=\"wiki_chunks_30K\",\n",
    "    persist_directory=\"./chroma_30K\",\n",
    "    embedding_function=AcrticEmbeddings(model_name),\n",
    ")\n",
    "\n",
    "print(f\"Number of snippets in DB: {chroma_client._collection.count()}\")"
   ]
  },
  {
   "cell_type": "code",
   "execution_count": 5,
   "metadata": {
    "colab": {
     "base_uri": "https://localhost:8080/"
    },
    "id": "KXM3_Sj1fJEm",
    "outputId": "c524d07c-514a-4fdf-9d5a-724c018c3360"
   },
   "outputs": [
    {
     "name": "stdout",
     "output_type": "stream",
     "text": [
      "Snippets:\n",
      "```\n",
      "References\n",
      "\n",
      "local\n",
      "local\n",
      "Political timelines of the 2020s by year\n",
      "local\n",
      "```\n",
      "{'chunk_index': 29,\n",
      " 'id': '62651599',\n",
      " 'title': '2020 local electoral calendar',\n",
      " 'url': 'https://en.wikipedia.org/wiki/2020_local_electoral_calendar'}\n",
      "Snippets:\n",
      "```\n",
      "The United States of America (USA), commonly known as the United States (U.S.) or simply America, is a country primarily located in North America and consisting of 50 states, a federal district, five \n",
      "```\n",
      "{'chunk_index': 0,\n",
      " 'id': '3434750',\n",
      " 'title': 'United States',\n",
      " 'url': 'https://en.wikipedia.org/wiki/United_States'}\n",
      "Snippets:\n",
      "```\n",
      "External links \n",
      "\n",
      "Lists of 2013 term United States Supreme Court opinions\n",
      "```\n",
      "{'chunk_index': 0,\n",
      " 'id': '45412087',\n",
      " 'title': 'List of United States Supreme Court cases, volume 573',\n",
      " 'url': 'https://en.wikipedia.org/wiki/List_of_United_States_Supreme_Court_cases,_volume_573'}\n",
      "Snippets:\n",
      "```\n",
      "Indiana\n",
      "Governor and Attorney General\n",
      "House of Representatives and Senate\n",
      "Supreme Court and Court of Appeals retention elections\n",
      "Iowa\n",
      "House of Representatives and Senate\n",
      "Supreme Court and Court of App\n",
      "```\n",
      "{'chunk_index': 18,\n",
      " 'id': '62651599',\n",
      " 'title': '2020 local electoral calendar',\n",
      " 'url': 'https://en.wikipedia.org/wiki/2020_local_electoral_calendar'}\n",
      "Snippets:\n",
      "```\n",
      "the other hand it shows the insufficiency of past attempts at universalization.\n",
      "```\n",
      "{'chunk_index': 34,\n",
      " 'id': '52420141',\n",
      " 'title': 'Éric Weil',\n",
      " 'url': 'https://en.wikipedia.org/wiki/Éric_Weil'}\n"
     ]
    }
   ],
   "source": [
    "search_result = chroma_client.search(\n",
    "    query=\"President of the United States\",\n",
    "    k=5,\n",
    "    search_type=\"similarity\",\n",
    ")\n",
    "for result in search_result:\n",
    "    print(\"Snippets:\\n```\", result.page_content[:200], \"```\", sep=\"\\n\")\n",
    "    pprint(result.metadata)"
   ]
  },
  {
   "cell_type": "markdown",
   "metadata": {},
   "source": [
    "## Generation"
   ]
  },
  {
   "cell_type": "markdown",
   "metadata": {},
   "source": [
    "![pasted-from-clipboard-2.png](data:image/png;base64,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)"
   ]
  },
  {
   "cell_type": "code",
   "execution_count": null,
   "metadata": {},
   "outputs": [],
   "source": [
    "from langchain_openai import ChatOpenAI\n",
    "from langchain_core.documents import Document\n",
    "import asyncio\n",
    "from prompts import AnswerWithCitations, QueryInput, AnswerStatement, CitationPrompt\n",
    "from pydantic import SecretStr, BaseModel, Field\n",
    "from ragas.prompt import PydanticPrompt\n",
    "from IPython.display import Image, display\n",
    "from rich.console import Console\n",
    "from rich.markdown import Markdown\n",
    "from rich import print_json\n",
    "\n",
    "import nest_asyncio\n",
    "nest_asyncio.apply()\n",
    "\n",
    "from rich.theme import Theme\n",
    "\n",
    "rich_console = Console()"
   ]
  },
  {
   "cell_type": "markdown",
   "metadata": {},
   "source": [
    "Modern llm frameworks can use Pydantic models as input for structured output generation (Constrained Decoding)\n",
    "\n",
    "It serves the following functions:\n",
    "- Output schema is specified and validated\n",
    "- It might improve overall quality through introduction of fields like `reason` to the answer, ordering of fields, verification fields, etc.\n",
    "\n",
    "This is sometimes called Schema-Guided Reasoning"
   ]
  },
  {
   "cell_type": "markdown",
   "metadata": {},
   "source": [
    "![](resources/schema-guidence.png)"
   ]
  },
  {
   "cell_type": "code",
   "execution_count": 7,
   "metadata": {},
   "outputs": [
    {
     "name": "stdout",
     "output_type": "stream",
     "text": [
      "{'properties': {'reasoning': {'description': 'Reasoning behind the answer. This should explain how the answer was derived.', 'title': 'Reasoning', 'type': 'string'}, 'answer_sentece': {'description': 'Sentence of the answer. May be a title or paragraph text in markdown format. Should be a freeform text.', 'title': 'Answer Sentece', 'type': 'string'}, 'reference_url': {'anyOf': [{'type': 'string'}, {'type': 'null'}], 'description': 'URL of the reference from given context', 'title': 'Reference Url'}, 'reference_title': {'anyOf': [{'type': 'string'}, {'type': 'null'}], 'description': 'Title of the reference from given context', 'title': 'Reference Title'}}, 'required': ['reasoning', 'answer_sentece', 'reference_url', 'reference_title'], 'title': 'AnswerStatement', 'type': 'object'}\n"
     ]
    }
   ],
   "source": [
    "print(AnswerStatement.model_json_schema()) "
   ]
  },
  {
   "cell_type": "markdown",
   "metadata": {},
   "source": [
    "The whole prompt may be composed in a similar manner (as it is used in Ragas)"
   ]
  },
  {
   "cell_type": "code",
   "execution_count": 8,
   "metadata": {},
   "outputs": [
    {
     "name": "stdout",
     "output_type": "stream",
     "text": [
      "Generate answer to the question based on the given context.\n",
      "    Answer may consist of multiple sentences, some of them may be with references.\n",
      "    Come up with a full answer step-by-step, using multiple elements of the context.\n",
      "    Answer should be in markdown format following the template:\n",
      "    ```\n",
      "    # Title\n",
      "    Here is the what context provides to your question:\n",
      "    * statement 1\n",
      "    * statement 2 [reference title](reference url)\n",
      "    ```\n",
      "    \n",
      "Please return the output in a JSON format that complies with the following schema as specified in JSON Schema:\n",
      "{\"$defs\": {\"AnswerStatement\": {\"properties\": {\"reasoning\": {\"description\": \"Reasoning behind the answer. This should explain how the answer was derived.\", \"title\": \"Reasoning\", \"type\": \"string\"}, \"answer_sentece\": {\"description\": \"Sentence of the answer. May be a title or paragraph text in markdown format. Should be a freeform text.\", \"title\": \"Answer Sentece\", \"type\": \"string\"}, \"reference_url\": {\"anyOf\": [{\"type\": \"string\"}, {\"type\": \"null\"}], \"description\": \"URL of the reference from given context\", \"title\": \"Reference Url\"}, \"reference_title\": {\"anyOf\": [{\"type\": \"string\"}, {\"type\": \"null\"}], \"description\": \"Title of the reference from given context\", \"title\": \"Reference Title\"}}, \"required\": [\"reasoning\", \"answer_sentece\", \"reference_url\", \"reference_title\"], \"title\": \"AnswerStatement\", \"type\": \"object\"}}, \"properties\": {\"statements\": {\"description\": \"Sequential list of sentences of the answer. Some statements are with references.\", \"items\": {\"$ref\": \"#/$defs/AnswerStatement\"}, \"title\": \"Statements\", \"type\": \"array\"}}, \"required\": [\"statements\"], \"title\": \"AnswerWithCitations\", \"type\": \"object\"}Do not use single quotes in your response but double quotes,properly escaped with a backslash.\n",
      "\n",
      "--------EXAMPLES-----------\n",
      "Example 1\n",
      "Input: {\n",
      "    \"question\": \"What is the main topic of the document?\",\n",
      "    \"context\": [\n",
      "        {\n",
      "            \"id\": null,\n",
      "            \"metadata\": {\n",
      "                \"title\": \"Climate Change\",\n",
      "                \"url\": \"https://example.com/climate_change\"\n",
      "            },\n",
      "            \"page_content\": \"The main topic is about climate change.\",\n",
      "            \"type\": \"Document\"\n",
      "        },\n",
      "        {\n",
      "            \"id\": null,\n",
      "            \"metadata\": {\n",
      "                \"title\": \"Global Challenge\",\n",
      "                \"url\": \"https://example.com/global_challenge\"\n",
      "            },\n",
      "            \"page_content\": \"Climate change is a significant global challenge.\",\n",
      "            \"type\": \"Document\"\n",
      "        }\n",
      "    ]\n",
      "}\n",
      "Output: {\n",
      "    \"statements\": [\n",
      "        {\n",
      "            \"reasoning\": \"The title summarizes the main topic of the document.\",\n",
      "            \"answer_sentece\": \"## Climate Change\",\n",
      "            \"reference_url\": null,\n",
      "            \"reference_title\": null\n",
      "        },\n",
      "        {\n",
      "            \"reasoning\": \"The context provides a summary of the main topic.\",\n",
      "            \"answer_sentece\": \"Here is the what context provides to your question:\",\n",
      "            \"reference_url\": null,\n",
      "            \"reference_title\": null\n",
      "        },\n",
      "        {\n",
      "            \"reasoning\": \"The context provides specific details about the main topic.\",\n",
      "            \"answer_sentece\": \"* The main topic is about climate change.\",\n",
      "            \"reference_url\": \"https://example.com/climate_change\",\n",
      "            \"reference_title\": \"Climate Change\"\n",
      "        },\n",
      "        {\n",
      "            \"reasoning\": \"The context provides specific details about the main topic.\",\n",
      "            \"answer_sentece\": \"* Climate change is a significant global challenge.\",\n",
      "            \"reference_url\": \"https://example.com/global_challenge\",\n",
      "            \"reference_title\": \"Global Challenge\"\n",
      "        }\n",
      "    ]\n",
      "}\n",
      "\n",
      "Example 2\n",
      "Input: {\n",
      "    \"question\": \"Who was the emperor of China when the person after whom the oldest extant football team's stadium in Italy is named was 5 years old?\",\n",
      "    \"context\": [\n",
      "        {\n",
      "            \"id\": null,\n",
      "            \"metadata\": {\n",
      "                \"title\": \"Genoa CFC\",\n",
      "                \"url\": \"https://en.wikipedia.org/wiki/Genoa_CFC\"\n",
      "            },\n",
      "            \"page_content\": \"Genoa Cricket and Football Club is the oldest extant football team in Italy. They play at the Stadio Luigi Ferraris.\",\n",
      "            \"type\": \"Document\"\n",
      "        },\n",
      "        {\n",
      "            \"id\": null,\n",
      "            \"metadata\": {\n",
      "                \"title\": \"Stadio Luigi Ferraris\",\n",
      "                \"url\": \"https://en.wikipedia.org/wiki/Stadio_Luigi_Ferraris\"\n",
      "            },\n",
      "            \"page_content\": \"Stadio Luigi Ferraris is named after Luigi Ferraris, an Italian footballer and engineer.\",\n",
      "            \"type\": \"Document\"\n",
      "        },\n",
      "        {\n",
      "            \"id\": null,\n",
      "            \"metadata\": {\n",
      "                \"title\": \"Luigi Ferraris\",\n",
      "                \"url\": \"https://en.wikipedia.org/wiki/Luigi_Ferraris\"\n",
      "            },\n",
      "            \"page_content\": \"Luigi Ferraris was born in 1887.\",\n",
      "            \"type\": \"Document\"\n",
      "        }\n",
      "    ]\n",
      "}\n",
      "Output: {\n",
      "    \"statements\": [\n",
      "        {\n",
      "            \"reasoning\": \"Question asks for the emperor of China, answer is entitled with his name.\",\n",
      "            \"answer_sentece\": \"## Guangxu Emperor\",\n",
      "            \"reference_url\": null,\n",
      "            \"reference_title\": null\n",
      "        },\n",
      "        {\n",
      "            \"reasoning\": \"The context provides a summary of the main topic.\",\n",
      "            \"answer_sentece\": \"Here is the what context provides to your question:\",\n",
      "            \"reference_url\": null,\n",
      "            \"reference_title\": null\n",
      "        },\n",
      "        {\n",
      "            \"reasoning\": \"The oldest extant football team in Italy is Genoa CFC, which plays at the Stadio Luigi Ferraris.\",\n",
      "            \"answer_sentece\": \"* The oldest extant football team in Italy is Genoa CFC, which plays at the Stadio Luigi Ferraris.\",\n",
      "            \"reference_url\": \"https://en.wikipedia.org/wiki/Genoa_CFC\",\n",
      "            \"reference_title\": \"Genoa CFC\"\n",
      "        },\n",
      "        {\n",
      "            \"reasoning\": \"Question asks about age of Luigi Ferraris, who is the namesake of the stadium.\",\n",
      "            \"answer_sentece\": \"* The stadium is named after Luigi Ferraris, who was born in 1887.\",\n",
      "            \"reference_url\": \"https://en.wikipedia.org/wiki/Luigi_Ferraris\",\n",
      "            \"reference_title\": \"Luigi Ferraris\"\n",
      "        },\n",
      "        {\n",
      "            \"reasoning\": \"As Luigi Ferraris was born in 1887 and was 5 years old in 1892, the emperor of China at that time was the Guangxu Emperor.\",\n",
      "            \"answer_sentece\": \"* When Luigi Ferraris was 5 years old, in 1892, the emperor of China was the Guangxu Emperor.\",\n",
      "            \"reference_url\": \"https://en.wikipedia.org/wiki/Guangxu_Emperor\",\n",
      "            \"reference_title\": \"Guangxu Emperor\"\n",
      "        }\n",
      "    ]\n",
      "}\n",
      "-----------------------------\n",
      "\n",
      "Now perform the same with the following input\n",
      "Input: (None)\n",
      "Output: \n"
     ]
    }
   ],
   "source": [
    "print(CitationPrompt().to_string())"
   ]
  },
  {
   "cell_type": "code",
   "execution_count": 9,
   "metadata": {},
   "outputs": [],
   "source": [
    "class LLMConfig(BaseModel):\n",
    "    api_key: SecretStr\n",
    "    model_name: str\n",
    "    temperature: int = Field(default=0)\n",
    "    max_tokens: int = Field(default=4096)\n",
    "\n",
    "\n",
    "class RAG:\n",
    "    def __init__(self, config: LLMConfig, retriever):\n",
    "        self.llm_model = ChatOpenAI(**config.model_dump()).with_structured_output(\n",
    "            AnswerWithCitations\n",
    "        )\n",
    "        self.retriever = retriever\n",
    "\n",
    "    def call_llm(\n",
    "        self, query: str, prompt: PydanticPrompt\n",
    "    ) -> tuple[str, list[Document]]:\n",
    "        return asyncio.run(self.call_llm_async(query=query, prompt=prompt))\n",
    "\n",
    "    async def call_llm_async(\n",
    "        self, query: str, prompt: PydanticPrompt\n",
    "    ) -> tuple[str, list[Document]]:\n",
    "        context = await self.retriever.ainvoke(query)\n",
    "        complete_prompt = prompt.to_string(QueryInput(question=query, context=context))\n",
    "        try:\n",
    "            response = await self.llm_model.ainvoke(complete_prompt)\n",
    "        except Exception as e:\n",
    "            print(f\"Error in answer generation: {e}\")\n",
    "            response = AnswerWithCitations(\n",
    "                statements=[\n",
    "                    AnswerStatement(\n",
    "                        answer_sentece=\"Error in generating answer.\",\n",
    "                        reference_url=None,\n",
    "                        reference_title=None,\n",
    "                    )\n",
    "                ]\n",
    "            )\n",
    "        return response, context"
   ]
  },
  {
   "cell_type": "code",
   "execution_count": 10,
   "metadata": {},
   "outputs": [],
   "source": [
    "from pydantic import SecretStr\n",
    "import os\n",
    "import dotenv\n",
    "\n",
    "dotenv.load_dotenv()\n",
    "# from google.colab import userdata\n",
    "api_key = SecretStr(os.getenv(\"OPENAI_API_KEY\"))\n",
    "\n",
    "llm_config = LLMConfig(\n",
    "    api_key=api_key,\n",
    "    model_name=\"gpt-5-mini\",\n",
    "    temperature=0,\n",
    "    max_tokens=4096\n",
    ")\n",
    "\n",
    "retriever = chroma_client.as_retriever(\n",
    "    search_type=\"mmr\", search_kwargs={\"k\": 20, \"fetch_k\": 50, \"lambda_mult\": 0.8}\n",
    ")\n",
    "\n",
    "llm_client = RAG(config=llm_config, retriever=retriever)"
   ]
  },
  {
   "cell_type": "code",
   "execution_count": 11,
   "metadata": {},
   "outputs": [],
   "source": [
    "response, context = llm_client.call_llm(\n",
    "    query=\"Who won the most gold medals in the Tokyo Olympics?\",\n",
    "    prompt=CitationPrompt(),\n",
    ")"
   ]
  },
  {
   "cell_type": "code",
   "execution_count": 12,
   "metadata": {},
   "outputs": [
    {
     "name": "stdout",
     "output_type": "stream",
     "text": [
      "Title: 2020 Summer Olympics\n",
      "URL: https://en.wikipedia.org/wiki/2020_Summer_Olympics\n",
      "Content: The Games were the fourth Olympic Games to be held in Japan, following the 1964 Summer Olympics (Tok\n",
      "\n",
      "Title: 2020 Summer Olympics\n",
      "URL: https://en.wikipedia.org/wiki/2020_Summer_Olympics\n",
      "Content: The United States topped the medal table by both total golds (39) and total medals (113), with China\n",
      "\n",
      "Title: 2017 European Diving Championships – Women's 10 metre platform\n",
      "URL: https://en.wikipedia.org/wiki/2017_European_Diving_Championships_–_Women's_10_metre_platform\n",
      "Content: Results\n",
      "\n",
      "Green denotes finalists\n",
      "\n",
      "References\n",
      " Official results\n",
      "\n",
      "Women's 10 metre platform\n",
      "Euro\n",
      "\n",
      "Title: 2008 IAAF World Indoor Championships – Men's 60 metres\n",
      "URL: https://en.wikipedia.org/wiki/2008_IAAF_World_Indoor_Championships_–_Men's_60_metres\n",
      "Content: Medalists\n",
      "\n",
      "Heats\n",
      "\n",
      "Semifinals\n",
      "\n",
      "Final\n",
      "\n",
      "60 metres at the World Athletics Indoor Championships\n",
      "60 metres\n",
      "\n",
      "Title: 1987 in sports\n",
      "URL: https://en.wikipedia.org/wiki/1987_in_sports\n",
      "Content: Awards\n",
      " Associated Press Male Athlete of the Year – Ben Johnson, Track and field\n",
      " Associated Press F\n",
      "\n",
      "Title: China\n",
      "URL: https://en.wikipedia.org/wiki/China\n",
      "Content: China has participated in the Olympic Games since 1932, although it has only participated as the PRC\n",
      "\n",
      "Title: Professional Showdance World Champions\n",
      "URL: https://en.wikipedia.org/wiki/Professional_Showdance_World_Champions\n",
      "Content: References\n",
      "\n",
      "See also\n",
      "World Ballroom Dance Champions\n",
      "World Latin Dance Champions\n",
      "\n",
      "Ballroom dance\n",
      "\n",
      "Title: Lionel Messi\n",
      "URL: https://en.wikipedia.org/wiki/Lionel_Messi\n",
      "Content: the most goals in the history of Europe's top five leagues, with 496 goals.\n",
      "\n",
      "Title: Mongolia at the 2020 Summer Olympics\n",
      "URL: https://en.wikipedia.org/wiki/Mongolia_at_the_2020_Summer_Olympics\n",
      "Content: Freestyle\n",
      "\n",
      "References\n",
      "\n",
      "Nations at the 2020 Summer Olympics\n",
      "2020\n",
      "2021 in Mongolian sport\n",
      "\n",
      "Title: List of country performers by era\n",
      "URL: https://en.wikipedia.org/wiki/List_of_country_performers_by_era\n",
      "Content: Performers of the Golden Age in the 1960s, 1970s and 1980s\n",
      "\n",
      "Title: Super Bowl Most Valuable Player Award\n",
      "URL: https://en.wikipedia.org/wiki/Super_Bowl_Most_Valuable_Player_Award\n",
      "Content: Notes\n",
      "\n",
      "References\n",
      "\n",
      "General\n",
      "\n",
      "Specific\n",
      "\n",
      "Awards established in 1967\n",
      "Most valuable player awards\n",
      "Most Va\n",
      "\n",
      "Title: Gladys Knight\n",
      "URL: https://en.wikipedia.org/wiki/Gladys_Knight\n",
      "Content: Filmography\n",
      "\n",
      "Films\n",
      "\n",
      "Television\n",
      "\n",
      "Awards, honors, and achievements\n",
      "\n",
      "Grammy Awards\n",
      "Knight has won seven\n",
      "\n",
      "Title: Lionel Messi\n",
      "URL: https://en.wikipedia.org/wiki/Lionel_Messi\n",
      "Content: Medalists at the 2008 Summer Olympics\n",
      "Men's association football forwards\n",
      "Naturalised citizens of Sp\n",
      "\n",
      "Title: Colour Vision (horse)\n",
      "URL: https://en.wikipedia.org/wiki/Colour_Vision_(horse)\n",
      "Content: It doesn't matter who is in the finish as you always try to win.\"\n",
      "\n",
      "Title: Takanobu Hayashi\n",
      "URL: https://en.wikipedia.org/wiki/Takanobu_Hayashi\n",
      "Content: 1946 births\n",
      "Living people\n",
      "Japanese photographers\n",
      "Tokyo College of Photography alumni\n",
      "\n",
      "Title: Yuki Kawata\n",
      "URL: https://en.wikipedia.org/wiki/Yuki_Kawata\n",
      "Content: is a Japanese archer. He competed in the men's individual event at the 2020 Summer Olympics. and won\n",
      "\n",
      "Title: Colin Beashel\n",
      "URL: https://en.wikipedia.org/wiki/Colin_Beashel\n",
      "Content: See also\n",
      " List of athletes with the most appearances at Olympic Games\n",
      "\n",
      "References\n",
      "\n",
      "External links\n",
      " \n",
      "\n",
      "\n",
      "Title: Michael Jordan\n",
      "URL: https://en.wikipedia.org/wiki/Michael_Jordan\n",
      "Content: NBA career statistics\n",
      "Regular season\n",
      "Playoffs\n",
      "Awards and honors\n",
      "NBA\n",
      "\n",
      "Six-time NBA champion – 1991, 1\n",
      "\n",
      "Title: 400 metres hurdles at the Olympics\n",
      "URL: https://en.wikipedia.org/wiki/400_metres_hurdles_at_the_Olympics\n",
      "Content: The 400 metres hurdles at the Summer Olympics is the longest hurdling event held at the multi-sport \n",
      "\n",
      "Title: List of Olympic medalists in equestrian\n",
      "URL: https://en.wikipedia.org/wiki/List_of_Olympic_medalists_in_equestrian\n",
      "Content: The Summer Olympics have included 2,129 equestrian participants, including 1,751 men and 378 women, \n",
      "\n"
     ]
    }
   ],
   "source": [
    "for doc in context:\n",
    "    print(f\"Title: {doc.metadata['title']}\")\n",
    "    print(f\"URL: {doc.metadata['url']}\")\n",
    "    print(f\"Content: {doc.page_content[:100]}\")\n",
    "    print()"
   ]
  },
  {
   "cell_type": "code",
   "execution_count": 13,
   "metadata": {},
   "outputs": [
    {
     "name": "stdout",
     "output_type": "stream",
     "text": [
      "[AnswerStatement(reasoning='Provide the country that won the most gold medals as the answer title.', answer_sentece='## United States', reference_url=None, reference_title=None),\n",
      " AnswerStatement(reasoning='Introduce the supporting context from the provided documents.', answer_sentece='Here is the what context provides to your question:', reference_url=None, reference_title=None),\n",
      " AnswerStatement(reasoning='The 2020 Summer Olympics article explicitly states which nation topped the gold medal count and gives the totals.', answer_sentece='* The United States topped the medal table by both total golds (39) and total medals (113).', reference_url='https://en.wikipedia.org/wiki/2020_Summer_Olympics', reference_title='2020 Summer Olympics'),\n",
      " AnswerStatement(reasoning='The same source provides the runner-up nation and its medal totals for context.', answer_sentece='* China finished second with 38 golds and 89 total medals.', reference_url='https://en.wikipedia.org/wiki/2020_Summer_Olympics', reference_title='2020 Summer Olympics'),\n",
      " AnswerStatement(reasoning=\"The source also notes the host nation's performance for additional context.\", answer_sentece='* Host nation Japan finished third, setting a record for the most gold medals and total medals ever won by their delegation at an Olympic Games with 27 and 58.', reference_url='https://en.wikipedia.org/wiki/2020_Summer_Olympics', reference_title='2020 Summer Olympics')]\n"
     ]
    }
   ],
   "source": [
    "pprint(response.statements)"
   ]
  },
  {
   "cell_type": "code",
   "execution_count": 14,
   "metadata": {},
   "outputs": [
    {
     "data": {
      "text/html": [
       "<pre style=\"white-space:pre;overflow-x:auto;line-height:normal;font-family:Menlo,'DejaVu Sans Mono',consolas,'Courier New',monospace\">\n",
       "                                                   <span style=\"color: #c0c0c0; text-decoration-color: #c0c0c0\">United States</span>                                                   \n",
       "\n",
       "<span style=\"color: #c0c0c0; text-decoration-color: #c0c0c0\">Here is the what context provides to your question:</span>                                                                \n",
       "\n",
       "<span style=\"color: #808000; text-decoration-color: #808000; font-weight: bold\"> • </span><span style=\"color: #c0c0c0; text-decoration-color: #c0c0c0\">The United States topped the medal table by both total golds (39) and total medals (113). [</span><a href=\"https://en.wikipedia.org/wiki/2020_Summer_Olympics\" target=\"_blank\"><span style=\"color: #000080; text-decoration-color: #000080; text-decoration: underline\">2020 Summer Olympics</span></a><span style=\"color: #c0c0c0; text-decoration-color: #c0c0c0\">]</span>\n",
       "<span style=\"color: #808000; text-decoration-color: #808000; font-weight: bold\"> • </span><span style=\"color: #c0c0c0; text-decoration-color: #c0c0c0\">China finished second with 38 golds and 89 total medals. [</span><a href=\"https://en.wikipedia.org/wiki/2020_Summer_Olympics\" target=\"_blank\"><span style=\"color: #000080; text-decoration-color: #000080; text-decoration: underline\">2020 Summer Olympics</span></a><span style=\"color: #c0c0c0; text-decoration-color: #c0c0c0\">]                                 </span>\n",
       "<span style=\"color: #808000; text-decoration-color: #808000; font-weight: bold\"> • </span><span style=\"color: #c0c0c0; text-decoration-color: #c0c0c0\">Host nation Japan finished third, setting a record for the most gold medals and total medals ever won by their  </span>\n",
       "<span style=\"color: #808000; text-decoration-color: #808000; font-weight: bold\">   </span><span style=\"color: #c0c0c0; text-decoration-color: #c0c0c0\">delegation at an Olympic Games with 27 and 58. [</span><a href=\"https://en.wikipedia.org/wiki/2020_Summer_Olympics\" target=\"_blank\"><span style=\"color: #000080; text-decoration-color: #000080; text-decoration: underline\">2020 Summer Olympics</span></a><span style=\"color: #c0c0c0; text-decoration-color: #c0c0c0\">]                                           </span>\n",
       "</pre>\n"
      ],
      "text/plain": [
       "\n",
       "                                                   \u001b[37mUnited States\u001b[0m                                                   \n",
       "\n",
       "\u001b[37mHere is the what context provides to your question:\u001b[0m                                                                \n",
       "\n",
       "\u001b[1;33m • \u001b[0m\u001b[37mThe United States topped the medal table by both total golds (39) and total medals (113). [\u001b[0m\u001b]8;id=486532;https://en.wikipedia.org/wiki/2020_Summer_Olympics\u001b\\\u001b[4;34m2020 Summer Olympics\u001b[0m\u001b]8;;\u001b\\\u001b[37m]\u001b[0m\n",
       "\u001b[1;33m • \u001b[0m\u001b[37mChina finished second with 38 golds and 89 total medals. [\u001b[0m\u001b]8;id=467355;https://en.wikipedia.org/wiki/2020_Summer_Olympics\u001b\\\u001b[4;34m2020 Summer Olympics\u001b[0m\u001b]8;;\u001b\\\u001b[37m]\u001b[0m\u001b[37m                                 \u001b[0m\n",
       "\u001b[1;33m • \u001b[0m\u001b[37mHost nation Japan finished third, setting a record for the most gold medals and total medals ever won by their \u001b[0m\u001b[37m \u001b[0m\n",
       "\u001b[1;33m   \u001b[0m\u001b[37mdelegation at an Olympic Games with 27 and 58. [\u001b[0m\u001b]8;id=141690;https://en.wikipedia.org/wiki/2020_Summer_Olympics\u001b\\\u001b[4;34m2020 Summer Olympics\u001b[0m\u001b]8;;\u001b\\\u001b[37m]\u001b[0m\u001b[37m                                           \u001b[0m\n"
      ]
     },
     "metadata": {},
     "output_type": "display_data"
    }
   ],
   "source": [
    "rich_console.print(Markdown(response.format_response()))"
   ]
  },
  {
   "cell_type": "markdown",
   "metadata": {},
   "source": [
    "### Our RAG Limitations"
   ]
  },
  {
   "cell_type": "markdown",
   "metadata": {},
   "source": [
    "1. Up-to-date facts"
   ]
  },
  {
   "cell_type": "code",
   "execution_count": 15,
   "metadata": {},
   "outputs": [
    {
     "data": {
      "text/html": [
       "<pre style=\"white-space:pre;overflow-x:auto;line-height:normal;font-family:Menlo,'DejaVu Sans Mono',consolas,'Courier New',monospace\">\n",
       "                                                    <span style=\"color: #c0c0c0; text-decoration-color: #c0c0c0\">Charles III</span>                                                    \n",
       "\n",
       "<span style=\"color: #c0c0c0; text-decoration-color: #c0c0c0\">Here is the what context provides to your question:</span>                                                                \n",
       "\n",
       "<span style=\"color: #808000; text-decoration-color: #808000; font-weight: bold\"> • </span><span style=\"color: #c0c0c0; text-decoration-color: #c0c0c0\">Elizabeth II was Queen of the United Kingdom and other Commonwealth realms from 6 February 1952 until her death </span>\n",
       "<span style=\"color: #808000; text-decoration-color: #808000; font-weight: bold\">   </span><span style=\"color: #c0c0c0; text-decoration-color: #c0c0c0\">on 8 September 2022. [</span><a href=\"https://en.wikipedia.org/wiki/Elizabeth_II\" target=\"_blank\"><span style=\"color: #000080; text-decoration-color: #000080; text-decoration: underline\">Elizabeth II</span></a><span style=\"color: #c0c0c0; text-decoration-color: #c0c0c0\">]                                                                             </span>\n",
       "<span style=\"color: #808000; text-decoration-color: #808000; font-weight: bold\"> • </span><span style=\"color: #c0c0c0; text-decoration-color: #c0c0c0\">Elizabeth II and Philip Mountbatten had four children: Charles, Anne, Andrew, and Edward. [</span><a href=\"https://en.wikipedia.org/wiki/Elizabeth_II\" target=\"_blank\"><span style=\"color: #000080; text-decoration-color: #000080; text-decoration: underline\">Elizabeth II</span></a><span style=\"color: #c0c0c0; text-decoration-color: #c0c0c0\">]        </span>\n",
       "<span style=\"color: #808000; text-decoration-color: #808000; font-weight: bold\"> • </span><span style=\"color: #c0c0c0; text-decoration-color: #c0c0c0\">Therefore, following Elizabeth II's death, her eldest son Charles succeeded to the throne and is the King       </span>\n",
       "<span style=\"color: #808000; text-decoration-color: #808000; font-weight: bold\">   </span><span style=\"color: #c0c0c0; text-decoration-color: #c0c0c0\">(styled Charles III). [</span><a href=\"https://en.wikipedia.org/wiki/Elizabeth_II\" target=\"_blank\"><span style=\"color: #000080; text-decoration-color: #000080; text-decoration: underline\">Elizabeth II</span></a><span style=\"color: #c0c0c0; text-decoration-color: #c0c0c0\">]                                                                            </span>\n",
       "</pre>\n"
      ],
      "text/plain": [
       "\n",
       "                                                    \u001b[37mCharles III\u001b[0m                                                    \n",
       "\n",
       "\u001b[37mHere is the what context provides to your question:\u001b[0m                                                                \n",
       "\n",
       "\u001b[1;33m • \u001b[0m\u001b[37mElizabeth II was Queen of the United Kingdom and other Commonwealth realms from 6 February 1952 until her death \u001b[0m\n",
       "\u001b[1;33m   \u001b[0m\u001b[37mon 8 September 2022. [\u001b[0m\u001b]8;id=133873;https://en.wikipedia.org/wiki/Elizabeth_II\u001b\\\u001b[4;34mElizabeth II\u001b[0m\u001b]8;;\u001b\\\u001b[37m]\u001b[0m\u001b[37m                                                                             \u001b[0m\n",
       "\u001b[1;33m • \u001b[0m\u001b[37mElizabeth II and Philip Mountbatten had four children: Charles, Anne, Andrew, and Edward. [\u001b[0m\u001b]8;id=106545;https://en.wikipedia.org/wiki/Elizabeth_II\u001b\\\u001b[4;34mElizabeth II\u001b[0m\u001b]8;;\u001b\\\u001b[37m]\u001b[0m\u001b[37m        \u001b[0m\n",
       "\u001b[1;33m • \u001b[0m\u001b[37mTherefore, following Elizabeth II's death, her eldest son Charles succeeded to the throne and is the King \u001b[0m\u001b[37m      \u001b[0m\n",
       "\u001b[1;33m   \u001b[0m\u001b[37m(styled Charles III). [\u001b[0m\u001b]8;id=641835;https://en.wikipedia.org/wiki/Elizabeth_II\u001b\\\u001b[4;34mElizabeth II\u001b[0m\u001b]8;;\u001b\\\u001b[37m]\u001b[0m\u001b[37m                                                                            \u001b[0m\n"
      ]
     },
     "metadata": {},
     "output_type": "display_data"
    }
   ],
   "source": [
    "response, context = llm_client.call_llm(\n",
    "    query=\"Who is the King of England?\",\n",
    "    prompt=CitationPrompt(),\n",
    ")\n",
    "rich_console.print(Markdown(response.format_response()))"
   ]
  },
  {
   "cell_type": "markdown",
   "metadata": {},
   "source": [
    "2. Single-turn search"
   ]
  },
  {
   "cell_type": "code",
   "execution_count": 16,
   "metadata": {},
   "outputs": [
    {
     "data": {
      "text/html": [
       "<pre style=\"white-space:pre;overflow-x:auto;line-height:normal;font-family:Menlo,'DejaVu Sans Mono',consolas,'Courier New',monospace\">┏━━━━━━━━━━━━━━━━━━━━━━━━━━━━━━━━━━━━━━━━━━━━━━━━━━━━━━━━━━━━━━━━━━━━━━━━━━━━━━━━━━━━━━━━━━━━━━━━━━━━━━━━━━━━━━━━━┓\n",
       "┃                           <span style=\"font-weight: bold\">Average age of the latest 5 presidents of the United States</span>                           ┃\n",
       "┗━━━━━━━━━━━━━━━━━━━━━━━━━━━━━━━━━━━━━━━━━━━━━━━━━━━━━━━━━━━━━━━━━━━━━━━━━━━━━━━━━━━━━━━━━━━━━━━━━━━━━━━━━━━━━━━━━┛\n",
       "\n",
       "Here is the what context provides to your question:                                                                \n",
       "\n",
       "<span style=\"color: #808000; text-decoration-color: #808000; font-weight: bold\"> • </span>The incumbent president is Joe Biden. [<a href=\"https://en.wikipedia.org/wiki/List_of_presidents_of_the_United_States\" target=\"_blank\"><span style=\"color: #000080; text-decoration-color: #000080; text-decoration: underline\">List of presidents of the United States</span></a>]                                 \n",
       "<span style=\"color: #808000; text-decoration-color: #808000; font-weight: bold\"> • </span>The provided context does not include the birthdates or ages of the latest five presidents, so an average age   \n",
       "<span style=\"color: #808000; text-decoration-color: #808000; font-weight: bold\">   </span>cannot be calculated from these documents alone.                                                                \n",
       "<span style=\"color: #808000; text-decoration-color: #808000; font-weight: bold\"> • </span>To compute the average age you need the birthdates (or current ages) of the five most recent presidents (the    \n",
       "<span style=\"color: #808000; text-decoration-color: #808000; font-weight: bold\">   </span>incumbent plus the four immediate predecessors); provide those birthdates or links to their pages and I will    \n",
       "<span style=\"color: #808000; text-decoration-color: #808000; font-weight: bold\">   </span>calculate the average.                                                                                          \n",
       "</pre>\n"
      ],
      "text/plain": [
       "┏━━━━━━━━━━━━━━━━━━━━━━━━━━━━━━━━━━━━━━━━━━━━━━━━━━━━━━━━━━━━━━━━━━━━━━━━━━━━━━━━━━━━━━━━━━━━━━━━━━━━━━━━━━━━━━━━━┓\n",
       "┃                           \u001b[1mAverage age of the latest 5 presidents of the United States\u001b[0m                           ┃\n",
       "┗━━━━━━━━━━━━━━━━━━━━━━━━━━━━━━━━━━━━━━━━━━━━━━━━━━━━━━━━━━━━━━━━━━━━━━━━━━━━━━━━━━━━━━━━━━━━━━━━━━━━━━━━━━━━━━━━━┛\n",
       "\n",
       "Here is the what context provides to your question:                                                                \n",
       "\n",
       "\u001b[1;33m • \u001b[0mThe incumbent president is Joe Biden. [\u001b]8;id=108273;https://en.wikipedia.org/wiki/List_of_presidents_of_the_United_States\u001b\\\u001b[4;34mList of presidents of the United States\u001b[0m\u001b]8;;\u001b\\]                                 \n",
       "\u001b[1;33m • \u001b[0mThe provided context does not include the birthdates or ages of the latest five presidents, so an average age   \n",
       "\u001b[1;33m   \u001b[0mcannot be calculated from these documents alone.                                                                \n",
       "\u001b[1;33m • \u001b[0mTo compute the average age you need the birthdates (or current ages) of the five most recent presidents (the    \n",
       "\u001b[1;33m   \u001b[0mincumbent plus the four immediate predecessors); provide those birthdates or links to their pages and I will    \n",
       "\u001b[1;33m   \u001b[0mcalculate the average.                                                                                          \n"
      ]
     },
     "metadata": {},
     "output_type": "display_data"
    }
   ],
   "source": [
    "response, context = llm_client.call_llm(\n",
    "    query=\"Average age of the latest 5 presidents of the United States\",\n",
    "    prompt=CitationPrompt(),\n",
    ")\n",
    "display(Markdown(response.format_response()))"
   ]
  },
  {
   "cell_type": "markdown",
   "metadata": {},
   "source": [
    "3. Stateless\n",
    "\n",
    "Cannot continue conversation "
   ]
  },
  {
   "cell_type": "markdown",
   "metadata": {},
   "source": [
    "# So, what are agents?"
   ]
  },
  {
   "cell_type": "markdown",
   "metadata": {},
   "source": [
    "1. Agents are to overcome the “limitations” of LLMs. \n",
    "    - instead of training for solving the tasks, let them use tools to solve a task!"
   ]
  },
  {
   "cell_type": "markdown",
   "metadata": {},
   "source": [
    "2. Anthropic / Langgraph: \"Workflow\" vs \"Agents\":\n",
    "    - \"**Workflows** are systems where LLMs and tools are orchestrated through predefined code paths.\"\n",
    "    - \"**Agents** are systems where LLMs dynamically direct their own processes and tool usage, maintaining control over how they accomplish tasks.\"\n",
    "    - “**Agents** can be used for open-ended problems where it’s difficult or impossible to predict the required number of steps, and where you can’t hardcode a fixed path.“\n",
    "    - **Agents** have **environment** and **feedback** from that environment (e.g. SWE Bench)"
   ]
  },
  {
   "cell_type": "markdown",
   "metadata": {},
   "source": [
    "![](resources/agent_workflow.png)"
   ]
  },
  {
   "cell_type": "markdown",
   "metadata": {},
   "source": [
    "3. OpenAI: \"An AI system that has instructions (what it should do), guardrails (what it should not do), and access to tools (what it can do) to take action on the user’s behalf\""
   ]
  },
  {
   "cell_type": "markdown",
   "metadata": {},
   "source": [
    "# Agentic system"
   ]
  },
  {
   "cell_type": "markdown",
   "metadata": {},
   "source": [
    "![](resources/flow-schema-1.png)"
   ]
  },
  {
   "cell_type": "code",
   "execution_count": 17,
   "metadata": {},
   "outputs": [],
   "source": [
    "from langgraph.graph import MessagesState\n",
    "from langgraph.graph import StateGraph, START, END\n",
    "from langgraph.types import Command\n",
    "from langchain_core.messages import (\n",
    "    BaseMessage,\n",
    "    SystemMessage,\n",
    "    HumanMessage,\n",
    "    ToolMessage,\n",
    "    AIMessage,\n",
    "    get_buffer_string,\n",
    ")\n",
    "from typing import Literal, Sequence, Annotated, TypedDict\n",
    "from langgraph.graph.message import add_messages\n",
    "from langgraph.checkpoint.memory import InMemorySaver\n",
    "import operator\n",
    "import json"
   ]
  },
  {
   "cell_type": "markdown",
   "metadata": {},
   "source": [
    "## Tools"
   ]
  },
  {
   "cell_type": "code",
   "execution_count": 18,
   "metadata": {},
   "outputs": [],
   "source": [
    "from tools import tavily_search, think_tool, ConductResearch, ResearchComplete"
   ]
  },
  {
   "cell_type": "markdown",
   "metadata": {},
   "source": [
    "### Retrieval as mcp tool"
   ]
  },
  {
   "cell_type": "markdown",
   "metadata": {},
   "source": [
    "![](resources/flow-schema-2.png)"
   ]
  },
  {
   "cell_type": "code",
   "execution_count": 19,
   "metadata": {},
   "outputs": [
    {
     "data": {
      "text/html": [
       "<pre style=\"white-space:pre;overflow-x:auto;line-height:normal;font-family:Menlo,'DejaVu Sans Mono',consolas,'Courier New',monospace\">\n",
       "Retrieve relevant passages from a local, offline vector index — not the web.\n",
       "\n",
       "This tool searches only your locally indexed documents <span style=\"font-weight: bold\">(</span>Chroma<span style=\"font-weight: bold\">)</span> and never\n",
       "accesses the internet. Results are semantic matches from your curated corpus,\n",
       "not live web pages or news. Use web search tools for external or up-to-date\n",
       "information.\n",
       "\n",
       "Args:\n",
       "    query <span style=\"font-weight: bold\">(</span>str<span style=\"font-weight: bold\">)</span>: Natural-language query to search the local index.\n",
       "    top_k <span style=\"font-weight: bold\">(</span>int, optional<span style=\"font-weight: bold\">)</span>: Maximum number of passages to return. Defaults to <span style=\"color: #008080; text-decoration-color: #008080; font-weight: bold\">3</span>.\n",
       "\n",
       "Returns:\n",
       "    list<span style=\"font-weight: bold\">[</span>dict<span style=\"font-weight: bold\">]</span>: Each item includes <span style=\"color: #008000; text-decoration-color: #008000\">'content'</span> <span style=\"font-weight: bold\">(</span>text<span style=\"font-weight: bold\">)</span> and may include\n",
       "    <span style=\"color: #008000; text-decoration-color: #008000\">'url'</span> and <span style=\"color: #008000; text-decoration-color: #008000\">'title'</span> when available.\n",
       "\n",
       "\n",
       "retrieve_docs\n",
       "<span style=\"font-weight: bold\">{</span><span style=\"color: #008000; text-decoration-color: #008000\">'query'</span>: <span style=\"font-weight: bold\">{</span><span style=\"color: #008000; text-decoration-color: #008000\">'title'</span>: <span style=\"color: #008000; text-decoration-color: #008000\">'Query'</span>, <span style=\"color: #008000; text-decoration-color: #008000\">'type'</span>: <span style=\"color: #008000; text-decoration-color: #008000\">'string'</span><span style=\"font-weight: bold\">}</span>, <span style=\"color: #008000; text-decoration-color: #008000\">'top_k'</span>: <span style=\"font-weight: bold\">{</span><span style=\"color: #008000; text-decoration-color: #008000\">'default'</span>: <span style=\"color: #008080; text-decoration-color: #008080; font-weight: bold\">3</span>, <span style=\"color: #008000; text-decoration-color: #008000\">'title'</span>: <span style=\"color: #008000; text-decoration-color: #008000\">'Top K'</span>, <span style=\"color: #008000; text-decoration-color: #008000\">'type'</span>: <span style=\"color: #008000; text-decoration-color: #008000\">'integer'</span><span style=\"font-weight: bold\">}}</span>\n",
       "</pre>\n"
      ],
      "text/plain": [
       "\n",
       "Retrieve relevant passages from a local, offline vector index — not the web.\n",
       "\n",
       "This tool searches only your locally indexed documents \u001b[1m(\u001b[0mChroma\u001b[1m)\u001b[0m and never\n",
       "accesses the internet. Results are semantic matches from your curated corpus,\n",
       "not live web pages or news. Use web search tools for external or up-to-date\n",
       "information.\n",
       "\n",
       "Args:\n",
       "    query \u001b[1m(\u001b[0mstr\u001b[1m)\u001b[0m: Natural-language query to search the local index.\n",
       "    top_k \u001b[1m(\u001b[0mint, optional\u001b[1m)\u001b[0m: Maximum number of passages to return. Defaults to \u001b[1;36m3\u001b[0m.\n",
       "\n",
       "Returns:\n",
       "    list\u001b[1m[\u001b[0mdict\u001b[1m]\u001b[0m: Each item includes \u001b[32m'content'\u001b[0m \u001b[1m(\u001b[0mtext\u001b[1m)\u001b[0m and may include\n",
       "    \u001b[32m'url'\u001b[0m and \u001b[32m'title'\u001b[0m when available.\n",
       "\n",
       "\n",
       "retrieve_docs\n",
       "\u001b[1m{\u001b[0m\u001b[32m'query'\u001b[0m: \u001b[1m{\u001b[0m\u001b[32m'title'\u001b[0m: \u001b[32m'Query'\u001b[0m, \u001b[32m'type'\u001b[0m: \u001b[32m'string'\u001b[0m\u001b[1m}\u001b[0m, \u001b[32m'top_k'\u001b[0m: \u001b[1m{\u001b[0m\u001b[32m'default'\u001b[0m: \u001b[1;36m3\u001b[0m, \u001b[32m'title'\u001b[0m: \u001b[32m'Top K'\u001b[0m, \u001b[32m'type'\u001b[0m: \u001b[32m'integer'\u001b[0m\u001b[1m}\u001b[0m\u001b[1m}\u001b[0m\n"
      ]
     },
     "metadata": {},
     "output_type": "display_data"
    }
   ],
   "source": [
    "from langchain_mcp_adapters.client import MultiServerMCPClient\n",
    "\n",
    "mcp_config = {\n",
    "    \"retrieval\": {\n",
    "        \"command\": \"python\",\n",
    "        \"args\": [\"-m\", \"mcp_retrieval\"],\n",
    "        \"transport\": \"stdio\",\n",
    "    }\n",
    "}\n",
    "\n",
    "_client = None\n",
    "\n",
    "\n",
    "def get_mcp_client():\n",
    "    \"\"\"Get or initialize MCP client lazily to avoid issues with LangGraph Platform.\"\"\"\n",
    "    global _client\n",
    "    if _client is None:\n",
    "        _client = MultiServerMCPClient(mcp_config)\n",
    "    return _client\n",
    "\n",
    "\n",
    "retrieval_client = get_mcp_client()\n",
    "retrieval_tools = await retrieval_client.get_tools()\n",
    "for tool in retrieval_tools:\n",
    "    rich_console.print(tool.description, tool.name, tool.args, sep=\"\\n\\n\")"
   ]
  },
  {
   "cell_type": "code",
   "execution_count": 20,
   "metadata": {},
   "outputs": [
    {
     "data": {
      "text/html": [
       "<pre style=\"white-space:pre;overflow-x:auto;line-height:normal;font-family:Menlo,'DejaVu Sans Mono',consolas,'Courier New',monospace\"><span style=\"font-weight: bold\">{</span>\n",
       "  <span style=\"color: #008000; text-decoration-color: #008000\">\"content\"</span>: <span style=\"color: #008000; text-decoration-color: #008000\">\"of England, and ended his life as a prisoner under Queen Elizabeth.\"</span>,\n",
       "  <span style=\"color: #008000; text-decoration-color: #008000\">\"url\"</span>: <span style=\"color: #008000; text-decoration-color: #008000\">\"https://en.wikipedia.org/wiki/Savage_family\"</span>,\n",
       "  <span style=\"color: #008000; text-decoration-color: #008000\">\"title\"</span>: <span style=\"color: #008000; text-decoration-color: #008000\">\"Savage family\"</span>\n",
       "<span style=\"font-weight: bold\">}</span>\n",
       "</pre>\n"
      ],
      "text/plain": [
       "\u001b[1m{\u001b[0m\n",
       "  \u001b[32m\"content\"\u001b[0m: \u001b[32m\"of England, and ended his life as a prisoner under Queen Elizabeth.\"\u001b[0m,\n",
       "  \u001b[32m\"url\"\u001b[0m: \u001b[32m\"https://en.wikipedia.org/wiki/Savage_family\"\u001b[0m,\n",
       "  \u001b[32m\"title\"\u001b[0m: \u001b[32m\"Savage family\"\u001b[0m\n",
       "\u001b[1m}\u001b[0m\n"
      ]
     },
     "metadata": {},
     "output_type": "display_data"
    },
    {
     "data": {
      "text/html": [
       "<pre style=\"white-space:pre;overflow-x:auto;line-height:normal;font-family:Menlo,'DejaVu Sans Mono',consolas,'Courier New',monospace\"><span style=\"font-weight: bold\">{</span>\n",
       "  <span style=\"color: #008000; text-decoration-color: #008000\">\"content\"</span>: <span style=\"color: #008000; text-decoration-color: #008000\">\"really is or whether all of this is an act of his craft.\"</span>,\n",
       "  <span style=\"color: #008000; text-decoration-color: #008000\">\"url\"</span>: <span style=\"color: #008000; text-decoration-color: #008000\">\"https://en.wikipedia.org/wiki/Adventures_of_Omanakuttan\"</span>,\n",
       "  <span style=\"color: #008000; text-decoration-color: #008000\">\"title\"</span>: <span style=\"color: #008000; text-decoration-color: #008000\">\"Adventures of Omanakuttan\"</span>\n",
       "<span style=\"font-weight: bold\">}</span>\n",
       "</pre>\n"
      ],
      "text/plain": [
       "\u001b[1m{\u001b[0m\n",
       "  \u001b[32m\"content\"\u001b[0m: \u001b[32m\"really is or whether all of this is an act of his craft.\"\u001b[0m,\n",
       "  \u001b[32m\"url\"\u001b[0m: \u001b[32m\"https://en.wikipedia.org/wiki/Adventures_of_Omanakuttan\"\u001b[0m,\n",
       "  \u001b[32m\"title\"\u001b[0m: \u001b[32m\"Adventures of Omanakuttan\"\u001b[0m\n",
       "\u001b[1m}\u001b[0m\n"
      ]
     },
     "metadata": {},
     "output_type": "display_data"
    },
    {
     "data": {
      "text/html": [
       "<pre style=\"white-space:pre;overflow-x:auto;line-height:normal;font-family:Menlo,'DejaVu Sans Mono',consolas,'Courier New',monospace\"><span style=\"font-weight: bold\">{</span>\n",
       "  <span style=\"color: #008000; text-decoration-color: #008000\">\"content\"</span>: <span style=\"color: #008000; text-decoration-color: #008000\">\"party and effectively allowing Maine to rule France for the next eight years.\"</span>,\n",
       "  <span style=\"color: #008000; text-decoration-color: #008000\">\"url\"</span>: <span style=\"color: #008000; text-decoration-color: #008000\">\"https://en.wikipedia.org/wiki/Louis_XV\"</span>,\n",
       "  <span style=\"color: #008000; text-decoration-color: #008000\">\"title\"</span>: <span style=\"color: #008000; text-decoration-color: #008000\">\"Louis XV\"</span>\n",
       "<span style=\"font-weight: bold\">}</span>\n",
       "</pre>\n"
      ],
      "text/plain": [
       "\u001b[1m{\u001b[0m\n",
       "  \u001b[32m\"content\"\u001b[0m: \u001b[32m\"party and effectively allowing Maine to rule France for the next eight years.\"\u001b[0m,\n",
       "  \u001b[32m\"url\"\u001b[0m: \u001b[32m\"https://en.wikipedia.org/wiki/Louis_XV\"\u001b[0m,\n",
       "  \u001b[32m\"title\"\u001b[0m: \u001b[32m\"Louis XV\"\u001b[0m\n",
       "\u001b[1m}\u001b[0m\n"
      ]
     },
     "metadata": {},
     "output_type": "display_data"
    }
   ],
   "source": [
    "search_results = await retrieval_tools[0].ainvoke(\n",
    "    {\"query\": \"Who is the King of England?\", \"k\": 3}\n",
    ")\n",
    "\n",
    "for result in search_results:\n",
    "    rich_console.print(result)"
   ]
  },
  {
   "cell_type": "markdown",
   "metadata": {},
   "source": [
    "### Web search"
   ]
  },
  {
   "cell_type": "code",
   "execution_count": 21,
   "metadata": {},
   "outputs": [
    {
     "name": "stdout",
     "output_type": "stream",
     "text": [
      "Description: Fetch results from Tavily search API with content summarization.\n",
      "Name: tavily_search\n",
      "Args: {\n",
      "  \"query\": {\n",
      "    \"description\": \"A single search query to execute. Max 200 characters.\",\n",
      "    \"title\": \"Query\",\n",
      "    \"type\": \"string\"\n",
      "  },\n",
      "  \"max_results\": {\n",
      "    \"default\": 3,\n",
      "    \"description\": \"Maximum number of results to return\",\n",
      "    \"title\": \"Max Results\",\n",
      "    \"type\": \"integer\"\n",
      "  },\n",
      "  \"topic\": {\n",
      "    \"default\": \"general\",\n",
      "    \"description\": \"Topic to filter results by ('general', 'news', 'finance')\",\n",
      "    \"enum\": [\n",
      "      \"general\",\n",
      "      \"news\",\n",
      "      \"finance\"\n",
      "    ],\n",
      "    \"title\": \"Topic\",\n",
      "    \"type\": \"string\"\n",
      "  }\n",
      "}\n"
     ]
    }
   ],
   "source": [
    "print(\"Description:\", tavily_search.description)\n",
    "print(\"Name:\", tavily_search.name)\n",
    "print(\"Args:\", json.dumps(tavily_search.args, indent=2))"
   ]
  },
  {
   "cell_type": "code",
   "execution_count": 22,
   "metadata": {},
   "outputs": [
    {
     "name": "stdout",
     "output_type": "stream",
     "text": [
      "1. Monarchy of the United Kingdom - Wikipedia\n",
      "   https://en.wikipedia.org/wiki/Monarchy_of_the_United_Kingdom\n",
      "   The monarch since 8 September 2022 is King Charles III, who ascended the throne on the death of Queen Elizabeth II, his mother....\n",
      "\n",
      "2. Charles III - Wikipedia\n",
      "   https://en.wikipedia.org/wiki/Charles_III\n",
      "   Charles III (Charles Philip Arthur George; born 14 November 1948) is King of the United Kingdom and the 14 other Commonwealth realms....\n",
      "\n",
      "3. King Charles III | Biography, Prince, Wife, Cancer, & Age | Britannica\n",
      "   https://www.britannica.com/biography/Charles-III-king-of-the-United-Kingdom\n",
      "   * When did Charles III become king of the United Kingdom? * What was Charles III's title before he became king? **Charles III** (born November 14, 1948, Buckingham Palace, London, England) is the king...\n",
      "\n"
     ]
    }
   ],
   "source": [
    "query = \"Who is the King of England?\"\n",
    "params = {\"query\": query, \"max_results\": 3, \"topic\": \"general\"}\n",
    "result = tavily_search.invoke(params)\n",
    "\n",
    "i = 0\n",
    "for url, doc in result.items():\n",
    "    i += 1\n",
    "    title = doc.get(\"title\", \"(no title)\")\n",
    "    snippet = (doc.get(\"content\", \"\") or \"\").replace(\"\\n\", \" \")[:200]\n",
    "    print(f\"{i}. {title}\\n   {url}\\n   {snippet}...\\n\")"
   ]
  },
  {
   "cell_type": "markdown",
   "metadata": {},
   "source": [
    "### Think tool"
   ]
  },
  {
   "cell_type": "markdown",
   "metadata": {},
   "source": [
    "![](resources/sonnet-scores.png)"
   ]
  },
  {
   "cell_type": "code",
   "execution_count": 23,
   "metadata": {},
   "outputs": [
    {
     "name": "stdout",
     "output_type": "stream",
     "text": [
      "Description: Tool for strategic reflection on research progress and decision-making. Use this tool after each search to analyze results and plan next steps systematically.\n",
      "This creates a deliberate pause in the research workflow for quality decision-making. When to use:\n",
      "- After receiving search results: What key information did I find?\n",
      "- Before deciding next steps: Do I have enough to answer comprehensively?\n",
      "- When assessing research gaps: What specific information am I still missing?\n",
      "- Before concluding research: Can I provide a complete answer now? Reflection should address:\n",
      "1. Analysis of current findings - What concrete information have I gathered?\n",
      "2. Gap assessment - What crucial information is still missing?\n",
      "3. Quality evaluation - Do I have sufficient evidence/examples for a good answer?\n",
      "4. Strategic decision - Should I continue searching or provide my answer? \n",
      "\n",
      "\n",
      "Name: think_tool \n",
      "\n",
      "\n",
      "Args: {\n",
      "  \"reflection\": {\n",
      "    \"description\": \"Your detailed reflection on research progress, findings, gaps, and next steps\",\n",
      "    \"title\": \"Reflection\",\n",
      "    \"type\": \"string\"\n",
      "  }\n",
      "} \n",
      "\n",
      "\n"
     ]
    }
   ],
   "source": [
    "print(\"Description:\", think_tool.description, \"\\n\\n\")\n",
    "print(\"Name:\", think_tool.name, \"\\n\\n\")\n",
    "print(\"Args:\", json.dumps(think_tool.args, indent=2), \"\\n\\n\")"
   ]
  },
  {
   "cell_type": "code",
   "execution_count": 24,
   "metadata": {},
   "outputs": [
    {
     "data": {
      "text/plain": [
       "'Reflection recorded: I need to search for the current King of England.'"
      ]
     },
     "execution_count": 24,
     "metadata": {},
     "output_type": "execute_result"
    }
   ],
   "source": [
    "think_tool.invoke({\"reflection\": \"I need to search for the current King of England.\"})"
   ]
  },
  {
   "cell_type": "code",
   "execution_count": 25,
   "metadata": {},
   "outputs": [],
   "source": [
    "mcp_tools = await retrieval_client.get_tools()\n",
    "mcp_tools_by_name = {tool.name: tool for tool in mcp_tools}\n",
    "local_tools = [think_tool, tavily_search]\n",
    "local_tools_by_name = {\"think_tool\": think_tool, \"web_search\": tavily_search}"
   ]
  },
  {
   "cell_type": "markdown",
   "metadata": {},
   "source": [
    "## Research Subagent"
   ]
  },
  {
   "cell_type": "markdown",
   "metadata": {},
   "source": [
    "![](resources/flow-schema-3.png)"
   ]
  },
  {
   "cell_type": "code",
   "execution_count": 26,
   "metadata": {},
   "outputs": [],
   "source": [
    "class SubagentState(TypedDict):\n",
    "    researcher_messages: Annotated[Sequence[BaseMessage], add_messages]\n",
    "    research_topic: str\n",
    "    report: AnswerWithCitations\n",
    "    tool_call_iterations: Annotated[int, operator.add]\n",
    "\n",
    "\n",
    "class SubagentOutput(TypedDict):\n",
    "    report: AnswerWithCitations\n",
    "    researcher_messages: Annotated[Sequence[BaseMessage], add_messages]"
   ]
  },
  {
   "cell_type": "markdown",
   "metadata": {},
   "source": [
    "![](resources/flow-schema-4.png)"
   ]
  },
  {
   "cell_type": "code",
   "execution_count": 27,
   "metadata": {},
   "outputs": [],
   "source": [
    "from prompts import subagentPrompt, SummaryPrompt, SummaryInput\n",
    "\n",
    "async def llm_call(\n",
    "    state: SubagentState,\n",
    ") -> Command[Literal[\"generate_summary\", \"tools_node\"]]:\n",
    "    model = ChatOpenAI(model_name=\"gpt-5-mini\", temperature=0, max_tokens=4096)\n",
    "    model_with_tools = model.bind_tools(local_tools + mcp_tools)\n",
    "    response = model_with_tools.invoke(\n",
    "        [\n",
    "            SystemMessage(\n",
    "                content=subagentPrompt.format(\n",
    "                    research_topic=state[\"research_topic\"],\n",
    "                )\n",
    "            )\n",
    "        ]\n",
    "        + state[\"researcher_messages\"]\n",
    "    )\n",
    "\n",
    "    if not response.tool_calls or state[\"tool_call_iterations\"] >= 5:\n",
    "        print(\"Final response generated, moving to summary.\")\n",
    "        return Command(\n",
    "            goto=\"generate_summary\", update={\"researcher_messages\": [response]}\n",
    "        )\n",
    "    else:\n",
    "        print(f\"Tool calls detected ({len(response.tool_calls)}), invoking tools node.\")\n",
    "        return Command(\n",
    "            goto=\"tools_node\",\n",
    "            update={\n",
    "                \"researcher_messages\": [response],\n",
    "                \"tool_call_iterations\": state[\"tool_call_iterations\"] + 1,\n",
    "            },\n",
    "        )"
   ]
  },
  {
   "cell_type": "code",
   "execution_count": 28,
   "metadata": {},
   "outputs": [
    {
     "name": "stdout",
     "output_type": "stream",
     "text": [
      "Tool calls detected (1), invoking tools node.\n",
      "{'researcher_messages': [AIMessage(content='', additional_kwargs={'tool_calls': [{'id': 'call_H1Jxph7wfNRhVgQ02UizxuP0', 'function': {'arguments': '{\"query\":\"Genoa Cricket and Football Club history founding honours stadium Derby della Lanterna colors nickname\", \"top_k\":5}', 'name': 'retrieve_docs'}, 'type': 'function'}], 'refusal': None}, response_metadata={'token_usage': {'completion_tokens': 301, 'prompt_tokens': 980, 'total_tokens': 1281, 'completion_tokens_details': {'accepted_prediction_tokens': 0, 'audio_tokens': 0, 'reasoning_tokens': 256, 'rejected_prediction_tokens': 0}, 'prompt_tokens_details': {'audio_tokens': 0, 'cached_tokens': 0}}, 'model_name': 'gpt-5-mini-2025-08-07', 'system_fingerprint': None, 'id': 'chatcmpl-CA6NzOoOvIcizqSdzD5reEas4bYoS', 'service_tier': 'default', 'finish_reason': 'tool_calls', 'logprobs': None}, id='run--9fcc0e4a-1d93-4110-9896-1f281edb2396-0', tool_calls=[{'name': 'retrieve_docs', 'args': {'query': 'Genoa Cricket and Football Club history founding honours stadium Derby della Lanterna colors nickname', 'top_k': 5}, 'id': 'call_H1Jxph7wfNRhVgQ02UizxuP0', 'type': 'tool_call'}], usage_metadata={'input_tokens': 980, 'output_tokens': 301, 'total_tokens': 1281, 'input_token_details': {'audio': 0, 'cache_read': 0}, 'output_token_details': {'audio': 0, 'reasoning': 256}})], 'tool_call_iterations': 1}\n"
     ]
    }
   ],
   "source": [
    "llm_call_response = await llm_call(\n",
    "    {\n",
    "        \"research_topic\": \"Genoa Cricket and Football Club\",\n",
    "        \"tool_call_iterations\": 0,\n",
    "        \"researcher_messages\": [],\n",
    "    }\n",
    ")\n",
    "\n",
    "print(llm_call_response.update)"
   ]
  },
  {
   "cell_type": "markdown",
   "metadata": {},
   "source": [
    "![](resources/flow-schema-5.png)"
   ]
  },
  {
   "cell_type": "code",
   "execution_count": 29,
   "metadata": {},
   "outputs": [],
   "source": [
    "async def tools_node(state: SubagentState):\n",
    "    tool_calls = state[\"researcher_messages\"][-1].tool_calls\n",
    "    mcp_tools_by_name = {tool.name: tool for tool in mcp_tools}\n",
    "    local_tools_by_name = {tool.name: tool for tool in local_tools}\n",
    "\n",
    "    async def execute_tools():\n",
    "        observations = []\n",
    "        for tool_call in tool_calls:\n",
    "            if tool_call[\"name\"] in local_tools_by_name:\n",
    "                print(f\"Invoking local tool: {tool_call['name']}\")\n",
    "                tool = local_tools_by_name[tool_call[\"name\"]]\n",
    "                observation = tool.invoke(tool_call[\"args\"])\n",
    "\n",
    "            elif tool_call[\"name\"] in mcp_tools_by_name:\n",
    "                print(\n",
    "                    f\"Invoking MCP tool: {tool_call['name']} with args: {tool_call['args']}\"\n",
    "                )\n",
    "                tool = mcp_tools_by_name[tool_call[\"name\"]]\n",
    "                observation = await tool.ainvoke(tool_call[\"args\"])\n",
    "                observation = json.dumps(observation)\n",
    "\n",
    "            observations.append(observation)\n",
    "\n",
    "        tool_outputs = [\n",
    "            ToolMessage(\n",
    "                content=observation,\n",
    "                name=tool_call[\"name\"],\n",
    "                tool_call_id=tool_call[\"id\"],\n",
    "            )\n",
    "            for observation, tool_call in zip(observations, tool_calls)\n",
    "        ]\n",
    "\n",
    "        return tool_outputs\n",
    "\n",
    "    messages = await execute_tools()\n",
    "\n",
    "    return {\"researcher_messages\": messages}"
   ]
  },
  {
   "cell_type": "code",
   "execution_count": 30,
   "metadata": {},
   "outputs": [
    {
     "name": "stdout",
     "output_type": "stream",
     "text": [
      "Invoking MCP tool: retrieve_docs with args: {'query': 'Genoa Cricket and Football Club history founding honours stadium Derby della Lanterna colors nickname', 'top_k': 5}\n"
     ]
    }
   ],
   "source": [
    "tool_node_response = await tools_node(\n",
    "    {\n",
    "        \"research_topic\": \"Genoa Cricket and Football Club\",\n",
    "        \"tool_call_iterations\": 1,\n",
    "        \"researcher_messages\": llm_call_response.update[\"researcher_messages\"],\n",
    "    }\n",
    ")"
   ]
  },
  {
   "cell_type": "code",
   "execution_count": 31,
   "metadata": {},
   "outputs": [
    {
     "name": "stdout",
     "output_type": "stream",
     "text": [
      "('[\"{\\\\n  \\\\\"content\\\\\": \\\\\"History\\\\\\\\n\\\\\\\\nThe club was founded on 7 '\n",
      " 'September 1893 as Genoa Cricket & Athletic Club. In its earliest years, it '\n",
      " 'principally competed in athletics and cricket. Association football was only '\n",
      " 'a secondary concern. Since the club was set up to represent England abroad, '\n",
      " 'the original shirts worn by the organisation were white, the same colour as '\n",
      " 'the England national team shirt. At first Italians were not permitted to '\n",
      " \"join as it was a British sporting club abroad. Genoa's activities took place \"\n",
      " \"in the north-west of the city in the Campasso area, at the Piazza d'Armi. \"\n",
      " 'The men who initially handled the management of the club were;\\\\\\\\n\\\\\\\\nOn '\n",
      " '10 April 1897 the footballing section of the club, already in existence '\n",
      " 'since 1893, became predominant thanks to James Richardson Spensley. It was '\n",
      " 'among the oldest in Italian football at the time, only four other clubs (all '\n",
      " 'in Turin.) had been founded. Italians were allowed to join and found a new '\n",
      " 'ground in the form of Ponte Carrega.\\\\\\\\nThe first friendly match took place '\n",
      " 'at home, against a mixed team of Internazionale Torino and F.B.C. Torinese; '\n",
      " 'Genoa lost 1\\\\u20130. Not long after, Genoa recorded its first victory away '\n",
      " 'against UPS Alessandria winning 2\\\\u20130. Friendly games also took place '\n",
      " 'against various British sailors such as those from .\\\\\\\\n\\\\\\\\nChampionship '\n",
      " 'dominance\\\\\",\\\\n  \\\\\"url\\\\\": '\n",
      " '\\\\\"https://en.wikipedia.org/wiki/Genoa_CFC\\\\\",\\\\n  \\\\\"title\\\\\": \\\\\"Genoa '\n",
      " 'CFC\\\\\"\\\\n}\", \"{\\\\n  \\\\\"content\\\\\": \\\\\"External links\\\\\\\\n Top 20 oldest '\n",
      " 'football clubs in the world\\\\\\\\nUniversity of Manchester, \\\\\\\\\\\\\"Local '\n",
      " 'studies in the History of Sport England\\\\\\\\\\\\\" '\n",
      " '(Bibliography)\\\\\\\\n\\\\\\\\nHistory of association football\\\\\\\\nHistory of rugby '\n",
      " 'union\\\\\\\\nHistory of Australian rules football\\\\\\\\nHistory of rugby '\n",
      " 'league\\\\\\\\n \\\\\\\\nSuperlatives in sports\\\\\\\\nOldest things\\\\\",\\\\n  \\\\\"url\\\\\": '\n",
      " '\\\\\"https://en.wikipedia.org/wiki/Oldest_football_clubs\\\\\",\\\\n  \\\\\"title\\\\\": '\n",
      " '\\\\\"Oldest football clubs\\\\\"\\\\n}\", \"{\\\\n  \\\\\"content\\\\\": '\n",
      " '\\\\\"References\\\\\\\\n\\\\\\\\nCoventry City F.C. managers\\\\\\\\n1899 births\\\\\\\\n1947 '\n",
      " \"deaths\\\\\\\\nEnglish men's footballers\\\\\\\\nPeople from \"\n",
      " \"Alfreton\\\\\\\\nFootballers from Derbyshire\\\\\\\\nMen's association football wing \"\n",
      " 'halves\\\\\",\\\\n  \\\\\"url\\\\\": '\n",
      " '\\\\\"https://en.wikipedia.org/wiki/Dick_Bayliss\\\\\",\\\\n  \\\\\"title\\\\\": \\\\\"Dick '\n",
      " 'Bayliss\\\\\"\\\\n}\", \"{\\\\n  \\\\\"content\\\\\": \\\\\"External links\\\\\\\\n FC Augsburg '\n",
      " 'website\\\\\\\\n\\\\\\\\nFC Augsburg\\\\\\\\nAugsburg, Fc\\\\\\\\nAugsburg, Fc\\\\\",\\\\n  '\n",
      " '\\\\\"url\\\\\": '\n",
      " '\\\\\"https://en.wikipedia.org/wiki/List_of_FC_Augsburg_seasons\\\\\",\\\\n  '\n",
      " '\\\\\"title\\\\\": \\\\\"List of FC Augsburg seasons\\\\\"\\\\n}\", \"{\\\\n  \\\\\"content\\\\\": '\n",
      " '\\\\\"This is a list of stadiums in Malaysia.\\\\\\\\n\\\\\\\\nList of '\n",
      " 'stadiums\\\\\\\\n\\\\\\\\nRacing venues\\\\\\\\n\\\\\\\\nReferences\\\\\\\\n\\\\\\\\n '\n",
      " '\\\\\\\\nMalaysia\\\\\\\\n \\\\\\\\nStadium\\\\\",\\\\n  \\\\\"url\\\\\": '\n",
      " '\\\\\"https://en.wikipedia.org/wiki/List_of_stadiums_in_Malaysia\\\\\",\\\\n  '\n",
      " '\\\\\"title\\\\\": \\\\\"List of stadiums in Malaysia\\\\\"\\\\n}\"]')\n"
     ]
    }
   ],
   "source": [
    "for msg in tool_node_response[\"researcher_messages\"]:\n",
    "    pprint(msg.content)"
   ]
  },
  {
   "cell_type": "code",
   "execution_count": 32,
   "metadata": {},
   "outputs": [],
   "source": [
    "def generate_summary(state: SubagentState):\n",
    "    model = ChatOpenAI(\n",
    "        model_name=\"gpt-5-mini\", temperature=0, max_tokens=4096\n",
    "    ).with_structured_output(AnswerWithCitations)\n",
    "    print(\"Generating summary report...\")\n",
    "    messages_list = [\n",
    "        m.content\n",
    "        for m in state[\"researcher_messages\"]\n",
    "        if isinstance(m, (HumanMessage, AIMessage, ToolMessage))\n",
    "    ]\n",
    "    prompt = SummaryPrompt().to_string(SummaryInput(messages=messages_list))\n",
    "\n",
    "    result = model.invoke(prompt)\n",
    "\n",
    "    return {\"report\": result, \"researcher_messages\": state[\"researcher_messages\"]}"
   ]
  },
  {
   "cell_type": "code",
   "execution_count": 33,
   "metadata": {},
   "outputs": [
    {
     "name": "stdout",
     "output_type": "stream",
     "text": [
      "Generating summary report...\n"
     ]
    }
   ],
   "source": [
    "summary_report = generate_summary(\n",
    "    {\n",
    "        \"researcher_messages\": llm_call_response.update[\"researcher_messages\"]\n",
    "        + tool_node_response[\"researcher_messages\"],\n",
    "        \"tool_call_iterations\": 1,\n",
    "        \"research_topic\": \"Genoa Cricket and Football Club\",\n",
    "    }\n",
    ")"
   ]
  },
  {
   "cell_type": "code",
   "execution_count": 34,
   "metadata": {},
   "outputs": [
    {
     "data": {
      "text/html": [
       "<pre style=\"white-space:pre;overflow-x:auto;line-height:normal;font-family:Menlo,'DejaVu Sans Mono',consolas,'Courier New',monospace\"><span style=\"color: #c0c0c0; text-decoration-color: #c0c0c0\">Genoa CFC — summary of founding and early football history The club was founded on 7 September 1893 as Genoa </span>      \n",
       "<span style=\"color: #c0c0c0; text-decoration-color: #c0c0c0\">Cricket &amp; Athletic Club, originally focused on athletics and cricket before football became dominant. [</span><a href=\"https://en.wikipedia.org/wiki/Genoa_CFC\" target=\"_blank\"><span style=\"color: #000080; text-decoration-color: #000080; text-decoration: underline\">Genoa CFC</span></a><span style=\"color: #c0c0c0; text-decoration-color: #c0c0c0\">] </span> \n",
       "<span style=\"color: #c0c0c0; text-decoration-color: #c0c0c0\">As a British-established club abroad, Genoa initially wore white shirts like the England national team and </span>        \n",
       "<span style=\"color: #c0c0c0; text-decoration-color: #c0c0c0\">originally excluded Italians from membership. [</span><a href=\"https://en.wikipedia.org/wiki/Genoa_CFC\" target=\"_blank\"><span style=\"color: #000080; text-decoration-color: #000080; text-decoration: underline\">Genoa CFC</span></a><span style=\"color: #c0c0c0; text-decoration-color: #c0c0c0\">] On 10 April 1897 the football section became predominant </span>\n",
       "<span style=\"color: #c0c0c0; text-decoration-color: #c0c0c0\">under James Richardson Spensley; early matches included a 1–0 home loss to a mixed Internazionale Torino/F.B.C. </span>   \n",
       "<span style=\"color: #c0c0c0; text-decoration-color: #c0c0c0\">Torinese side and the club's first victory, 2–0 away at UPS Alessandria. [</span><a href=\"https://en.wikipedia.org/wiki/Genoa_CFC\" target=\"_blank\"><span style=\"color: #000080; text-decoration-color: #000080; text-decoration: underline\">Genoa CFC</span></a><span style=\"color: #c0c0c0; text-decoration-color: #c0c0c0\">] Genoa is among the oldest </span>    \n",
       "<span style=\"color: #c0c0c0; text-decoration-color: #c0c0c0\">football clubs in Italy and is referenced in lists of the world’s oldest football clubs and related histories. </span>    \n",
       "<span style=\"color: #c0c0c0; text-decoration-color: #c0c0c0\">[</span><a href=\"https://en.wikipedia.org/wiki/Oldest_football_clubs\" target=\"_blank\"><span style=\"color: #000080; text-decoration-color: #000080; text-decoration: underline\">Oldest football clubs</span></a><span style=\"color: #c0c0c0; text-decoration-color: #c0c0c0\">] Other documents in the message batch (e.g., pages on Dick Bayliss, FC Augsburg seasons, and</span>\n",
       "<span style=\"color: #c0c0c0; text-decoration-color: #c0c0c0\">Malaysian stadiums) are present but are miscellaneous and not directly relevant to Genoa's history.</span>                \n",
       "</pre>\n"
      ],
      "text/plain": [
       "\u001b[37mGenoa CFC — summary of founding and early football history\u001b[0m\u001b[37m \u001b[0m\u001b[37mThe club was founded on 7 September 1893 as Genoa \u001b[0m      \n",
       "\u001b[37mCricket & Athletic Club, originally focused on athletics and cricket before football became dominant. [\u001b[0m\u001b]8;id=274305;https://en.wikipedia.org/wiki/Genoa_CFC\u001b\\\u001b[4;34mGenoa CFC\u001b[0m\u001b]8;;\u001b\\\u001b[37m]\u001b[0m\u001b[37m \u001b[0m \n",
       "\u001b[37mAs a British-established club abroad, Genoa initially wore white shirts like the England national team and \u001b[0m        \n",
       "\u001b[37moriginally excluded Italians from membership. [\u001b[0m\u001b]8;id=274305;https://en.wikipedia.org/wiki/Genoa_CFC\u001b\\\u001b[4;34mGenoa CFC\u001b[0m\u001b]8;;\u001b\\\u001b[37m]\u001b[0m\u001b[37m \u001b[0m\u001b[37mOn 10 April 1897 the football section became predominant \u001b[0m\n",
       "\u001b[37munder James Richardson Spensley; early matches included a 1–0 home loss to a mixed Internazionale Torino/F.B.C. \u001b[0m   \n",
       "\u001b[37mTorinese side and the club's first victory, 2–0 away at UPS Alessandria. [\u001b[0m\u001b]8;id=274305;https://en.wikipedia.org/wiki/Genoa_CFC\u001b\\\u001b[4;34mGenoa CFC\u001b[0m\u001b]8;;\u001b\\\u001b[37m]\u001b[0m\u001b[37m \u001b[0m\u001b[37mGenoa is among the oldest \u001b[0m    \n",
       "\u001b[37mfootball clubs in Italy and is referenced in lists of the world’s oldest football clubs and related histories. \u001b[0m    \n",
       "\u001b[37m[\u001b[0m\u001b]8;id=756127;https://en.wikipedia.org/wiki/Oldest_football_clubs\u001b\\\u001b[4;34mOldest football clubs\u001b[0m\u001b]8;;\u001b\\\u001b[37m]\u001b[0m\u001b[37m \u001b[0m\u001b[37mOther documents in the message batch (e.g., pages on Dick Bayliss, FC Augsburg seasons, and\u001b[0m\n",
       "\u001b[37mMalaysian stadiums) are present but are miscellaneous and not directly relevant to Genoa's history.\u001b[0m                \n"
      ]
     },
     "metadata": {},
     "output_type": "display_data"
    }
   ],
   "source": [
    "rich_console.print(Markdown(summary_report[\"report\"].format_response()))"
   ]
  },
  {
   "cell_type": "code",
   "execution_count": 35,
   "metadata": {},
   "outputs": [],
   "source": [
    "def build_subagent_graph():\n",
    "    graph_builder = StateGraph(state_schema=SubagentState)\n",
    "    graph_builder.add_node(\"llm_call\", llm_call)\n",
    "    graph_builder.add_node(\"tools_node\", tools_node)\n",
    "    graph_builder.add_node(\"generate_summary\", generate_summary)\n",
    "\n",
    "    graph_builder.add_edge(START, \"llm_call\")\n",
    "\n",
    "    graph_builder.add_edge(\"tools_node\", \"llm_call\")\n",
    "    graph_builder.add_edge(\"generate_summary\", END)\n",
    "    return graph_builder.compile()"
   ]
  },
  {
   "cell_type": "code",
   "execution_count": 36,
   "metadata": {},
   "outputs": [
    {
     "data": {
      "image/png": "[encoded data removed]",
      "text/plain": [
       "<IPython.core.display.Image object>"
      ]
     },
     "metadata": {},
     "output_type": "display_data"
    }
   ],
   "source": [
    "subagent_graph = build_subagent_graph()\n",
    "display(Image(subagent_graph.get_graph(xray=True).draw_mermaid_png()))"
   ]
  },
  {
   "cell_type": "code",
   "execution_count": 37,
   "metadata": {},
   "outputs": [
    {
     "name": "stdout",
     "output_type": "stream",
     "text": [
      "Tool calls detected (1), invoking tools node.\n",
      "Invoking MCP tool: retrieve_docs with args: {'query': 'current reigning monarch King of England Charles III name regnal title', 'top_k': 3}\n",
      "Tool calls detected (1), invoking tools node.\n",
      "Invoking local tool: think_tool\n",
      "Final response generated, moving to summary.\n",
      "Generating summary report...\n"
     ]
    }
   ],
   "source": [
    "from langfuse.langchain import CallbackHandler\n",
    "from langfuse import get_client\n",
    "from langfuse import Langfuse\n",
    "\n",
    "# print(dotenv.load_dotenv())\n",
    "# langfuse = Langfuse(\n",
    "#   secret_key=os.getenv(\"LANGFUSE_SECRET_KEY\"),\n",
    "#   public_key=os.getenv(\"LANGFUSE_PUBLIC_KEY\"),\n",
    "#   host=os.getenv(\"LANGFUSE_HOST\")\n",
    "# )\n",
    "\n",
    "# langfuse = get_client(public_key=os.getenv(\"LANGFUSE_PUBLIC_KEY\"))\n",
    "# langfuse_handler = CallbackHandler(public_key=os.getenv(\"LANGFUSE_PUBLIC_KEY\"))\n",
    "# langfuse.auth_check()\n",
    "\n",
    "result = await subagent_graph.ainvoke(\n",
    "    {\n",
    "        \"research_topic\": \"Who is the current reigning monarch commonly referred to as the 'King of England' (provide name and regnal title)?\",\n",
    "        \"researcher_messages\": [],\n",
    "        \"tool_call_iterations\": 0,\n",
    "    },\n",
    "    # config={\"callbacks\": [langfuse_handler]}\n",
    ")"
   ]
  },
  {
   "cell_type": "code",
   "execution_count": 38,
   "metadata": {},
   "outputs": [
    {
     "data": {
      "text/html": [
       "<pre style=\"white-space:pre;overflow-x:auto;line-height:normal;font-family:Menlo,'DejaVu Sans Mono',consolas,'Courier New',monospace\"><span style=\"color: #c0c0c0; text-decoration-color: #c0c0c0\">King Charles III The current monarch commonly called \"King of England\" is Charles Philip Arthur George, who reigns </span>\n",
       "<span style=\"color: #c0c0c0; text-decoration-color: #c0c0c0\">as His Majesty King Charles III. [</span><a href=\"https://en.wikipedia.org/wiki/Charles_III\" target=\"_blank\"><span style=\"color: #000080; text-decoration-color: #000080; text-decoration: underline\">Charles III</span></a><span style=\"color: #c0c0c0; text-decoration-color: #c0c0c0\">] Source: Wikipedia entry for Charles III lists his full name (Charles</span>\n",
       "<span style=\"color: #c0c0c0; text-decoration-color: #c0c0c0\">Philip Arthur George) and regnal title (King Charles III). [</span><a href=\"https://en.wikipedia.org/wiki/Charles_III\" target=\"_blank\"><span style=\"color: #000080; text-decoration-color: #000080; text-decoration: underline\">Charles III</span></a><span style=\"color: #c0c0c0; text-decoration-color: #c0c0c0\">] Conclusion: Name and regnal title </span>        \n",
       "<span style=\"color: #c0c0c0; text-decoration-color: #c0c0c0\">provided; no further information required for this question.</span>                                                       \n",
       "</pre>\n"
      ],
      "text/plain": [
       "\u001b[37mKing Charles III\u001b[0m\u001b[37m \u001b[0m\u001b[37mThe current monarch commonly called \"King of England\" is Charles Philip Arthur George, who reigns \u001b[0m\n",
       "\u001b[37mas His Majesty King Charles III. [\u001b[0m\u001b]8;id=570260;https://en.wikipedia.org/wiki/Charles_III\u001b\\\u001b[4;34mCharles III\u001b[0m\u001b]8;;\u001b\\\u001b[37m]\u001b[0m\u001b[37m \u001b[0m\u001b[37mSource: Wikipedia entry for Charles III lists his full name (Charles\u001b[0m\n",
       "\u001b[37mPhilip Arthur George) and regnal title (King Charles III). [\u001b[0m\u001b]8;id=570260;https://en.wikipedia.org/wiki/Charles_III\u001b\\\u001b[4;34mCharles III\u001b[0m\u001b]8;;\u001b\\\u001b[37m]\u001b[0m\u001b[37m \u001b[0m\u001b[37mConclusion: Name and regnal title \u001b[0m        \n",
       "\u001b[37mprovided; no further information required for this question.\u001b[0m                                                       \n"
      ]
     },
     "metadata": {},
     "output_type": "display_data"
    }
   ],
   "source": [
    "rich_console.print(Markdown(result[\"report\"].format_response()))"
   ]
  },
  {
   "cell_type": "markdown",
   "metadata": {},
   "source": [
    "# Research Supervisor"
   ]
  },
  {
   "cell_type": "markdown",
   "metadata": {},
   "source": [
    "![](resources/flow-schema-6.png)"
   ]
  },
  {
   "cell_type": "code",
   "execution_count": 39,
   "metadata": {},
   "outputs": [],
   "source": [
    "class RagGraphState(MessagesState):\n",
    "    search_topics: Annotated[list[str], operator.add]\n",
    "    plan: Annotated[list[str], operator.add]\n",
    "    supervisor_messages_buffer: Annotated[Sequence[BaseMessage], add_messages]\n",
    "    clarification_rounds: Annotated[int, operator.add]\n",
    "    subagents_calls: Annotated[int, operator.add]\n",
    "    max_subagent_calls: Annotated[int, operator.add]\n",
    "    current_task: str\n",
    "    final_answer: AnswerWithCitations\n",
    "\n",
    "\n",
    "class FlowInput(MessagesState):\n",
    "    pass"
   ]
  },
  {
   "cell_type": "markdown",
   "metadata": {},
   "source": [
    "## Delegation"
   ]
  },
  {
   "cell_type": "markdown",
   "metadata": {},
   "source": [
    "![](resources/flow-schema-7.png)"
   ]
  },
  {
   "cell_type": "code",
   "execution_count": 40,
   "metadata": {},
   "outputs": [],
   "source": [
    "from prompts import supervisorPrompt\n",
    "\n",
    "async def supervisor(\n",
    "    state: RagGraphState,\n",
    ") -> Command[Literal[\"delegate\", \"execute_plan\"]]:\n",
    "    print(\"Supervisor called\")\n",
    "    # limit of the calls achieved\n",
    "    call_limit = state[\"subagents_calls\"] >= state.get(\"max_subagent_calls\", 5)\n",
    "    # research was complete\n",
    "    research_complete = False\n",
    "    if len(state[\"supervisor_messages_buffer\"]) > 0 and hasattr(\n",
    "        state[\"supervisor_messages_buffer\"][-1], \"tool_calls\"\n",
    "    ):\n",
    "        research_complete = any(\n",
    "            tc[\"name\"] == \"ResearchComplete\"\n",
    "            for tc in state[\"supervisor_messages_buffer\"][-1].tool_calls\n",
    "        )\n",
    "\n",
    "    if call_limit or research_complete:\n",
    "        print(\"Call limit reached or research complete, finalizing answer.\")\n",
    "        return Command(goto=\"execute_plan\")\n",
    "\n",
    "    model = ChatOpenAI(model_name=\"gpt-5-mini\", temperature=0, max_tokens=4096)\n",
    "    model = model.bind_tools([think_tool, ResearchComplete, ConductResearch])\n",
    "    prompt = supervisorPrompt.format(\n",
    "        research_topic=state[\"current_task\"],\n",
    "        max_researcher_iterations=state.get(\"max_subagent_calls\", 5),\n",
    "        max_concurrent_research_units=2,\n",
    "    )\n",
    "\n",
    "    response = await model.ainvoke(\n",
    "        [\n",
    "            SystemMessage(content=prompt),\n",
    "        ]\n",
    "        + state[\"supervisor_messages_buffer\"]\n",
    "    )\n",
    "\n",
    "    if not response.tool_calls:\n",
    "        print(\"No tool calls detected, finalizing answer.\")\n",
    "        return Command(\n",
    "            goto=\"finalize_answer\", update={\"supervisor_messages_buffer\": [response]}\n",
    "        )\n",
    "\n",
    "    print(f\"Tool calls detected ({len(response.tool_calls)}), delegating to subagent.\")\n",
    "    return Command(\n",
    "        goto=\"delegate\",\n",
    "        update={\n",
    "            \"supervisor_messages_buffer\": [response],\n",
    "        },\n",
    "    )"
   ]
  },
  {
   "cell_type": "code",
   "execution_count": 41,
   "metadata": {},
   "outputs": [
    {
     "name": "stdout",
     "output_type": "stream",
     "text": [
      "Supervisor called\n",
      "Tool calls detected (1), delegating to subagent.\n"
     ]
    }
   ],
   "source": [
    "supervision_response = await supervisor(\n",
    "    {\n",
    "        \"subagents_calls\": 0,\n",
    "        \"max_subagent_calls\": 5,\n",
    "        \"current_task\": \"Who is King of England? Give a brief overview.\",\n",
    "        \"supervisor_messages_buffer\": [],\n",
    "    }\n",
    ")"
   ]
  },
  {
   "cell_type": "code",
   "execution_count": 42,
   "metadata": {},
   "outputs": [
    {
     "data": {
      "text/plain": [
       "'delegate'"
      ]
     },
     "execution_count": 42,
     "metadata": {},
     "output_type": "execute_result"
    }
   ],
   "source": [
    "supervision_response.goto"
   ]
  },
  {
   "cell_type": "code",
   "execution_count": 43,
   "metadata": {},
   "outputs": [
    {
     "name": "stdout",
     "output_type": "stream",
     "text": [
      "content='' additional_kwargs={'tool_calls': [{'id': 'call_462naI0W51uOdcjwVYVXRsNv', 'function': {'arguments': '{\"reflection\":\"Plan: The user asks \\\\\"Who is King of England? Give a brief overview.\\\\\" This is simple fact-finding. Sub-tasks: 1) Confirm current monarch and correct title (King of the United Kingdom vs King of England). 2) Provide brief bio: name, birth, accession date, predecessor. 3) Describe constitutional role and duties. 4) List heir apparent and immediate family. 5) Note main residences and notable recent events. 6) Provide 2-3 authoritative sources and state information is current as of 2025-08-30. Research delegation: Use a single ConductResearch agent to fetch concise, up-to-date summary and cite sources (royal.uk, BBC, reputable news). Keep it short (4-6 bullets/paragraphs). After the agent returns results, assess whether further detail is needed. If returned data is complete and consistent, finish. Otherwise, request follow-up. Proceed to call ConductResearch.\"}', 'name': 'think_tool'}, 'type': 'function'}], 'refusal': None} response_metadata={'token_usage': {'completion_tokens': 923, 'prompt_tokens': 1090, 'total_tokens': 2013, 'completion_tokens_details': {'accepted_prediction_tokens': 0, 'audio_tokens': 0, 'reasoning_tokens': 704, 'rejected_prediction_tokens': 0}, 'prompt_tokens_details': {'audio_tokens': 0, 'cached_tokens': 0}}, 'model_name': 'gpt-5-mini-2025-08-07', 'system_fingerprint': None, 'id': 'chatcmpl-CA6P9gcVeTW7uazxpsWpxEUSRJsex', 'service_tier': 'default', 'finish_reason': 'tool_calls', 'logprobs': None} id='run--d55e2b27-c6b3-4c8b-9d50-2730a4a88f43-0' tool_calls=[{'name': 'think_tool', 'args': {'reflection': 'Plan: The user asks \"Who is King of England? Give a brief overview.\" This is simple fact-finding. Sub-tasks: 1) Confirm current monarch and correct title (King of the United Kingdom vs King of England). 2) Provide brief bio: name, birth, accession date, predecessor. 3) Describe constitutional role and duties. 4) List heir apparent and immediate family. 5) Note main residences and notable recent events. 6) Provide 2-3 authoritative sources and state information is current as of 2025-08-30. Research delegation: Use a single ConductResearch agent to fetch concise, up-to-date summary and cite sources (royal.uk, BBC, reputable news). Keep it short (4-6 bullets/paragraphs). After the agent returns results, assess whether further detail is needed. If returned data is complete and consistent, finish. Otherwise, request follow-up. Proceed to call ConductResearch.'}, 'id': 'call_462naI0W51uOdcjwVYVXRsNv', 'type': 'tool_call'}] usage_metadata={'input_tokens': 1090, 'output_tokens': 923, 'total_tokens': 2013, 'input_token_details': {'audio': 0, 'cache_read': 0}, 'output_token_details': {'audio': 0, 'reasoning': 704}}\n"
     ]
    }
   ],
   "source": [
    "for m in supervision_response.update[\"supervisor_messages_buffer\"]:\n",
    "    print(m)"
   ]
  },
  {
   "cell_type": "markdown",
   "metadata": {},
   "source": [
    "![](resources/flow-schema-8.png)"
   ]
  },
  {
   "cell_type": "code",
   "execution_count": 44,
   "metadata": {},
   "outputs": [],
   "source": [
    "import prompts\n",
    "\n",
    "\n",
    "async def delegate(state: RagGraphState) -> Command[Literal[\"supervisor\", \"__end__\"]]:\n",
    "    print(\"Delegate called\")\n",
    "    last_message = state[\"supervisor_messages_buffer\"][-1]\n",
    "    tool_messages = []\n",
    "    try:\n",
    "        # Separate think_tool calls from ConductResearch calls\n",
    "        think_tool_calls = [\n",
    "            tool_call\n",
    "            for tool_call in last_message.tool_calls\n",
    "            if tool_call[\"name\"] == \"think_tool\"\n",
    "        ]\n",
    "\n",
    "        conduct_research_calls = [\n",
    "            tool_call\n",
    "            for tool_call in last_message.tool_calls\n",
    "            if tool_call[\"name\"] == \"ConductResearch\"\n",
    "        ]\n",
    "\n",
    "        # Handle think_tool calls (synchronous)\n",
    "        for tool_call in think_tool_calls:\n",
    "            observation = think_tool.invoke(tool_call[\"args\"])\n",
    "            tool_messages.append(\n",
    "                ToolMessage(\n",
    "                    content=observation,\n",
    "                    name=tool_call[\"name\"],\n",
    "                    tool_call_id=tool_call[\"id\"],\n",
    "                )\n",
    "            )\n",
    "\n",
    "        # Handle ConductResearch calls (asynchronous)\n",
    "        if conduct_research_calls:\n",
    "            # Launch parallel research agents\n",
    "            coros = [\n",
    "                subagent_graph.ainvoke(\n",
    "                    {\n",
    "                        \"researcher_messages\": [\n",
    "                            HumanMessage(content=tool_call[\"args\"][\"research_topic\"])\n",
    "                        ],\n",
    "                        \"research_topic\": tool_call[\"args\"][\"research_topic\"],\n",
    "                    }\n",
    "                )\n",
    "                for tool_call in conduct_research_calls\n",
    "            ]\n",
    "\n",
    "            # Wait for all research to complete\n",
    "            tool_results = await asyncio.gather(*coros)\n",
    "            research_tool_messages = []\n",
    "            for result, tool_call in zip(tool_results, conduct_research_calls):\n",
    "                result_content = result.get(\n",
    "                    \"report\", \"Error synthesizing research report\"\n",
    "                )\n",
    "                if isinstance(result_content, prompts.AnswerWithCitations):\n",
    "                    result_content = result_content.model_dump_json()\n",
    "                research_tool_messages.append(\n",
    "                    ToolMessage(\n",
    "                        content=result_content,\n",
    "                        name=tool_call[\"name\"],\n",
    "                        tool_call_id=tool_call[\"id\"],\n",
    "                    )\n",
    "                )\n",
    "            tool_messages.extend(research_tool_messages)\n",
    "    except Exception as e:\n",
    "        print(f\"Error in delegate execution: {e}\")\n",
    "        tool_messages.append(\n",
    "            ToolMessage(\n",
    "                content=f\"Error in delegate execution: {e}\",\n",
    "                name=\"Error\",\n",
    "                tool_call_id=\"error\",\n",
    "            )\n",
    "        )\n",
    "        return Command(goto=\"__end__\")\n",
    "\n",
    "    return Command(\n",
    "        goto=\"supervisor\",\n",
    "        update={\n",
    "            \"supervisor_messages_buffer\": tool_messages,\n",
    "            \"subagents_calls\": state[\"subagents_calls\"] + len(conduct_research_calls),\n",
    "        },\n",
    "    )"
   ]
  },
  {
   "cell_type": "code",
   "execution_count": 45,
   "metadata": {},
   "outputs": [
    {
     "name": "stdout",
     "output_type": "stream",
     "text": [
      "Delegate called\n"
     ]
    },
    {
     "data": {
      "text/plain": [
       "Command(update={'supervisor_messages_buffer': [ToolMessage(content='Reflection recorded: Plan: The user asks \"Who is King of England? Give a brief overview.\" This is simple fact-finding. Sub-tasks: 1) Confirm current monarch and correct title (King of the United Kingdom vs King of England). 2) Provide brief bio: name, birth, accession date, predecessor. 3) Describe constitutional role and duties. 4) List heir apparent and immediate family. 5) Note main residences and notable recent events. 6) Provide 2-3 authoritative sources and state information is current as of 2025-08-30. Research delegation: Use a single ConductResearch agent to fetch concise, up-to-date summary and cite sources (royal.uk, BBC, reputable news). Keep it short (4-6 bullets/paragraphs). After the agent returns results, assess whether further detail is needed. If returned data is complete and consistent, finish. Otherwise, request follow-up. Proceed to call ConductResearch.', name='think_tool', tool_call_id='call_462naI0W51uOdcjwVYVXRsNv')], 'subagents_calls': 0}, goto='supervisor')"
      ]
     },
     "execution_count": 45,
     "metadata": {},
     "output_type": "execute_result"
    }
   ],
   "source": [
    "await delegate(\n",
    "    {\n",
    "        \"subagents_calls\": 0,\n",
    "        \"max_subagent_calls\": 5,\n",
    "        \"current_task\": \"Who is King of England? Give a brief overview.\",\n",
    "        \"supervisor_messages_buffer\": supervision_response.update[\n",
    "            \"supervisor_messages_buffer\"\n",
    "        ],\n",
    "    }\n",
    ")"
   ]
  },
  {
   "cell_type": "code",
   "execution_count": 46,
   "metadata": {},
   "outputs": [],
   "source": [
    "def execute_plan(\n",
    "    state: RagGraphState,\n",
    ") -> Command[Literal[\"supervisor\", \"finalize_answer\"]]:\n",
    "    print(\"Execute plan called with state plan:\", state[\"plan\"])\n",
    "    if state[\"plan\"]:\n",
    "        current_task = state[\"plan\"].pop(0)\n",
    "        return Command(\n",
    "            goto=\"supervisor\",\n",
    "            update={\n",
    "                \"current_task\": current_task,\n",
    "                \"subagents_calls\": 0,\n",
    "                \"plan\": state[\"plan\"],\n",
    "                \"max_subagent_calls\": 5,\n",
    "                \"supervisor_messages_buffer\": state.get(\n",
    "                    \"supervisor_messages_buffer\", []\n",
    "                ),\n",
    "            },\n",
    "        )\n",
    "    return Command(goto=\"finalize_answer\")"
   ]
  },
  {
   "cell_type": "code",
   "execution_count": 47,
   "metadata": {},
   "outputs": [
    {
     "name": "stdout",
     "output_type": "stream",
     "text": [
      "Execute plan called with state plan: ['task1', 'task2']\n",
      "Command(update={'current_task': 'task1', 'subagents_calls': 0, 'plan': ['task2'], 'max_subagent_calls': 5, 'supervisor_messages_buffer': []}, goto='supervisor')\n",
      "Execute plan called with state plan: ['task2']\n",
      "Command(update={'current_task': 'task2', 'subagents_calls': 0, 'plan': [], 'max_subagent_calls': 5, 'supervisor_messages_buffer': []}, goto='supervisor')\n",
      "Execute plan called with state plan: []\n",
      "Command(goto='finalize_answer')\n"
     ]
    }
   ],
   "source": [
    "plan = [\"task1\", \"task2\"]\n",
    "for i in range(3):\n",
    "    response = execute_plan(\n",
    "        {\n",
    "            \"plan\": plan,\n",
    "        }\n",
    "    )\n",
    "    plan = response.update[\"plan\"] if response.update else []\n",
    "    print(response)"
   ]
  },
  {
   "cell_type": "markdown",
   "metadata": {},
   "source": []
  },
  {
   "cell_type": "code",
   "execution_count": 48,
   "metadata": {},
   "outputs": [],
   "source": [
    "from prompts import FinalReportPrompt, AnswersCollection\n",
    "\n",
    "\n",
    "def finalize_answer(state: RagGraphState):\n",
    "    model = ChatOpenAI(\n",
    "        model_name=\"gpt-5-mini\", temperature=0, max_tokens=16000\n",
    "    ).with_structured_output(AnswerWithCitations)\n",
    "    print(\"Generating summary report...\")\n",
    "    print(state[\"supervisor_messages_buffer\"])\n",
    "    messages_list = [\n",
    "        AnswerWithCitations.model_validate_json(m.content)\n",
    "        for m in state[\"supervisor_messages_buffer\"]\n",
    "        if isinstance(m, ToolMessage) and m.name == \"ConductResearch\"\n",
    "    ]\n",
    "    prompt = FinalReportPrompt().to_string(AnswersCollection(answers=messages_list))\n",
    "\n",
    "    result = model.invoke(prompt)\n",
    "\n",
    "    return {\"final_answer\": result}"
   ]
  },
  {
   "cell_type": "code",
   "execution_count": 49,
   "metadata": {},
   "outputs": [],
   "source": [
    "def build_supervisor_graph():\n",
    "    supervisor_builder = StateGraph(RagGraphState)\n",
    "    supervisor_builder.add_node(\"execute_plan\", execute_plan)\n",
    "    supervisor_builder.add_node(\"supervisor\", supervisor)\n",
    "    supervisor_builder.add_node(\"delegate\", delegate)\n",
    "    supervisor_builder.add_node(\"finalize_answer\", finalize_answer)\n",
    "\n",
    "    supervisor_builder.add_edge(START, \"execute_plan\")\n",
    "    supervisor_agent = supervisor_builder.compile()\n",
    "    return supervisor_agent\n",
    "\n",
    "\n",
    "supervisor_graph = build_supervisor_graph()"
   ]
  },
  {
   "cell_type": "code",
   "execution_count": 50,
   "metadata": {},
   "outputs": [
    {
     "data": {
      "image/png": "[encoded data removed]",
      "text/plain": [
       "<IPython.core.display.Image object>"
      ]
     },
     "metadata": {},
     "output_type": "display_data"
    }
   ],
   "source": [
    "display(Image(supervisor_graph.get_graph(xray=True).draw_mermaid_png()))"
   ]
  },
  {
   "cell_type": "code",
   "execution_count": 51,
   "metadata": {},
   "outputs": [
    {
     "name": "stdout",
     "output_type": "stream",
     "text": [
      "Execute plan called with state plan: ['research who is the King of England']\n",
      "Supervisor called\n",
      "Tool calls detected (1), delegating to subagent.\n",
      "Delegate called\n",
      "Supervisor called\n",
      "Tool calls detected (1), delegating to subagent.\n",
      "Delegate called\n",
      "Tool calls detected (1), invoking tools node.\n",
      "Invoking MCP tool: retrieve_docs with args: {'query': 'current King of England monarch name accession coronation full official title predecessor', 'top_k': 3}\n",
      "Tool calls detected (1), invoking tools node.\n",
      "Invoking local tool: tavily_search\n",
      "Tool calls detected (1), invoking tools node.\n",
      "Invoking local tool: think_tool\n",
      "Final response generated, moving to summary.\n",
      "Generating summary report...\n",
      "Supervisor called\n",
      "Tool calls detected (1), delegating to subagent.\n",
      "Delegate called\n",
      "Supervisor called\n",
      "Tool calls detected (1), delegating to subagent.\n",
      "Delegate called\n",
      "Tool calls detected (1), invoking tools node.\n",
      "Invoking MCP tool: retrieve_docs with args: {'query': \"King Charles III style title Royal Family official full style/title 'His Majesty' 'Charles III' 'official style' 'royal.uk'\", 'top_k': 5}\n",
      "Tool calls detected (1), invoking tools node.\n",
      "Invoking local tool: think_tool\n",
      "Tool calls detected (1), invoking tools node.\n",
      "Invoking local tool: tavily_search\n",
      "Final response generated, moving to summary.\n",
      "Generating summary report...\n",
      "Supervisor called\n",
      "Call limit reached or research complete, finalizing answer.\n",
      "Execute plan called with state plan: []\n",
      "Generating summary report...\n",
      "[HumanMessage(content='I want to find out who is the King of England', additional_kwargs={}, response_metadata={}, id='2a992a91-3c6e-4eee-b78f-57c797231464'), AIMessage(content='', additional_kwargs={'tool_calls': [{'id': 'call_CtwubVyPS4tOmuMbdbBOD66R', 'function': {'arguments': '{\"reflection\":\"Research goal: identify who is the King of England right now and provide authoritative supporting details. Subtasks: 1) Confirm current monarch\\'s name and regnal name. 2) Find date of accession and coronation. 3) Provide full title and note that England is part of the United Kingdom and the monarch is sovereign of the United Kingdom and other realms. 4) Identify predecessor. 5) Collect authoritative sources and URLs (royal.uk, BBC, Britannica, major newspapers). Strategy: Use a single specialized research agent to gather these facts and linked sources. This is a simple fact-finding task; parallelization is not necessary. Success criteria: agent returns the monarch\\'s name, accession date, coronation date, full title, predecessor, and at least two reputable sources with URLs. Proceed to delegate research to one sub-agent.\"}', 'name': 'think_tool'}, 'type': 'function'}], 'refusal': None}, response_metadata={'token_usage': {'completion_tokens': 962, 'prompt_tokens': 1102, 'total_tokens': 2064, 'completion_tokens_details': {'accepted_prediction_tokens': 0, 'audio_tokens': 0, 'reasoning_tokens': 768, 'rejected_prediction_tokens': 0}, 'prompt_tokens_details': {'audio_tokens': 0, 'cached_tokens': 1024}}, 'model_name': 'gpt-5-mini-2025-08-07', 'system_fingerprint': None, 'id': 'chatcmpl-CA6PQnGwG4OJvPhSwNYHf6BTj5XPh', 'service_tier': 'default', 'finish_reason': 'tool_calls', 'logprobs': None}, id='run--027bc46e-850e-48c3-89de-d5ca08ed61b3-0', tool_calls=[{'name': 'think_tool', 'args': {'reflection': \"Research goal: identify who is the King of England right now and provide authoritative supporting details. Subtasks: 1) Confirm current monarch's name and regnal name. 2) Find date of accession and coronation. 3) Provide full title and note that England is part of the United Kingdom and the monarch is sovereign of the United Kingdom and other realms. 4) Identify predecessor. 5) Collect authoritative sources and URLs (royal.uk, BBC, Britannica, major newspapers). Strategy: Use a single specialized research agent to gather these facts and linked sources. This is a simple fact-finding task; parallelization is not necessary. Success criteria: agent returns the monarch's name, accession date, coronation date, full title, predecessor, and at least two reputable sources with URLs. Proceed to delegate research to one sub-agent.\"}, 'id': 'call_CtwubVyPS4tOmuMbdbBOD66R', 'type': 'tool_call'}], usage_metadata={'input_tokens': 1102, 'output_tokens': 962, 'total_tokens': 2064, 'input_token_details': {'audio': 0, 'cache_read': 1024}, 'output_token_details': {'audio': 0, 'reasoning': 768}}), ToolMessage(content=\"Reflection recorded: Research goal: identify who is the King of England right now and provide authoritative supporting details. Subtasks: 1) Confirm current monarch's name and regnal name. 2) Find date of accession and coronation. 3) Provide full title and note that England is part of the United Kingdom and the monarch is sovereign of the United Kingdom and other realms. 4) Identify predecessor. 5) Collect authoritative sources and URLs (royal.uk, BBC, Britannica, major newspapers). Strategy: Use a single specialized research agent to gather these facts and linked sources. This is a simple fact-finding task; parallelization is not necessary. Success criteria: agent returns the monarch's name, accession date, coronation date, full title, predecessor, and at least two reputable sources with URLs. Proceed to delegate research to one sub-agent.\", name='think_tool', id='1384cc39-45de-495e-b9ed-0093f21154f7', tool_call_id='call_CtwubVyPS4tOmuMbdbBOD66R'), AIMessage(content='', additional_kwargs={'tool_calls': [{'id': 'call_JRsADL00v4OSTlrb9WkStOa1', 'function': {'arguments': '{\"research_topic\":\"Identify who is the King of England: Provide the current monarch\\'s name and regnal name, date of accession, coronation date (if applicable), full official title, predecessor, and at least three authoritative sources or URLs (for example royal.uk, BBC, Britannica, The Guardian). Make sure information is up-to-date.\"}', 'name': 'ConductResearch'}, 'type': 'function'}], 'refusal': None}, response_metadata={'token_usage': {'completion_tokens': 83, 'prompt_tokens': 1475, 'total_tokens': 1558, 'completion_tokens_details': {'accepted_prediction_tokens': 0, 'audio_tokens': 0, 'reasoning_tokens': 0, 'rejected_prediction_tokens': 0}, 'prompt_tokens_details': {'audio_tokens': 0, 'cached_tokens': 1024}}, 'model_name': 'gpt-5-mini-2025-08-07', 'system_fingerprint': None, 'id': 'chatcmpl-CA6PgocUtP3rIhV6an6FQsCmMmj1X', 'service_tier': 'default', 'finish_reason': 'tool_calls', 'logprobs': None}, id='run--5318a6f4-f4a8-49e4-ae3f-9d1a93872ee9-0', tool_calls=[{'name': 'ConductResearch', 'args': {'research_topic': \"Identify who is the King of England: Provide the current monarch's name and regnal name, date of accession, coronation date (if applicable), full official title, predecessor, and at least three authoritative sources or URLs (for example royal.uk, BBC, Britannica, The Guardian). Make sure information is up-to-date.\"}, 'id': 'call_JRsADL00v4OSTlrb9WkStOa1', 'type': 'tool_call'}], usage_metadata={'input_tokens': 1475, 'output_tokens': 83, 'total_tokens': 1558, 'input_token_details': {'audio': 0, 'cache_read': 1024}, 'output_token_details': {'audio': 0, 'reasoning': 0}}), ToolMessage(content='{\"statements\":[{\"reasoning\":\"Summarize the research question the user asked so the summary frames the required information.\",\"answer_sentece\":\"Research request: Identify the current King of England and provide his name and regnal name, date of accession, coronation date (if applicable), full official title, predecessor, and at least three authoritative sources.\",\"reference_url\":null,\"reference_title\":null},{\"reasoning\":\"The provided snippets explicitly name the current monarch in the captured pages.\",\"answer_sentece\":\"* Current monarch: King Charles III (regnal name: Charles III).\",\"reference_url\":\"https://en.wikipedia.org/wiki/Charles_III\",\"reference_title\":\"Charles III - Wikipedia\"},{\"reasoning\":\"The excerpts state the accession occurred on the death of his mother, with the specific date given.\",\"answer_sentece\":\"* Accession: 8 September 2022 (upon the death of Queen Elizabeth II).\",\"reference_url\":\"https://www.britannica.com/biography/Charles-III-king-of-the-United-Kingdom\",\"reference_title\":\"King Charles III | Biography, Prince, Wife, Cancer, & Age | Britannica\"},{\"reasoning\":\"A cited news item in the provided content gives the coronation date.\",\"answer_sentece\":\"* Coronation: 6 May 2023 at Westminster Abbey.\",\"reference_url\":\"https://www.theguardian.com/uk-news/2022/oct/11/king-charles-iii-coronation-date-6-may-2023\",\"reference_title\":\"King Charles III\\'s coronation to take place on 6 May 2023\"},{\"reasoning\":\"The accession note identifies his predecessor by implication (his mother).\",\"answer_sentece\":\"* Predecessor: Queen Elizabeth II.\",\"reference_url\":\"https://en.wikipedia.org/wiki/Charles_III\",\"reference_title\":\"Charles III - Wikipedia\"},{\"reasoning\":\"The provided snippets do not include the sovereign\\'s full official style/long form; that information is typically published on the official royal website or major reference sites.\",\"answer_sentece\":\"* Full official title / style: not present in the supplied excerpts and should be confirmed from official sources (for example, the official Royal Family site and major news/reference outlets).\",\"reference_url\":null,\"reference_title\":null},{\"reasoning\":\"The messages contain a few authoritative references and note some expected authoritative sources were missing from the snippets.\",\"answer_sentece\":\"* Authoritative sources available in the provided context: Wikipedia (Charles III), Britannica (Charles III), The Guardian (coronation coverage). Consult also the official royal website (royal.uk) and major outlets such as BBC for the full official style and final verification.\",\"reference_url\":\"https://www.britannica.com/biography/Charles-III-king-of-the-United-Kingdom\",\"reference_title\":\"King Charles III | Biography, Prince, Wife, Cancer, & Age | Britannica\"}]}', name='ConductResearch', id='457a86bf-9b96-4f2b-9d61-9133256de69e', tool_call_id='call_JRsADL00v4OSTlrb9WkStOa1'), AIMessage(content='', additional_kwargs={'tool_calls': [{'id': 'call_TekpLxersattCHJHtLW2K2FQ', 'function': {'arguments': '{\"reflection\":\"Assessing ConductResearch results: Key info found: Current monarch is King Charles III, accession date 8 September 2022, coronation 6 May 2023, predecessor Queen Elizabeth II. Missing: confirmed full official style/title and authoritative royal.uk URL. Also need to provide at least three authoritative sources with URLs; we have Wikipedia, Britannica, The Guardian; better to include royal.uk and BBC. Decision: perform a second ConductResearch call specifically to retrieve the official full title from royal.uk and BBC confirmation URLs. This is a simple follow-up so use a single agent. After that, likely sufficient to finish.\"}', 'name': 'think_tool'}, 'type': 'function'}], 'refusal': None}, response_metadata={'token_usage': {'completion_tokens': 142, 'prompt_tokens': 2162, 'total_tokens': 2304, 'completion_tokens_details': {'accepted_prediction_tokens': 0, 'audio_tokens': 0, 'reasoning_tokens': 0, 'rejected_prediction_tokens': 0}, 'prompt_tokens_details': {'audio_tokens': 0, 'cached_tokens': 0}}, 'model_name': 'gpt-5-mini-2025-08-07', 'system_fingerprint': None, 'id': 'chatcmpl-CA6Qj0gySTx9ddYSPJxaQb28iz7SD', 'service_tier': 'default', 'finish_reason': 'tool_calls', 'logprobs': None}, id='run--6eda12ca-9e3e-4f14-9da1-9eba88431acd-0', tool_calls=[{'name': 'think_tool', 'args': {'reflection': 'Assessing ConductResearch results: Key info found: Current monarch is King Charles III, accession date 8 September 2022, coronation 6 May 2023, predecessor Queen Elizabeth II. Missing: confirmed full official style/title and authoritative royal.uk URL. Also need to provide at least three authoritative sources with URLs; we have Wikipedia, Britannica, The Guardian; better to include royal.uk and BBC. Decision: perform a second ConductResearch call specifically to retrieve the official full title from royal.uk and BBC confirmation URLs. This is a simple follow-up so use a single agent. After that, likely sufficient to finish.'}, 'id': 'call_TekpLxersattCHJHtLW2K2FQ', 'type': 'tool_call'}], usage_metadata={'input_tokens': 2162, 'output_tokens': 142, 'total_tokens': 2304, 'input_token_details': {'audio': 0, 'cache_read': 0}, 'output_token_details': {'audio': 0, 'reasoning': 0}}), ToolMessage(content='Reflection recorded: Assessing ConductResearch results: Key info found: Current monarch is King Charles III, accession date 8 September 2022, coronation 6 May 2023, predecessor Queen Elizabeth II. Missing: confirmed full official style/title and authoritative royal.uk URL. Also need to provide at least three authoritative sources with URLs; we have Wikipedia, Britannica, The Guardian; better to include royal.uk and BBC. Decision: perform a second ConductResearch call specifically to retrieve the official full title from royal.uk and BBC confirmation URLs. This is a simple follow-up so use a single agent. After that, likely sufficient to finish.', name='think_tool', id='9af276a3-8c04-44ca-af7c-84744093b748', tool_call_id='call_TekpLxersattCHJHtLW2K2FQ'), AIMessage(content='', additional_kwargs={'tool_calls': [{'id': 'call_AubNsl199jnywNCFLslvkeO1', 'function': {'arguments': '{\"research_topic\":\"Find the official full style/title of King Charles III from the official Royal Family website and provide the royal.uk URL. Also retrieve BBC confirmation of monarch and coronation date, and provide URLs for royal.uk and BBC pages.\"}', 'name': 'ConductResearch'}, 'type': 'function'}], 'refusal': None}, response_metadata={'token_usage': {'completion_tokens': 62, 'prompt_tokens': 2443, 'total_tokens': 2505, 'completion_tokens_details': {'accepted_prediction_tokens': 0, 'audio_tokens': 0, 'reasoning_tokens': 0, 'rejected_prediction_tokens': 0}, 'prompt_tokens_details': {'audio_tokens': 0, 'cached_tokens': 2176}}, 'model_name': 'gpt-5-mini-2025-08-07', 'system_fingerprint': None, 'id': 'chatcmpl-CA6QlqxZ2ZYB6nQR6SBI83ZdNTDhz', 'service_tier': 'default', 'finish_reason': 'tool_calls', 'logprobs': None}, id='run--463d06a6-1b66-4157-b283-6742176ea933-0', tool_calls=[{'name': 'ConductResearch', 'args': {'research_topic': 'Find the official full style/title of King Charles III from the official Royal Family website and provide the royal.uk URL. Also retrieve BBC confirmation of monarch and coronation date, and provide URLs for royal.uk and BBC pages.'}, 'id': 'call_AubNsl199jnywNCFLslvkeO1', 'type': 'tool_call'}], usage_metadata={'input_tokens': 2443, 'output_tokens': 62, 'total_tokens': 2505, 'input_token_details': {'audio': 0, 'cache_read': 2176}, 'output_token_details': {'audio': 0, 'reasoning': 0}}), ToolMessage(content='{\"statements\":[{\"reasoning\":\"Summarize the research objective stated in the messages.\",\"answer_sentece\":\"Research question: find King Charles III\\'s official full style/title on the Royal Family website (royal.uk) and obtain BBC confirmation of his status as monarch and his coronation date, with URLs for the authoritative royal.uk and BBC pages.\",\"reference_url\":null,\"reference_title\":null},{\"reasoning\":\"Report what relevant royal.uk pages were found in the provided context and whether they contain the explicit full style/title.\",\"answer_sentece\":\"* The provided results include related pages on the Royal Family website but do not include a clear page explicitly showing the King\\'s full official style/title.\",\"reference_url\":null,\"reference_title\":null},{\"reasoning\":\"Identify a specific royal.uk page located in the messages and note its content relative to the request.\",\"answer_sentece\":\"* Located: \\\\\"His Majesty The King\\'s cypher\\\\\" page on royal.uk, which discusses the King\\'s cypher but does not present a formal full style/title.\",\"reference_url\":\"https://www.royal.uk/his-majesty-kings-cypher\",\"reference_title\":\"His Majesty The King\\'s cypher | The Royal Family\"},{\"reasoning\":\"Identify additional royal.uk pages found and their relevance.\",\"answer_sentece\":\"* Additional royal.uk pages found include a \\\\\"Contact | The Royal Family\\\\\" page (how to write to His Majesty) and a \\\\\"Greeting The King and Queen\\\\\" page; neither is shown in the provided context as explicitly stating the King\\'s full style/title.\",\"reference_url\":\"https://www.royal.uk/contact?page=3\",\"reference_title\":\"Contact | The Royal Family\"},{\"reasoning\":\"Note the absence of the BBC confirmation in the provided context and state the coronation date mentioned in the messages.\",\"answer_sentece\":\"* The messages do not include a BBC page URL confirming the monarch and coronation; the coronation date referenced in the context is 6 May 2023 and should be confirmed from BBC.\",\"reference_url\":null,\"reference_title\":null},{\"reasoning\":\"Conclude on the current status of the research question given the available evidence.\",\"answer_sentece\":\"Conclusion: the research requirement is partially met — several relevant royal.uk pages were identified but the authoritative Royal Family page explicitly listing King Charles III\\'s full formal style/title was not returned in the provided content, and the BBC confirmation/URL is missing; both should be retrieved to fully satisfy the request.\",\"reference_url\":null,\"reference_title\":null},{\"reasoning\":\"Provide a concise recommended next action to complete the research.\",\"answer_sentece\":\"Recommendation: obtain the Royal Family page that explicitly lists the King\\'s full style/title (official styling typically begins \\\\\"His Majesty The King\\\\\") and the BBC article that confirms his status and the coronation date (6 May 2023), then supply both authoritative URLs.\",\"reference_url\":null,\"reference_title\":null}]}', name='ConductResearch', id='1edbca0e-4d3f-4db6-afc1-3090c773a7a1', tool_call_id='call_AubNsl199jnywNCFLslvkeO1')]\n"
     ]
    }
   ],
   "source": [
    "result = await supervisor_graph.ainvoke(\n",
    "    {\n",
    "        \"plan\": [\"research who is the King of England\"],\n",
    "        \"supervisor_messages_buffer\": [\n",
    "            HumanMessage(content=\"I want to find out who is the King of England\")\n",
    "        ],\n",
    "        \"current_task\": \"who is the King of England\",\n",
    "    }\n",
    ")"
   ]
  },
  {
   "cell_type": "code",
   "execution_count": 52,
   "metadata": {},
   "outputs": [
    {
     "data": {
      "text/html": [
       "<pre style=\"white-space:pre;overflow-x:auto;line-height:normal;font-family:Menlo,'DejaVu Sans Mono',consolas,'Courier New',monospace\">\n",
       "                    <span style=\"color: #c0c0c0; text-decoration-color: #c0c0c0\">Final Report: Current King of the United Kingdom — Key Facts and Next Steps</span>                    \n",
       "\n",
       "<span style=\"color: #c0c0c0; text-decoration-color: #c0c0c0\">Research request: Identify the current King of England (United Kingdom), his name and regnal name, date of </span>        \n",
       "<span style=\"color: #c0c0c0; text-decoration-color: #c0c0c0\">accession, coronation date (if applicable), full official title, predecessor, and at least three authoritative </span>    \n",
       "<span style=\"color: #c0c0c0; text-decoration-color: #c0c0c0\">sources.</span>                                                                                                           \n",
       "\n",
       "<span style=\"color: #808000; text-decoration-color: #808000; font-weight: bold\"> • </span><span style=\"color: #c0c0c0; text-decoration-color: #c0c0c0\">Current monarch: King Charles III (regnal name: Charles III). [</span><a href=\"https://en.wikipedia.org/wiki/Charles_III\" target=\"_blank\"><span style=\"color: #000080; text-decoration-color: #000080; text-decoration: underline\">Charles III - Wikipedia</span></a><span style=\"color: #c0c0c0; text-decoration-color: #c0c0c0\">]                         </span>\n",
       "<span style=\"color: #808000; text-decoration-color: #808000; font-weight: bold\"> • </span><span style=\"color: #c0c0c0; text-decoration-color: #c0c0c0\">Accession: 8 September 2022 (upon the death of Queen Elizabeth II). [</span><a href=\"https://www.britannica.com/biography/Charles-III-king-of-the-United-Kingdom\" target=\"_blank\"><span style=\"color: #000080; text-decoration-color: #000080; text-decoration: underline\">King Charles III | Biography, Prince, Wife,</span></a>\n",
       "<span style=\"color: #808000; text-decoration-color: #808000; font-weight: bold\">   </span><a href=\"https://www.britannica.com/biography/Charles-III-king-of-the-United-Kingdom\" target=\"_blank\"><span style=\"color: #000080; text-decoration-color: #000080; text-decoration: underline\">Cancer, &amp; Age | Britannica</span></a><span style=\"color: #c0c0c0; text-decoration-color: #c0c0c0\">]                                                                                     </span>\n",
       "<span style=\"color: #808000; text-decoration-color: #808000; font-weight: bold\"> • </span><span style=\"color: #c0c0c0; text-decoration-color: #c0c0c0\">Coronation: 6 May 2023 at Westminster Abbey. [</span><a href=\"https://www.theguardian.com/uk-news/2022/oct/11/king-charles-iii-coronation-date-6-may-2023\" target=\"_blank\"><span style=\"color: #000080; text-decoration-color: #000080; text-decoration: underline\">King Charles III's coronation to take place on 6 May 2023</span></a><span style=\"color: #c0c0c0; text-decoration-color: #c0c0c0\">]        </span>\n",
       "<span style=\"color: #808000; text-decoration-color: #808000; font-weight: bold\"> • </span><span style=\"color: #c0c0c0; text-decoration-color: #c0c0c0\">Predecessor: Queen Elizabeth II. [</span><a href=\"https://en.wikipedia.org/wiki/Charles_III\" target=\"_blank\"><span style=\"color: #000080; text-decoration-color: #000080; text-decoration: underline\">Charles III - Wikipedia</span></a><span style=\"color: #c0c0c0; text-decoration-color: #c0c0c0\">]                                                      </span>\n",
       "<span style=\"color: #808000; text-decoration-color: #808000; font-weight: bold\"> • </span><span style=\"color: #c0c0c0; text-decoration-color: #c0c0c0\">Full official title / style: not present in the supplied excerpts; the formal long-form style is typically      </span>\n",
       "<span style=\"color: #808000; text-decoration-color: #808000; font-weight: bold\">   </span><span style=\"color: #c0c0c0; text-decoration-color: #c0c0c0\">published on the official Royal Family website (royal.uk) and should be confirmed there. [</span><a href=\"https://www.royal.uk/his-majesty-kings-cypher\" target=\"_blank\"><span style=\"color: #000080; text-decoration-color: #000080; text-decoration: underline\">His Majesty The King's</span></a>\n",
       "<span style=\"color: #808000; text-decoration-color: #808000; font-weight: bold\">   </span><a href=\"https://www.royal.uk/his-majesty-kings-cypher\" target=\"_blank\"><span style=\"color: #000080; text-decoration-color: #000080; text-decoration: underline\">cypher | The Royal Family</span></a><span style=\"color: #c0c0c0; text-decoration-color: #c0c0c0\">]                                                                                      </span>\n",
       "<span style=\"color: #808000; text-decoration-color: #808000; font-weight: bold\"> • </span><span style=\"color: #c0c0c0; text-decoration-color: #c0c0c0\">Authoritative sources available in the provided content: Wikipedia (Charles III), Britannica (biography), and   </span>\n",
       "<span style=\"color: #808000; text-decoration-color: #808000; font-weight: bold\">   </span><span style=\"color: #c0c0c0; text-decoration-color: #c0c0c0\">The Guardian (coronation coverage); additionally consult the official Royal Family site (royal.uk) and the BBC  </span>\n",
       "<span style=\"color: #808000; text-decoration-color: #808000; font-weight: bold\">   </span><span style=\"color: #c0c0c0; text-decoration-color: #c0c0c0\">for final confirmation and the exact long-form style. [</span><a href=\"https://www.britannica.com/biography/Charles-III-king-of-the-United-Kingdom\" target=\"_blank\"><span style=\"color: #000080; text-decoration-color: #000080; text-decoration: underline\">King Charles III | Biography, Prince, Wife, Cancer, &amp; Age</span></a>\n",
       "<span style=\"color: #808000; text-decoration-color: #808000; font-weight: bold\">   </span><a href=\"https://www.britannica.com/biography/Charles-III-king-of-the-United-Kingdom\" target=\"_blank\"><span style=\"color: #000080; text-decoration-color: #000080; text-decoration: underline\">| Britannica</span></a><span style=\"color: #c0c0c0; text-decoration-color: #c0c0c0\">] Conclusion: The monarch's identity, regnal name, accession date, coronation date, and predecessor </span>\n",
       "<span style=\"color: #808000; text-decoration-color: #808000; font-weight: bold\">   </span><span style=\"color: #c0c0c0; text-decoration-color: #c0c0c0\">are confirmed by the provided sources, but the sovereign's full formal style/long form and a BBC confirmation   </span>\n",
       "<span style=\"color: #808000; text-decoration-color: #808000; font-weight: bold\">   </span><span style=\"color: #c0c0c0; text-decoration-color: #c0c0c0\">URL were not included in the supplied excerpts and remain to be retrieved for full authoritative verification.  </span>\n",
       "<span style=\"color: #808000; text-decoration-color: #808000; font-weight: bold\">   </span><span style=\"color: #c0c0c0; text-decoration-color: #c0c0c0\">Recommendation: retrieve and cite (1) the official Royal Family page that explicitly lists the King's full      </span>\n",
       "<span style=\"color: #808000; text-decoration-color: #808000; font-weight: bold\">   </span><span style=\"color: #c0c0c0; text-decoration-color: #c0c0c0\">formal style/title (long-form style), and (2) a BBC article or official announcement confirming his status and  </span>\n",
       "<span style=\"color: #808000; text-decoration-color: #808000; font-weight: bold\">   </span><span style=\"color: #c0c0c0; text-decoration-color: #c0c0c0\">the coronation date (6 May 2023); then provide the URLs and include these sources alongside the                 </span>\n",
       "<span style=\"color: #808000; text-decoration-color: #808000; font-weight: bold\">   </span><span style=\"color: #c0c0c0; text-decoration-color: #c0c0c0\">already-identified Wikipedia, Britannica, and Guardian references. [</span><a href=\"https://www.royal.uk/contact?page=3\" target=\"_blank\"><span style=\"color: #000080; text-decoration-color: #000080; text-decoration: underline\">Contact | The Royal Family</span></a><span style=\"color: #c0c0c0; text-decoration-color: #c0c0c0\">]                 </span>\n",
       "</pre>\n"
      ],
      "text/plain": [
       "\n",
       "                    \u001b[37mFinal Report: Current King of the United Kingdom — Key Facts and Next Steps\u001b[0m                    \n",
       "\n",
       "\u001b[37mResearch request: Identify the current King of England (United Kingdom), his name and regnal name, date of \u001b[0m        \n",
       "\u001b[37maccession, coronation date (if applicable), full official title, predecessor, and at least three authoritative \u001b[0m    \n",
       "\u001b[37msources.\u001b[0m                                                                                                           \n",
       "\n",
       "\u001b[1;33m • \u001b[0m\u001b[37mCurrent monarch: King Charles III (regnal name: Charles III). [\u001b[0m\u001b]8;id=14381;https://en.wikipedia.org/wiki/Charles_III\u001b\\\u001b[4;34mCharles III - Wikipedia\u001b[0m\u001b]8;;\u001b\\\u001b[37m]\u001b[0m\u001b[37m                         \u001b[0m\n",
       "\u001b[1;33m • \u001b[0m\u001b[37mAccession: 8 September 2022 (upon the death of Queen Elizabeth II). [\u001b[0m\u001b]8;id=174420;https://www.britannica.com/biography/Charles-III-king-of-the-United-Kingdom\u001b\\\u001b[4;34mKing Charles III | Biography, Prince, Wife,\u001b[0m\u001b]8;;\u001b\\\n",
       "\u001b[1;33m   \u001b[0m\u001b]8;id=427967;https://www.britannica.com/biography/Charles-III-king-of-the-United-Kingdom\u001b\\\u001b[4;34mCancer, & Age | Britannica\u001b[0m\u001b]8;;\u001b\\\u001b[37m]\u001b[0m\u001b[37m                                                                                     \u001b[0m\n",
       "\u001b[1;33m • \u001b[0m\u001b[37mCoronation: 6 May 2023 at Westminster Abbey. [\u001b[0m\u001b]8;id=643126;https://www.theguardian.com/uk-news/2022/oct/11/king-charles-iii-coronation-date-6-may-2023\u001b\\\u001b[4;34mKing Charles III's coronation to take place on 6 May 2023\u001b[0m\u001b]8;;\u001b\\\u001b[37m]\u001b[0m\u001b[37m        \u001b[0m\n",
       "\u001b[1;33m • \u001b[0m\u001b[37mPredecessor: Queen Elizabeth II. [\u001b[0m\u001b]8;id=161224;https://en.wikipedia.org/wiki/Charles_III\u001b\\\u001b[4;34mCharles III - Wikipedia\u001b[0m\u001b]8;;\u001b\\\u001b[37m]\u001b[0m\u001b[37m                                                      \u001b[0m\n",
       "\u001b[1;33m • \u001b[0m\u001b[37mFull official title / style: not present in the supplied excerpts; the formal long-form style is typically \u001b[0m\u001b[37m     \u001b[0m\n",
       "\u001b[1;33m   \u001b[0m\u001b[37mpublished on the official Royal Family website (royal.uk) and should be confirmed there. [\u001b[0m\u001b]8;id=14274;https://www.royal.uk/his-majesty-kings-cypher\u001b\\\u001b[4;34mHis Majesty The King's\u001b[0m\u001b]8;;\u001b\\\n",
       "\u001b[1;33m   \u001b[0m\u001b]8;id=335912;https://www.royal.uk/his-majesty-kings-cypher\u001b\\\u001b[4;34mcypher | The Royal Family\u001b[0m\u001b]8;;\u001b\\\u001b[37m]\u001b[0m\u001b[37m                                                                                      \u001b[0m\n",
       "\u001b[1;33m • \u001b[0m\u001b[37mAuthoritative sources available in the provided content: Wikipedia (Charles III), Britannica (biography), and \u001b[0m\u001b[37m  \u001b[0m\n",
       "\u001b[1;33m   \u001b[0m\u001b[37mThe Guardian (coronation coverage); additionally consult the official Royal Family site (royal.uk) and the BBC \u001b[0m\u001b[37m \u001b[0m\n",
       "\u001b[1;33m   \u001b[0m\u001b[37mfor final confirmation and the exact long-form style. [\u001b[0m\u001b]8;id=654896;https://www.britannica.com/biography/Charles-III-king-of-the-United-Kingdom\u001b\\\u001b[4;34mKing Charles III | Biography, Prince, Wife, Cancer, & Age\u001b[0m\u001b]8;;\u001b\\\n",
       "\u001b[1;33m   \u001b[0m\u001b]8;id=270217;https://www.britannica.com/biography/Charles-III-king-of-the-United-Kingdom\u001b\\\u001b[4;34m| Britannica\u001b[0m\u001b]8;;\u001b\\\u001b[37m]\u001b[0m\u001b[37m \u001b[0m\u001b[37mConclusion: The monarch's identity, regnal name, accession date, coronation date, and predecessor \u001b[0m\n",
       "\u001b[1;33m   \u001b[0m\u001b[37mare confirmed by the provided sources, but the sovereign's full formal style/long form and a BBC confirmation \u001b[0m\u001b[37m  \u001b[0m\n",
       "\u001b[1;33m   \u001b[0m\u001b[37mURL were not included in the supplied excerpts and remain to be retrieved for full authoritative verification.\u001b[0m\u001b[37m \u001b[0m\u001b[37m \u001b[0m\n",
       "\u001b[1;33m   \u001b[0m\u001b[37mRecommendation: retrieve and cite (1) the official Royal Family page that explicitly lists the King's full \u001b[0m\u001b[37m     \u001b[0m\n",
       "\u001b[1;33m   \u001b[0m\u001b[37mformal style/title (long-form style), and (2) a BBC article or official announcement confirming his status and \u001b[0m\u001b[37m \u001b[0m\n",
       "\u001b[1;33m   \u001b[0m\u001b[37mthe coronation date (6 May 2023); then provide the URLs and include these sources alongside the \u001b[0m\u001b[37m                \u001b[0m\n",
       "\u001b[1;33m   \u001b[0m\u001b[37malready-identified Wikipedia, Britannica, and Guardian references. [\u001b[0m\u001b]8;id=85898;https://www.royal.uk/contact?page=3\u001b\\\u001b[4;34mContact | The Royal Family\u001b[0m\u001b]8;;\u001b\\\u001b[37m]\u001b[0m\u001b[37m                 \u001b[0m\n"
      ]
     },
     "metadata": {},
     "output_type": "display_data"
    }
   ],
   "source": [
    "rich_console.print(Markdown(result[\"final_answer\"].format_response()))"
   ]
  },
  {
   "cell_type": "markdown",
   "metadata": {},
   "source": [
    "## Scoping"
   ]
  },
  {
   "cell_type": "code",
   "execution_count": 53,
   "metadata": {},
   "outputs": [],
   "source": [
    "from prompts import ClarificationInput, ClarificationOutput, ClarificationPrompt\n",
    "\n",
    "\n",
    "def clarify_node(state: RagGraphState) -> Command[Literal[\"__end__\"]]:\n",
    "    llm_client = ChatOpenAI(\n",
    "        model_name=\"gpt-5-mini\", temperature=0, max_tokens=4096\n",
    "    ).with_structured_output(ClarificationOutput)\n",
    "\n",
    "    messages_list = [\n",
    "        m.content for m in state[\"messages\"][-5:] if isinstance(m, HumanMessage)\n",
    "    ]\n",
    "    result = llm_client.invoke(\n",
    "        ClarificationPrompt().to_string(ClarificationInput(messages=messages_list))\n",
    "    )\n",
    "\n",
    "    if state[\"clarification_rounds\"] > 1:\n",
    "        return {\n",
    "            f\"messages\": [\n",
    "                AIMessage(\n",
    "                    content=f\"Your request is clear. Will proceed with research on {result.final_statements}.\"\n",
    "                )\n",
    "            ]\n",
    "        }\n",
    "\n",
    "    if result.clarification_is_required:\n",
    "        return Command(\n",
    "            goto=\"__end__\",\n",
    "            update={\n",
    "                \"clarification_rounds\": state[\"clarification_rounds\"] + 1,\n",
    "                \"messages\": [AIMessage(content=result.clarifying_question)],\n",
    "            },\n",
    "        )\n",
    "    return Command(\n",
    "        goto=\"__end__\",\n",
    "        update={\n",
    "            \"messages\": [\n",
    "                AIMessage(\n",
    "                    content=f\"Your request is clear. Will proceed with research on {result.final_statements}.\"\n",
    "                )\n",
    "            ],\n",
    "            \"search_topics\": result.final_statements,\n",
    "            \"clarification_rounds\": state[\"clarification_rounds\"],\n",
    "        },\n",
    "    )\n",
    "\n",
    "\n",
    "def build_scoper_graph():\n",
    "    checkpointer = InMemorySaver()\n",
    "    graph_builder = StateGraph(\n",
    "        state_schema=RagGraphState,\n",
    "        input_schema=FlowInput,\n",
    "    )\n",
    "    graph_builder.add_node(\"clarify_node\", clarify_node)\n",
    "    graph_builder.add_edge(START, \"clarify_node\")\n",
    "    graph_builder.add_edge(\"clarify_node\", END)\n",
    "    return graph_builder.compile(checkpointer=checkpointer)"
   ]
  },
  {
   "cell_type": "code",
   "execution_count": 54,
   "metadata": {},
   "outputs": [
    {
     "data": {
      "image/png": "[encoded data removed]",
      "text/plain": [
       "<IPython.core.display.Image object>"
      ]
     },
     "metadata": {},
     "output_type": "display_data"
    }
   ],
   "source": [
    "scoper_graph = build_scoper_graph()\n",
    "display(Image(scoper_graph.get_graph(xray=True).draw_mermaid_png()))"
   ]
  },
  {
   "cell_type": "code",
   "execution_count": 55,
   "metadata": {},
   "outputs": [
    {
     "data": {
      "text/plain": [
       "[HumanMessage(content='I want to research new bikes', additional_kwargs={}, response_metadata={}, id='966cc3a5-4328-4db3-8893-e7b27e90e2ad'),\n",
       " AIMessage(content='What type of bike are you looking for (road, mountain, hybrid/commuter, gravel, or electric), and what is your approximate budget and intended use?', additional_kwargs={}, response_metadata={}, id='ef164f55-70fc-46c5-8e5e-f04b44393dee')]"
      ]
     },
     "execution_count": 55,
     "metadata": {},
     "output_type": "execute_result"
    }
   ],
   "source": [
    "thread = {\"configurable\": {\"thread_id\": \"1\"}}\n",
    "result = scoper_graph.invoke(\n",
    "    {\"messages\": [HumanMessage(content=\"I want to research new bikes\")]}, config=thread\n",
    ")\n",
    "result[\"messages\"]"
   ]
  },
  {
   "cell_type": "code",
   "execution_count": 56,
   "metadata": {},
   "outputs": [
    {
     "data": {
      "text/plain": [
       "[HumanMessage(content='I want to research new bikes', additional_kwargs={}, response_metadata={}, id='966cc3a5-4328-4db3-8893-e7b27e90e2ad'),\n",
       " AIMessage(content='What type of bike are you looking for (road, mountain, hybrid/commuter, gravel, or electric), and what is your approximate budget and intended use?', additional_kwargs={}, response_metadata={}, id='ef164f55-70fc-46c5-8e5e-f04b44393dee'),\n",
       " HumanMessage(content='I want to find a new gravel bike', additional_kwargs={}, response_metadata={}, id='dd9e5b0f-3ab2-410b-b127-4603333fb56d'),\n",
       " AIMessage(content=\"Your request is clear. Will proceed with research on ['Research new bikes', 'Find a new gravel bike'].\", additional_kwargs={}, response_metadata={}, id='47e0c688-9fe5-438b-9b14-a551604b6f94')]"
      ]
     },
     "execution_count": 56,
     "metadata": {},
     "output_type": "execute_result"
    }
   ],
   "source": [
    "result = scoper_graph.invoke(\n",
    "    {\"messages\": [HumanMessage(content=\"I want to find a new gravel bike\")]},\n",
    "    config=thread,\n",
    ")\n",
    "result[\"messages\"]"
   ]
  },
  {
   "cell_type": "code",
   "execution_count": 57,
   "metadata": {},
   "outputs": [],
   "source": [
    "# result = scoper_graph.invoke({\"messages\": [HumanMessage(content=\"And advice would be nice\")]}, config=thread)\n",
    "# result['messages']"
   ]
  },
  {
   "cell_type": "code",
   "execution_count": 58,
   "metadata": {},
   "outputs": [
    {
     "data": {
      "text/plain": [
       "['Research new bikes', 'Find a new gravel bike']"
      ]
     },
     "execution_count": 58,
     "metadata": {},
     "output_type": "execute_result"
    }
   ],
   "source": [
    "result[\"search_topics\"]"
   ]
  },
  {
   "cell_type": "markdown",
   "metadata": {},
   "source": [
    "## Planning"
   ]
  },
  {
   "cell_type": "code",
   "execution_count": 59,
   "metadata": {},
   "outputs": [],
   "source": [
    "from prompts import PlannerOutput, PlannerInput, PlanPrompt\n",
    "\n",
    "\n",
    "def generate_tasks(state: RagGraphState):\n",
    "    llm_client = ChatOpenAI(\n",
    "        model_name=\"gpt-5-mini\", temperature=0, max_tokens=4096\n",
    "    ).with_structured_output(PlannerOutput)\n",
    "\n",
    "    response = llm_client.invoke(\n",
    "        PlanPrompt().to_string(\n",
    "            PlannerInput(\n",
    "                search_topics=state[\"search_topics\"],\n",
    "                messages=get_buffer_string(state[\"messages\"]),\n",
    "            )\n",
    "        )\n",
    "    )\n",
    "\n",
    "    return {\n",
    "        \"plan\": response.plan,\n",
    "        \"messages\": [AIMessage(content=f\"Generated plan: \" + \", \".join(response.plan))],\n",
    "        \"max_subagent_calls\": 5,\n",
    "        \"subagents_calls\": 0,\n",
    "    }\n",
    "\n",
    "\n",
    "def build_planner_graph():\n",
    "    checkpointer = InMemorySaver()\n",
    "    graph_builder = StateGraph(\n",
    "        state_schema=RagGraphState,\n",
    "        input_schema=FlowInput,\n",
    "    )\n",
    "    graph_builder.add_node(\"clarify_node\", clarify_node)\n",
    "    graph_builder.add_node(\"generate_tasks\", generate_tasks)\n",
    "\n",
    "    graph_builder.add_edge(START, \"clarify_node\")\n",
    "    graph_builder.add_edge(\"clarify_node\", \"generate_tasks\")\n",
    "    graph_builder.add_edge(\"generate_tasks\", END)\n",
    "    return graph_builder.compile(checkpointer=checkpointer)"
   ]
  },
  {
   "cell_type": "code",
   "execution_count": 60,
   "metadata": {},
   "outputs": [
    {
     "data": {
      "image/png": "[encoded data removed]",
      "text/plain": [
       "<IPython.core.display.Image object>"
      ]
     },
     "metadata": {},
     "output_type": "display_data"
    }
   ],
   "source": [
    "planner_graph = build_planner_graph()\n",
    "display(Image(planner_graph.get_graph(xray=True).draw_mermaid_png()))"
   ]
  },
  {
   "cell_type": "code",
   "execution_count": 61,
   "metadata": {},
   "outputs": [
    {
     "data": {
      "text/plain": [
       "[HumanMessage(content='Who is the King of England?', additional_kwargs={}, response_metadata={}, id='ed8a6c5c-b89a-48ae-8d69-daffbd6082b0'),\n",
       " AIMessage(content=\"Your request is clear. Will proceed with research on ['King of England'].\", additional_kwargs={}, response_metadata={}, id='613dd48e-0f4c-4b15-ba32-7ee281f2c74e'),\n",
       " AIMessage(content=\"Generated plan: Who is the current monarch and what is their correct regnal name?, What are the accession date and the coronation date (with at least two authoritative citations)?, What is the sovereign's official title and why is using 'King of England' imprecise in modern usage?\", additional_kwargs={}, response_metadata={}, id='8bf38763-2f75-4264-b65c-715d70043176')]"
      ]
     },
     "execution_count": 61,
     "metadata": {},
     "output_type": "execute_result"
    }
   ],
   "source": [
    "thread = {\"configurable\": {\"thread_id\": \"2\"}}\n",
    "result = planner_graph.invoke(\n",
    "    {\"messages\": [HumanMessage(content=\"Who is the King of England?\")]}, config=thread\n",
    ")\n",
    "result[\"messages\"]"
   ]
  },
  {
   "cell_type": "code",
   "execution_count": 62,
   "metadata": {},
   "outputs": [
    {
     "data": {
      "text/plain": [
       "['Who is the current monarch and what is their correct regnal name?',\n",
       " 'What are the accession date and the coronation date (with at least two authoritative citations)?',\n",
       " \"What is the sovereign's official title and why is using 'King of England' imprecise in modern usage?\"]"
      ]
     },
     "execution_count": 62,
     "metadata": {},
     "output_type": "execute_result"
    }
   ],
   "source": [
    "result[\"plan\"]"
   ]
  },
  {
   "cell_type": "markdown",
   "metadata": {},
   "source": [
    "## Full graph"
   ]
  },
  {
   "cell_type": "code",
   "execution_count": 63,
   "metadata": {},
   "outputs": [],
   "source": [
    "def build_full_graph():\n",
    "    graph_builder = StateGraph(RagGraphState, input_schema=FlowInput)\n",
    "    checkpointer = InMemorySaver()\n",
    "\n",
    "    graph_builder.add_node(\"clarify_node\", clarify_node)\n",
    "    graph_builder.add_node(\"generate_tasks\", generate_tasks)\n",
    "    graph_builder.add_node(\"supervisor_graph\", supervisor_graph)\n",
    "\n",
    "    graph_builder.add_edge(START, \"clarify_node\")\n",
    "    graph_builder.add_edge(\"clarify_node\", \"generate_tasks\")\n",
    "    graph_builder.add_edge(\"generate_tasks\", \"supervisor_graph\")\n",
    "    return graph_builder.compile(checkpointer=checkpointer)"
   ]
  },
  {
   "cell_type": "code",
   "execution_count": 64,
   "metadata": {},
   "outputs": [
    {
     "data": {
      "image/png": "[encoded data removed]",
      "text/plain": [
       "<IPython.core.display.Image object>"
      ]
     },
     "metadata": {},
     "output_type": "display_data"
    }
   ],
   "source": [
    "agentic_rag = build_full_graph()\n",
    "display(Image(agentic_rag.get_graph(xray=True).draw_mermaid_png()))"
   ]
  },
  {
   "cell_type": "code",
   "execution_count": null,
   "metadata": {},
   "outputs": [
    {
     "name": "stdout",
     "output_type": "stream",
     "text": [
      "Execute plan called with state plan: ['Which bike type (road, gravel, mountain, hybrid/commuter, or e-bike) best matches the user’s primary use, typical terrain, and priority features (comfort, speed, cargo, range)?', 'Given the chosen bike type and the user’s budget, which 4–6 specific models or build levels are the best options (expected component level, pros/cons, and notes on typical price ranges)?', 'What exact size and fit measurements (reach, stack, saddle height/inseam) and what 8–10 point test-ride / pre-purchase checklist should the buyer use to confirm the bike fits and performs before purchase?']\n",
      "Supervisor called\n",
      "Tool calls detected (1), delegating to subagent.\n",
      "Delegate called\n",
      "Supervisor called\n",
      "Tool calls detected (1), delegating to subagent.\n",
      "Delegate called\n",
      "Tool calls detected (1), invoking tools node.\n",
      "Invoking MCP tool: retrieve_docs with args: {'query': 'bike types road gravel mountain hybrid commuter e-bike tire widths gearing ranges battery watt-hours typical specs', 'top_k': 5}\n"
     ]
    }
   ],
   "source": [
    "thread = {\"configurable\": {\"thread_id\": \"102\"},\n",
    "          \"recursion_limit\": 50, \n",
    "        #   \"callbacks\": [langfuse_handler]\n",
    "          }\n",
    "result = await agentic_rag.ainvoke(\n",
    "    {\n",
    "        \"messages\": [\n",
    "            HumanMessage(content=\"I am looking for a new bike\")\n",
    "        ]\n",
    "    },\n",
    "    config=thread\n",
    ")"
   ]
  },
  {
   "cell_type": "code",
   "execution_count": null,
   "metadata": {},
   "outputs": [],
   "source": [
    "display(Markdown(result[\"final_answer\"]))"
   ]
  },
  {
   "cell_type": "markdown",
   "metadata": {
    "id": "vhlEwUe3FTnX"
   },
   "source": [
    "# References"
   ]
  },
  {
   "cell_type": "markdown",
   "metadata": {
    "id": "u2tGp1YrFVN-"
   },
   "source": [
    "1. [deep_research_from_scratch](https://github.com/langchain-ai/deep_research_from_scratch)\n",
    "2. [workflows and agents](https://github.com/langchain-ai/langgraph/blob/main/docs/docs/tutorials/workflows.md)\n",
    "3. [anthropic-cookbook](https://github.com/anthropics/anthropic-cookbook/tree/main/patterns/agents)\n",
    "4. [Build an MCP Server - Model Context Protocol](https://modelcontextprotocol.io/quickstart/server)\n",
    "5. [Building Effective AI Agents \\ Anthropic](https://www.anthropic.com/engineering/building-effective-agents)\n",
    "6. [How we built our multi-agent research system \\ Anthropic](https://www.anthropic.com/engineering/multi-agent-research-system)\n",
    "7. [Tavily](https://docs.tavily.com/documentation/quickstart)\n",
    "8. [Tools in Langchain](https://python.langchain.com/docs/concepts/tools/)\n",
    "9. [openai agents patterns](https://github.com/openai/openai-agents-python/tree/main/examples/agent_patterns)\n",
    "10. [openai agents guide](https://platform.openai.com/docs/guides/agents)  \n",
    "11. [Schema-Guided Reasoning (SGR)](https://abdullin.com/schema-guided-reasoning/)  \n",
    "12. [Trace and Evaluate LangGraph Agents - Langfuse](https://langfuse.com/guides/cookbook/example_langgraph_agents)  "
   ]
  },
  {
   "cell_type": "markdown",
   "metadata": {},
   "source": []
  }
 ],
 "metadata": {
  "accelerator": "GPU",
  "colab": {
   "gpuType": "T4",
   "machine_shape": "hm",
   "provenance": []
  },
  "kernelspec": {
   "display_name": "agents-workshop",
   "language": "python",
   "name": "python3"
  },
  "language_info": {
   "codemirror_mode": {
    "name": "ipython",
    "version": 3
   },
   "file_extension": ".py",
   "mimetype": "text/x-python",
   "name": "python",
   "nbconvert_exporter": "python",
   "pygments_lexer": "ipython3",
   "version": "3.13.5"
  },
  "widgets": {
   "application/vnd.jupyter.widget-state+json": {
    "0e924dc96652479abfc2c0996634cb63": {
     "model_module": "@jupyter-widgets/controls",
     "model_module_version": "1.5.0",
     "model_name": "ProgressStyleModel",
     "state": {
      "_model_module": "@jupyter-widgets/controls",
      "_model_module_version": "1.5.0",
      "_model_name": "ProgressStyleModel",
      "_view_count": null,
      "_view_module": "@jupyter-widgets/base",
      "_view_module_version": "1.2.0",
      "_view_name": "StyleView",
      "bar_color": null,
      "description_width": ""
     }
    },
    "302979bd439d41c5bba06d06833657c6": {
     "model_module": "@jupyter-widgets/base",
     "model_module_version": "1.2.0",
     "model_name": "LayoutModel",
     "state": {
      "_model_module": "@jupyter-widgets/base",
      "_model_module_version": "1.2.0",
      "_model_name": "LayoutModel",
      "_view_count": null,
      "_view_module": "@jupyter-widgets/base",
      "_view_module_version": "1.2.0",
      "_view_name": "LayoutView",
      "align_content": null,
      "align_items": null,
      "align_self": null,
      "border": null,
      "bottom": null,
      "display": null,
      "flex": null,
      "flex_flow": null,
      "grid_area": null,
      "grid_auto_columns": null,
      "grid_auto_flow": null,
      "grid_auto_rows": null,
      "grid_column": null,
      "grid_gap": null,
      "grid_row": null,
      "grid_template_areas": null,
      "grid_template_columns": null,
      "grid_template_rows": null,
      "height": null,
      "justify_content": null,
      "justify_items": null,
      "left": null,
      "margin": null,
      "max_height": null,
      "max_width": null,
      "min_height": null,
      "min_width": null,
      "object_fit": null,
      "object_position": null,
      "order": null,
      "overflow": null,
      "overflow_x": null,
      "overflow_y": null,
      "padding": null,
      "right": null,
      "top": null,
      "visibility": null,
      "width": null
     }
    },
    "357c50f78f544934bbc4a702bcb90b49": {
     "model_module": "@jupyter-widgets/controls",
     "model_module_version": "1.5.0",
     "model_name": "DescriptionStyleModel",
     "state": {
      "_model_module": "@jupyter-widgets/controls",
      "_model_module_version": "1.5.0",
      "_model_name": "DescriptionStyleModel",
      "_view_count": null,
      "_view_module": "@jupyter-widgets/base",
      "_view_module_version": "1.2.0",
      "_view_name": "StyleView",
      "description_width": ""
     }
    },
    "5b144ad91aea4868adf0a27dad3b7b8e": {
     "model_module": "@jupyter-widgets/controls",
     "model_module_version": "1.5.0",
     "model_name": "HBoxModel",
     "state": {
      "_dom_classes": [],
      "_model_module": "@jupyter-widgets/controls",
      "_model_module_version": "1.5.0",
      "_model_name": "HBoxModel",
      "_view_count": null,
      "_view_module": "@jupyter-widgets/controls",
      "_view_module_version": "1.5.0",
      "_view_name": "HBoxView",
      "box_style": "",
      "children": [
       "IPY_MODEL_7c7bdf998d7842d58e61b14f5a202ec6",
       "IPY_MODEL_6f402227575f44f8a4f06f8801f24a93",
       "IPY_MODEL_e065ca945dd44ee6a41dbe4dac7cc08b"
      ],
      "layout": "IPY_MODEL_8ff116ef99ff4b0aad369dc1af4cad74"
     }
    },
    "6f402227575f44f8a4f06f8801f24a93": {
     "model_module": "@jupyter-widgets/controls",
     "model_module_version": "1.5.0",
     "model_name": "FloatProgressModel",
     "state": {
      "_dom_classes": [],
      "_model_module": "@jupyter-widgets/controls",
      "_model_module_version": "1.5.0",
      "_model_name": "FloatProgressModel",
      "_view_count": null,
      "_view_module": "@jupyter-widgets/controls",
      "_view_module_version": "1.5.0",
      "_view_name": "ProgressView",
      "bar_style": "success",
      "description": "",
      "description_tooltip": null,
      "layout": "IPY_MODEL_f37ffcd3e2d74b0da1780cf3397a15dd",
      "max": 60,
      "min": 0,
      "orientation": "horizontal",
      "style": "IPY_MODEL_0e924dc96652479abfc2c0996634cb63",
      "value": 60
     }
    },
    "7c7bdf998d7842d58e61b14f5a202ec6": {
     "model_module": "@jupyter-widgets/controls",
     "model_module_version": "1.5.0",
     "model_name": "HTMLModel",
     "state": {
      "_dom_classes": [],
      "_model_module": "@jupyter-widgets/controls",
      "_model_module_version": "1.5.0",
      "_model_name": "HTMLModel",
      "_view_count": null,
      "_view_module": "@jupyter-widgets/controls",
      "_view_module_version": "1.5.0",
      "_view_name": "HTMLView",
      "description": "",
      "description_tooltip": null,
      "layout": "IPY_MODEL_f43b1613ffda49efbf8d079fdaac6138",
      "placeholder": "​",
      "style": "IPY_MODEL_b57a9e0324f540c0ac610ae263b94e73",
      "value": "Evaluating: 100%"
     }
    },
    "8ff116ef99ff4b0aad369dc1af4cad74": {
     "model_module": "@jupyter-widgets/base",
     "model_module_version": "1.2.0",
     "model_name": "LayoutModel",
     "state": {
      "_model_module": "@jupyter-widgets/base",
      "_model_module_version": "1.2.0",
      "_model_name": "LayoutModel",
      "_view_count": null,
      "_view_module": "@jupyter-widgets/base",
      "_view_module_version": "1.2.0",
      "_view_name": "LayoutView",
      "align_content": null,
      "align_items": null,
      "align_self": null,
      "border": null,
      "bottom": null,
      "display": null,
      "flex": null,
      "flex_flow": null,
      "grid_area": null,
      "grid_auto_columns": null,
      "grid_auto_flow": null,
      "grid_auto_rows": null,
      "grid_column": null,
      "grid_gap": null,
      "grid_row": null,
      "grid_template_areas": null,
      "grid_template_columns": null,
      "grid_template_rows": null,
      "height": null,
      "justify_content": null,
      "justify_items": null,
      "left": null,
      "margin": null,
      "max_height": null,
      "max_width": null,
      "min_height": null,
      "min_width": null,
      "object_fit": null,
      "object_position": null,
      "order": null,
      "overflow": null,
      "overflow_x": null,
      "overflow_y": null,
      "padding": null,
      "right": null,
      "top": null,
      "visibility": null,
      "width": null
     }
    },
    "b57a9e0324f540c0ac610ae263b94e73": {
     "model_module": "@jupyter-widgets/controls",
     "model_module_version": "1.5.0",
     "model_name": "DescriptionStyleModel",
     "state": {
      "_model_module": "@jupyter-widgets/controls",
      "_model_module_version": "1.5.0",
      "_model_name": "DescriptionStyleModel",
      "_view_count": null,
      "_view_module": "@jupyter-widgets/base",
      "_view_module_version": "1.2.0",
      "_view_name": "StyleView",
      "description_width": ""
     }
    },
    "e065ca945dd44ee6a41dbe4dac7cc08b": {
     "model_module": "@jupyter-widgets/controls",
     "model_module_version": "1.5.0",
     "model_name": "HTMLModel",
     "state": {
      "_dom_classes": [],
      "_model_module": "@jupyter-widgets/controls",
      "_model_module_version": "1.5.0",
      "_model_name": "HTMLModel",
      "_view_count": null,
      "_view_module": "@jupyter-widgets/controls",
      "_view_module_version": "1.5.0",
      "_view_name": "HTMLView",
      "description": "",
      "description_tooltip": null,
      "layout": "IPY_MODEL_302979bd439d41c5bba06d06833657c6",
      "placeholder": "​",
      "style": "IPY_MODEL_357c50f78f544934bbc4a702bcb90b49",
      "value": " 60/60 [00:48&lt;00:00,  1.35it/s]"
     }
    },
    "f37ffcd3e2d74b0da1780cf3397a15dd": {
     "model_module": "@jupyter-widgets/base",
     "model_module_version": "1.2.0",
     "model_name": "LayoutModel",
     "state": {
      "_model_module": "@jupyter-widgets/base",
      "_model_module_version": "1.2.0",
      "_model_name": "LayoutModel",
      "_view_count": null,
      "_view_module": "@jupyter-widgets/base",
      "_view_module_version": "1.2.0",
      "_view_name": "LayoutView",
      "align_content": null,
      "align_items": null,
      "align_self": null,
      "border": null,
      "bottom": null,
      "display": null,
      "flex": null,
      "flex_flow": null,
      "grid_area": null,
      "grid_auto_columns": null,
      "grid_auto_flow": null,
      "grid_auto_rows": null,
      "grid_column": null,
      "grid_gap": null,
      "grid_row": null,
      "grid_template_areas": null,
      "grid_template_columns": null,
      "grid_template_rows": null,
      "height": null,
      "justify_content": null,
      "justify_items": null,
      "left": null,
      "margin": null,
      "max_height": null,
      "max_width": null,
      "min_height": null,
      "min_width": null,
      "object_fit": null,
      "object_position": null,
      "order": null,
      "overflow": null,
      "overflow_x": null,
      "overflow_y": null,
      "padding": null,
      "right": null,
      "top": null,
      "visibility": null,
      "width": null
     }
    },
    "f43b1613ffda49efbf8d079fdaac6138": {
     "model_module": "@jupyter-widgets/base",
     "model_module_version": "1.2.0",
     "model_name": "LayoutModel",
     "state": {
      "_model_module": "@jupyter-widgets/base",
      "_model_module_version": "1.2.0",
      "_model_name": "LayoutModel",
      "_view_count": null,
      "_view_module": "@jupyter-widgets/base",
      "_view_module_version": "1.2.0",
      "_view_name": "LayoutView",
      "align_content": null,
      "align_items": null,
      "align_self": null,
      "border": null,
      "bottom": null,
      "display": null,
      "flex": null,
      "flex_flow": null,
      "grid_area": null,
      "grid_auto_columns": null,
      "grid_auto_flow": null,
      "grid_auto_rows": null,
      "grid_column": null,
      "grid_gap": null,
      "grid_row": null,
      "grid_template_areas": null,
      "grid_template_columns": null,
      "grid_template_rows": null,
      "height": null,
      "justify_content": null,
      "justify_items": null,
      "left": null,
      "margin": null,
      "max_height": null,
      "max_width": null,
      "min_height": null,
      "min_width": null,
      "object_fit": null,
      "object_position": null,
      "order": null,
      "overflow": null,
      "overflow_x": null,
      "overflow_y": null,
      "padding": null,
      "right": null,
      "top": null,
      "visibility": null,
      "width": null
     }
    }
   }
  }
 },
 "nbformat": 4,
 "nbformat_minor": 0
}
